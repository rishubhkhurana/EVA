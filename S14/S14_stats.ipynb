{
  "nbformat": 4,
  "nbformat_minor": 0,
  "metadata": {
    "colab": {
      "name": "S14_stats.ipynb",
      "provenance": [],
      "collapsed_sections": [
        "B0eadV4UEaGs"
      ],
      "authorship_tag": "ABX9TyNXqHcllAe2iqAQWWt7Y3AK",
      "include_colab_link": true
    },
    "kernelspec": {
      "name": "python3",
      "display_name": "Python 3"
    }
  },
  "cells": [
    {
      "cell_type": "markdown",
      "metadata": {
        "id": "view-in-github",
        "colab_type": "text"
      },
      "source": [
        "<a href=\"https://colab.research.google.com/github/rishubhkhurana/EVA/blob/master/S14/S14_stats.ipynb\" target=\"_parent\"><img src=\"https://colab.research.google.com/assets/colab-badge.svg\" alt=\"Open In Colab\"/></a>"
      ]
    },
    {
      "cell_type": "markdown",
      "metadata": {
        "id": "B0eadV4UEaGs",
        "colab_type": "text"
      },
      "source": [
        "## Importing Libs"
      ]
    },
    {
      "cell_type": "code",
      "metadata": {
        "id": "AaSYlX6PEcSY",
        "colab_type": "code",
        "colab": {}
      },
      "source": [
        "import shutil\n",
        "import matplotlib.pyplot as plt\n",
        "import numpy as np\n",
        "import pandas as pd\n",
        "from pathlib import Path\n",
        "from PIL import Image\n",
        "from fastprogress import progress_bar"
      ],
      "execution_count": 0,
      "outputs": []
    },
    {
      "cell_type": "code",
      "metadata": {
        "id": "M8KPsLl0EjRr",
        "colab_type": "code",
        "outputId": "1ebd7e10-34a4-4e9c-ee7a-5aebba004a05",
        "colab": {
          "base_uri": "https://localhost:8080/",
          "height": 121
        }
      },
      "source": [
        "from google.colab import drive\n",
        "drive.mount('/content/gdrive',force_remount=True)"
      ],
      "execution_count": 2,
      "outputs": [
        {
          "output_type": "stream",
          "text": [
            "Go to this URL in a browser: https://accounts.google.com/o/oauth2/auth?client_id=947318989803-6bn6qk8qdgf4n4g3pfee6491hc0brc4i.apps.googleusercontent.com&redirect_uri=urn%3aietf%3awg%3aoauth%3a2.0%3aoob&response_type=code&scope=email%20https%3a%2f%2fwww.googleapis.com%2fauth%2fdocs.test%20https%3a%2f%2fwww.googleapis.com%2fauth%2fdrive%20https%3a%2f%2fwww.googleapis.com%2fauth%2fdrive.photos.readonly%20https%3a%2f%2fwww.googleapis.com%2fauth%2fpeopleapi.readonly\n",
            "\n",
            "Enter your authorization code:\n",
            "··········\n",
            "Mounted at /content/gdrive\n"
          ],
          "name": "stdout"
        }
      ]
    },
    {
      "cell_type": "code",
      "metadata": {
        "id": "cS1mrEoIEu3r",
        "colab_type": "code",
        "colab": {}
      },
      "source": [
        "import zipfile\n",
        "from glob import glob"
      ],
      "execution_count": 0,
      "outputs": []
    },
    {
      "cell_type": "markdown",
      "metadata": {
        "id": "VgKXyRePEXZl",
        "colab_type": "text"
      },
      "source": [
        "## Dataset Stats"
      ]
    },
    {
      "cell_type": "code",
      "metadata": {
        "id": "lZemdzdXEY7-",
        "colab_type": "code",
        "colab": {}
      },
      "source": [
        "all_zipfiles = glob('/content/gdrive/My Drive/Depth/*.zip')"
      ],
      "execution_count": 0,
      "outputs": []
    },
    {
      "cell_type": "code",
      "metadata": {
        "id": "f_8T-Q1WH3pZ",
        "colab_type": "code",
        "outputId": "12318f5a-3069-446b-c414-38384fc15b24",
        "colab": {
          "base_uri": "https://localhost:8080/",
          "height": 185
        }
      },
      "source": [
        "all_zipfiles"
      ],
      "execution_count": 5,
      "outputs": [
        {
          "output_type": "execute_result",
          "data": {
            "text/plain": [
              "['/content/gdrive/My Drive/Depth/images_10.zip',\n",
              " '/content/gdrive/My Drive/Depth/images_20.zip',\n",
              " '/content/gdrive/My Drive/Depth/images_30.zip',\n",
              " '/content/gdrive/My Drive/Depth/images_40.zip',\n",
              " '/content/gdrive/My Drive/Depth/images_50.zip',\n",
              " '/content/gdrive/My Drive/Depth/images_60.zip',\n",
              " '/content/gdrive/My Drive/Depth/images_70.zip',\n",
              " '/content/gdrive/My Drive/Depth/images_80.zip',\n",
              " '/content/gdrive/My Drive/Depth/images_90.zip',\n",
              " '/content/gdrive/My Drive/Depth/images_100.zip']"
            ]
          },
          "metadata": {
            "tags": []
          },
          "execution_count": 5
        }
      ]
    },
    {
      "cell_type": "code",
      "metadata": {
        "id": "KDInIqlGH4oM",
        "colab_type": "code",
        "colab": {}
      },
      "source": [
        "all_csv = glob('/content/gdrive/My Drive/Depth/*.csv')"
      ],
      "execution_count": 0,
      "outputs": []
    },
    {
      "cell_type": "code",
      "metadata": {
        "id": "SVTIUHdWH74u",
        "colab_type": "code",
        "colab": {}
      },
      "source": [
        "info_df = pd.DataFrame()"
      ],
      "execution_count": 0,
      "outputs": []
    },
    {
      "cell_type": "code",
      "metadata": {
        "id": "S-4gftgNH8xl",
        "colab_type": "code",
        "colab": {}
      },
      "source": [
        "for f in all_csv:\n",
        "  temp =pd.read_csv(f)\n",
        "  info_df=info_df.append(temp).reset_index(drop=True)\n",
        "  "
      ],
      "execution_count": 0,
      "outputs": []
    },
    {
      "cell_type": "code",
      "metadata": {
        "id": "Cx7yctzLIKL0",
        "colab_type": "code",
        "outputId": "f459910e-f547-4093-ed28-15bd4bb0dde3",
        "colab": {
          "base_uri": "https://localhost:8080/",
          "height": 34
        }
      },
      "source": [
        "info_df.shape"
      ],
      "execution_count": 9,
      "outputs": [
        {
          "output_type": "execute_result",
          "data": {
            "text/plain": [
              "(400000, 8)"
            ]
          },
          "metadata": {
            "tags": []
          },
          "execution_count": 9
        }
      ]
    },
    {
      "cell_type": "code",
      "metadata": {
        "id": "FRrIFaXmIQL2",
        "colab_type": "code",
        "outputId": "249669be-d1ee-4b38-80c2-4726701378ab",
        "colab": {
          "base_uri": "https://localhost:8080/",
          "height": 383
        }
      },
      "source": [
        "info_df.head()"
      ],
      "execution_count": 10,
      "outputs": [
        {
          "output_type": "execute_result",
          "data": {
            "text/html": [
              "<div>\n",
              "<style scoped>\n",
              "    .dataframe tbody tr th:only-of-type {\n",
              "        vertical-align: middle;\n",
              "    }\n",
              "\n",
              "    .dataframe tbody tr th {\n",
              "        vertical-align: top;\n",
              "    }\n",
              "\n",
              "    .dataframe thead th {\n",
              "        text-align: right;\n",
              "    }\n",
              "</style>\n",
              "<table border=\"1\" class=\"dataframe\">\n",
              "  <thead>\n",
              "    <tr style=\"text-align: right;\">\n",
              "      <th></th>\n",
              "      <th>bg_images</th>\n",
              "      <th>bg_fg_images</th>\n",
              "      <th>fg_masks</th>\n",
              "      <th>bg_names</th>\n",
              "      <th>fg_names</th>\n",
              "      <th>flipped</th>\n",
              "      <th>random_number</th>\n",
              "      <th>depth_images</th>\n",
              "    </tr>\n",
              "  </thead>\n",
              "  <tbody>\n",
              "    <tr>\n",
              "      <th>0</th>\n",
              "      <td>bg_bidx_1.jpg</td>\n",
              "      <td>bg_fg_bidx_1_fidx_1_random_1.jpg</td>\n",
              "      <td>bg_mask_bidx_1_fidx_1_random_1.jpg</td>\n",
              "      <td>/content/gdrive/My Drive/Depth/S14/modern-livi...</td>\n",
              "      <td>/content/gdrive/My Drive/Depth/fg_images/img89...</td>\n",
              "      <td>False</td>\n",
              "      <td>1</td>\n",
              "      <td>bg_depth_bidx_1_fidx_1_random_1.npy</td>\n",
              "    </tr>\n",
              "    <tr>\n",
              "      <th>1</th>\n",
              "      <td>bg_bidx_1.jpg</td>\n",
              "      <td>bg_fg_flipped_bidx_1_fidx_1_random_1.jpg</td>\n",
              "      <td>bg_mask_flipped_bidx_1_fidx_1_random_1.jpg</td>\n",
              "      <td>/content/gdrive/My Drive/Depth/S14/modern-livi...</td>\n",
              "      <td>/content/gdrive/My Drive/Depth/fg_images/img89...</td>\n",
              "      <td>True</td>\n",
              "      <td>1</td>\n",
              "      <td>bg_depth_flipped_bidx_1_fidx_1_random_1.npy</td>\n",
              "    </tr>\n",
              "    <tr>\n",
              "      <th>2</th>\n",
              "      <td>bg_bidx_1.jpg</td>\n",
              "      <td>bg_fg_bidx_1_fidx_1_random_2.jpg</td>\n",
              "      <td>bg_mask_bidx_1_fidx_1_random_2.jpg</td>\n",
              "      <td>/content/gdrive/My Drive/Depth/S14/modern-livi...</td>\n",
              "      <td>/content/gdrive/My Drive/Depth/fg_images/img89...</td>\n",
              "      <td>False</td>\n",
              "      <td>2</td>\n",
              "      <td>bg_depth_bidx_1_fidx_1_random_2.npy</td>\n",
              "    </tr>\n",
              "    <tr>\n",
              "      <th>3</th>\n",
              "      <td>bg_bidx_1.jpg</td>\n",
              "      <td>bg_fg_flipped_bidx_1_fidx_1_random_2.jpg</td>\n",
              "      <td>bg_mask_flipped_bidx_1_fidx_1_random_2.jpg</td>\n",
              "      <td>/content/gdrive/My Drive/Depth/S14/modern-livi...</td>\n",
              "      <td>/content/gdrive/My Drive/Depth/fg_images/img89...</td>\n",
              "      <td>True</td>\n",
              "      <td>2</td>\n",
              "      <td>bg_depth_flipped_bidx_1_fidx_1_random_2.npy</td>\n",
              "    </tr>\n",
              "    <tr>\n",
              "      <th>4</th>\n",
              "      <td>bg_bidx_1.jpg</td>\n",
              "      <td>bg_fg_bidx_1_fidx_1_random_3.jpg</td>\n",
              "      <td>bg_mask_bidx_1_fidx_1_random_3.jpg</td>\n",
              "      <td>/content/gdrive/My Drive/Depth/S14/modern-livi...</td>\n",
              "      <td>/content/gdrive/My Drive/Depth/fg_images/img89...</td>\n",
              "      <td>False</td>\n",
              "      <td>3</td>\n",
              "      <td>bg_depth_bidx_1_fidx_1_random_3.npy</td>\n",
              "    </tr>\n",
              "  </tbody>\n",
              "</table>\n",
              "</div>"
            ],
            "text/plain": [
              "       bg_images  ...                                 depth_images\n",
              "0  bg_bidx_1.jpg  ...          bg_depth_bidx_1_fidx_1_random_1.npy\n",
              "1  bg_bidx_1.jpg  ...  bg_depth_flipped_bidx_1_fidx_1_random_1.npy\n",
              "2  bg_bidx_1.jpg  ...          bg_depth_bidx_1_fidx_1_random_2.npy\n",
              "3  bg_bidx_1.jpg  ...  bg_depth_flipped_bidx_1_fidx_1_random_2.npy\n",
              "4  bg_bidx_1.jpg  ...          bg_depth_bidx_1_fidx_1_random_3.npy\n",
              "\n",
              "[5 rows x 8 columns]"
            ]
          },
          "metadata": {
            "tags": []
          },
          "execution_count": 10
        }
      ]
    },
    {
      "cell_type": "code",
      "metadata": {
        "id": "C5qnDNECcMrE",
        "colab_type": "code",
        "colab": {
          "base_uri": "https://localhost:8080/",
          "height": 299
        },
        "outputId": "faff3a8b-9b28-489b-bdee-b097481908ef"
      },
      "source": [
        "info_df.tail()"
      ],
      "execution_count": 12,
      "outputs": [
        {
          "output_type": "execute_result",
          "data": {
            "text/html": [
              "<div>\n",
              "<style scoped>\n",
              "    .dataframe tbody tr th:only-of-type {\n",
              "        vertical-align: middle;\n",
              "    }\n",
              "\n",
              "    .dataframe tbody tr th {\n",
              "        vertical-align: top;\n",
              "    }\n",
              "\n",
              "    .dataframe thead th {\n",
              "        text-align: right;\n",
              "    }\n",
              "</style>\n",
              "<table border=\"1\" class=\"dataframe\">\n",
              "  <thead>\n",
              "    <tr style=\"text-align: right;\">\n",
              "      <th></th>\n",
              "      <th>bg_images</th>\n",
              "      <th>bg_fg_images</th>\n",
              "      <th>fg_masks</th>\n",
              "      <th>bg_names</th>\n",
              "      <th>fg_names</th>\n",
              "      <th>flipped</th>\n",
              "      <th>random_number</th>\n",
              "      <th>depth_images</th>\n",
              "    </tr>\n",
              "  </thead>\n",
              "  <tbody>\n",
              "    <tr>\n",
              "      <th>399995</th>\n",
              "      <td>bg_bidx_70.jpg</td>\n",
              "      <td>bg_fg_flipped_bidx_70_fidx_100_random_18.jpg</td>\n",
              "      <td>bg_mask_flipped_bidx_70_fidx_100_random_18.jpg</td>\n",
              "      <td>/content/gdrive/My Drive/Depth/S14/JamieNapier...</td>\n",
              "      <td>/content/gdrive/My Drive/Depth/fg_images/img10...</td>\n",
              "      <td>True</td>\n",
              "      <td>18</td>\n",
              "      <td>bg_depth_flipped_bidx_70_fidx_100_random_18.npy</td>\n",
              "    </tr>\n",
              "    <tr>\n",
              "      <th>399996</th>\n",
              "      <td>bg_bidx_70.jpg</td>\n",
              "      <td>bg_fg_bidx_70_fidx_100_random_19.jpg</td>\n",
              "      <td>bg_mask_bidx_70_fidx_100_random_19.jpg</td>\n",
              "      <td>/content/gdrive/My Drive/Depth/S14/JamieNapier...</td>\n",
              "      <td>/content/gdrive/My Drive/Depth/fg_images/img10...</td>\n",
              "      <td>False</td>\n",
              "      <td>19</td>\n",
              "      <td>bg_depth_bidx_70_fidx_100_random_19.npy</td>\n",
              "    </tr>\n",
              "    <tr>\n",
              "      <th>399997</th>\n",
              "      <td>bg_bidx_70.jpg</td>\n",
              "      <td>bg_fg_flipped_bidx_70_fidx_100_random_19.jpg</td>\n",
              "      <td>bg_mask_flipped_bidx_70_fidx_100_random_19.jpg</td>\n",
              "      <td>/content/gdrive/My Drive/Depth/S14/JamieNapier...</td>\n",
              "      <td>/content/gdrive/My Drive/Depth/fg_images/img10...</td>\n",
              "      <td>True</td>\n",
              "      <td>19</td>\n",
              "      <td>bg_depth_flipped_bidx_70_fidx_100_random_19.npy</td>\n",
              "    </tr>\n",
              "    <tr>\n",
              "      <th>399998</th>\n",
              "      <td>bg_bidx_70.jpg</td>\n",
              "      <td>bg_fg_bidx_70_fidx_100_random_20.jpg</td>\n",
              "      <td>bg_mask_bidx_70_fidx_100_random_20.jpg</td>\n",
              "      <td>/content/gdrive/My Drive/Depth/S14/JamieNapier...</td>\n",
              "      <td>/content/gdrive/My Drive/Depth/fg_images/img10...</td>\n",
              "      <td>False</td>\n",
              "      <td>20</td>\n",
              "      <td>bg_depth_bidx_70_fidx_100_random_20.npy</td>\n",
              "    </tr>\n",
              "    <tr>\n",
              "      <th>399999</th>\n",
              "      <td>bg_bidx_70.jpg</td>\n",
              "      <td>bg_fg_flipped_bidx_70_fidx_100_random_20.jpg</td>\n",
              "      <td>bg_mask_flipped_bidx_70_fidx_100_random_20.jpg</td>\n",
              "      <td>/content/gdrive/My Drive/Depth/S14/JamieNapier...</td>\n",
              "      <td>/content/gdrive/My Drive/Depth/fg_images/img10...</td>\n",
              "      <td>True</td>\n",
              "      <td>20</td>\n",
              "      <td>bg_depth_flipped_bidx_70_fidx_100_random_20.npy</td>\n",
              "    </tr>\n",
              "  </tbody>\n",
              "</table>\n",
              "</div>"
            ],
            "text/plain": [
              "             bg_images  ...                                     depth_images\n",
              "399995  bg_bidx_70.jpg  ...  bg_depth_flipped_bidx_70_fidx_100_random_18.npy\n",
              "399996  bg_bidx_70.jpg  ...          bg_depth_bidx_70_fidx_100_random_19.npy\n",
              "399997  bg_bidx_70.jpg  ...  bg_depth_flipped_bidx_70_fidx_100_random_19.npy\n",
              "399998  bg_bidx_70.jpg  ...          bg_depth_bidx_70_fidx_100_random_20.npy\n",
              "399999  bg_bidx_70.jpg  ...  bg_depth_flipped_bidx_70_fidx_100_random_20.npy\n",
              "\n",
              "[5 rows x 8 columns]"
            ]
          },
          "metadata": {
            "tags": []
          },
          "execution_count": 12
        }
      ]
    },
    {
      "cell_type": "markdown",
      "metadata": {
        "id": "kRQg-bwoIwJf",
        "colab_type": "text"
      },
      "source": [
        "How many different files for bg, bg_fg, masks and depth?\n",
        "Two ways to find out--\n",
        "\n",
        "1. Read from dataframe stored during file creation\n",
        "\n",
        "2. Open all zipfiles one by one and then count the number of actual files stored\n",
        "\n",
        "Let's do it both ways."
      ]
    },
    {
      "cell_type": "code",
      "metadata": {
        "id": "ewUmxi-xIXV1",
        "colab_type": "code",
        "outputId": "e42a4360-5d3c-4825-c808-7cc77f33076e",
        "colab": {
          "base_uri": "https://localhost:8080/",
          "height": 101
        }
      },
      "source": [
        "print(f\"Number of unique background files stored in info dataframe:{info_df['bg_images'].nunique()}\")\n",
        "print(f\"Number of unique background_foreground images files stored in info dataframe:{info_df['bg_fg_images'].nunique()}\")\n",
        "print(f\"Number of unique foreground images files stored in info dataframe:{info_df['fg_names'].nunique()}\")\n",
        "print(f\"Number of unique foreground masks images files stored in info dataframe:{info_df['fg_masks'].nunique()}\")\n",
        "print(f\"Number of unique depth images files stored in info dataframe:{info_df['depth_images'].nunique()}\")"
      ],
      "execution_count": 11,
      "outputs": [
        {
          "output_type": "stream",
          "text": [
            "Number of unique background files stored in info dataframe:70\n",
            "Number of unique background_foreground images files stored in info dataframe:280000\n",
            "Number of unique foreground images files stored in info dataframe:100\n",
            "Number of unique foreground masks images files stored in info dataframe:280000\n",
            "Number of unique depth images files stored in info dataframe:280000\n"
          ],
          "name": "stdout"
        }
      ]
    },
    {
      "cell_type": "markdown",
      "metadata": {
        "id": "AhJlxpitLgmu",
        "colab_type": "text"
      },
      "source": [
        "While we read the files and confirm how many distinct files we have stored, let's plot few of them along the way and also compute mean,std"
      ]
    },
    {
      "cell_type": "code",
      "metadata": {
        "id": "jpnGiCu8KSnK",
        "colab_type": "code",
        "colab": {
          "base_uri": "https://localhost:8080/",
          "height": 423
        },
        "outputId": "82a9f522-2b4b-4ab0-e9d2-a6eb149249da"
      },
      "source": [
        "depth_imgs_total=np.zeros(3)\n",
        "depth_imgs_sq=np.zeros(3)\n",
        "bg_fg = np.zeros(3)\n",
        "bg_fg_sq = np.zeros(3)\n",
        "bg_masks = np.zeros(1)\n",
        "bg_masks_sq = np.zeros(1)\n",
        "bg_images = np.zeros(3)\n",
        "bg_images_sq = np.zeros(3)\n",
        "bg_depth = np.zeros(1)\n",
        "bg_depth_sq = np.zeros(1)\n",
        "all_bg_files=0\n",
        "all_bg_fg_files=0\n",
        "all_depth_files=0\n",
        "all_masks_files=0\n",
        "\n",
        "for i,zfname in enumerate(progress_bar(all_zipfiles[:])):\n",
        "\n",
        "  print(f\"Extracting files from the path: {zfname}\")\n",
        "  f=zipfile.ZipFile(zfname)\n",
        "  f.extractall()\n",
        "  print(f\"extracted all files from path:{zfname}\")\n",
        "  print(f\"Reading background files\")\n",
        "  temp_path = Path('./bg_images')\n",
        "  flist = list(temp_path.iterdir())\n",
        "  bg_files_pergroup = len(flist)\n",
        "  all_bg_files+=len(flist)\n",
        "  temp_mean=0\n",
        "  temp_sq=0\n",
        "  for f in flist:\n",
        "    temp = np.array(Image.open(f))\n",
        "    temp_mean+=temp.mean((0,1))\n",
        "    temp_sq+=(temp**2).mean((0,1))\n",
        "  bg_images+=temp_mean/bg_files_pergroup\n",
        "  bg_images_sq+=temp_sq/bg_files_pergroup\n",
        "  print(\"-------------------------------\")\n",
        "  print(f\"Reading background foreground files\")\n",
        "  temp_path = Path('./bg_fg_images')\n",
        "  flist = list(temp_path.iterdir())\n",
        "  bg_fg_files_pergroup = len(flist)\n",
        "  all_bg_fg_files+=len(flist) \n",
        "  temp_mean=0\n",
        "  temp_sq=0\n",
        "  for f in flist:\n",
        "    temp = np.array(Image.open(f))\n",
        "    temp_mean+=temp.mean((0,1))\n",
        "    temp_sq+=(temp**2).mean((0,1))\n",
        "  bg_fg+=temp_mean/bg_fg_files_pergroup\n",
        "  bg_fg_sq+=temp_sq/bg_fg_files_pergroup\n",
        "  print(\"-------------------------------\")\n",
        "  print(f\"Reading masks  files\")\n",
        "  temp_path = Path('./bg_masks')\n",
        "  flist = list(temp_path.iterdir())\n",
        "  masks_pergroup = len(flist)\n",
        "  all_masks_files+=len(flist)  \n",
        "  temp_mean=0\n",
        "  temp_sq=0\n",
        "  for f in flist:\n",
        "    temp = np.array(Image.open(f))\n",
        "    temp_mean+=temp.mean((0,1))\n",
        "    temp_sq+=(temp**2).mean((0,1))\n",
        "  bg_masks+=temp_mean/masks_pergroup\n",
        "  bg_masks_sq+=temp_sq/masks_pergroup\n",
        "  print(\"-------------------------------\")\n",
        "  print(f\"Reading depth  files\")\n",
        "  temp_path = Path('./bg_fg_depth_images')\n",
        "  flist = list(temp_path.iterdir())\n",
        "  depths_pergroup=len(flist)\n",
        "  all_depth_files+=len(flist) \n",
        "  temp_mean=0\n",
        "  temp_sq=0\n",
        "  for f in flist:\n",
        "    temp = np.load(f)\n",
        "    temp_mean+=temp.mean((0,1))\n",
        "    temp_sq+=(temp**2).mean((0,1))\n",
        "  bg_depth+=temp_mean/depths_pergroup\n",
        "  bg_depth_sq+=temp_sq/depths_pergroup\n",
        "  shutil.rmtree('./bg_fg_images')\n",
        "  shutil.rmtree('./bg_fg_depth_images')\n",
        "  shutil.rmtree('./bg_masks')\n",
        "  shutil.rmtree('./bg_images')\n"
      ],
      "execution_count": 0,
      "outputs": [
        {
          "output_type": "display_data",
          "data": {
            "text/html": [
              "\n",
              "    <div>\n",
              "        <style>\n",
              "            /* Turns off some styling */\n",
              "            progress {\n",
              "                /* gets rid of default border in Firefox and Opera. */\n",
              "                border: none;\n",
              "                /* Needs to be in here for Safari polyfill so background images work as expected. */\n",
              "                background-size: auto;\n",
              "            }\n",
              "            .progress-bar-interrupted, .progress-bar-interrupted::-webkit-progress-bar {\n",
              "                background: #F44336;\n",
              "            }\n",
              "        </style>\n",
              "      <progress value='2' class='' max='10' style='width:300px; height:20px; vertical-align: middle;'></progress>\n",
              "      20.00% [2/10 10:00<40:00]\n",
              "    </div>\n",
              "    "
            ],
            "text/plain": [
              "<IPython.core.display.HTML object>"
            ]
          },
          "metadata": {
            "tags": []
          }
        },
        {
          "output_type": "stream",
          "text": [
            "Extracting files from the path: /content/gdrive/My Drive/Depth/images_10.zip\n",
            "extracted all files from path:/content/gdrive/My Drive/Depth/images_10.zip\n",
            "Reading background files\n",
            "-------------------------------\n",
            "Reading background foreground files\n",
            "-------------------------------\n",
            "Reading masks  files\n",
            "-------------------------------\n",
            "Reading depth  files\n",
            "Extracting files from the path: /content/gdrive/My Drive/Depth/images_20.zip\n",
            "extracted all files from path:/content/gdrive/My Drive/Depth/images_20.zip\n",
            "Reading background files\n",
            "-------------------------------\n",
            "Reading background foreground files\n",
            "-------------------------------\n",
            "Reading masks  files\n",
            "-------------------------------\n",
            "Reading depth  files\n",
            "Extracting files from the path: /content/gdrive/My Drive/Depth/images_30.zip\n",
            "extracted all files from path:/content/gdrive/My Drive/Depth/images_30.zip\n",
            "Reading background files\n",
            "-------------------------------\n",
            "Reading background foreground files\n"
          ],
          "name": "stdout"
        }
      ]
    },
    {
      "cell_type": "code",
      "metadata": {
        "id": "3CQxuKVuMkbM",
        "colab_type": "code",
        "colab": {}
      },
      "source": [
        "zf = zipfile.ZipFile(all_zipfiles[0])\n",
        "flist = zf.infolist()"
      ],
      "execution_count": 0,
      "outputs": []
    },
    {
      "cell_type": "code",
      "metadata": {
        "id": "moBGfmU0MoxO",
        "colab_type": "code",
        "colab": {
          "base_uri": "https://localhost:8080/",
          "height": 34
        },
        "outputId": "4a3e1cee-ecfa-47de-bb31-adcba0b7e2cb"
      },
      "source": [
        "bg_images"
      ],
      "execution_count": 36,
      "outputs": [
        {
          "output_type": "execute_result",
          "data": {
            "text/plain": [
              "array([1578.2640625 , 1479.25506944, 1387.45027778])"
            ]
          },
          "metadata": {
            "tags": []
          },
          "execution_count": 36
        }
      ]
    },
    {
      "cell_type": "code",
      "metadata": {
        "id": "Nuexlev6MsZ2",
        "colab_type": "code",
        "colab": {
          "base_uri": "https://localhost:8080/",
          "height": 34
        },
        "outputId": "082e0780-e711-4a21-e167-c56c5a7cc975"
      },
      "source": [
        "all_bg_files"
      ],
      "execution_count": 34,
      "outputs": [
        {
          "output_type": "execute_result",
          "data": {
            "text/plain": [
              "10"
            ]
          },
          "metadata": {
            "tags": []
          },
          "execution_count": 34
        }
      ]
    },
    {
      "cell_type": "code",
      "metadata": {
        "id": "YiLmfgbbs9FV",
        "colab_type": "code",
        "colab": {
          "base_uri": "https://localhost:8080/",
          "height": 34
        },
        "outputId": "26e0b04b-d2a3-4a7c-cf97-ddc2cbf44146"
      },
      "source": [
        "!ls"
      ],
      "execution_count": 47,
      "outputs": [
        {
          "output_type": "stream",
          "text": [
            "bg_fg_depth_images  bg_fg_images  bg_images  bg_masks  gdrive  sample_data\n"
          ],
          "name": "stdout"
        }
      ]
    },
    {
      "cell_type": "code",
      "metadata": {
        "id": "7wQrkGnWtKzI",
        "colab_type": "code",
        "colab": {}
      },
      "source": [
        "\n",
        "import shutil\n",
        "shutil.rmtree('./bg_fg_images')"
      ],
      "execution_count": 0,
      "outputs": []
    },
    {
      "cell_type": "code",
      "metadata": {
        "id": "W_ViTA-AtORi",
        "colab_type": "code",
        "colab": {}
      },
      "source": [
        ""
      ],
      "execution_count": 0,
      "outputs": []
    }
  ]
}