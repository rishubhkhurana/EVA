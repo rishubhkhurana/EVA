{
 "cells": [
  {
   "cell_type": "markdown",
   "metadata": {},
   "source": [
    "## ResNet on CiFar-10 "
   ]
  },
  {
   "cell_type": "markdown",
   "metadata": {},
   "source": [
    "### Import Libraries "
   ]
  },
  {
   "cell_type": "code",
   "execution_count": 1,
   "metadata": {},
   "outputs": [],
   "source": [
    "%load_ext autoreload\n",
    "%autoreload 2\n",
    "%matplotlib inline"
   ]
  },
  {
   "cell_type": "code",
   "execution_count": 2,
   "metadata": {},
   "outputs": [],
   "source": [
    "import torch\n",
    "import torch.nn as nn\n",
    "import torch.nn.functional as F\n",
    "import torchvision.utils as vutils\n",
    "import numpy as np\n",
    "import torchvision.datasets as dsets\n",
    "from PIL import Image\n",
    "from torchsummary import summary\n",
    "import torch.optim as optim\n",
    "from torch.optim.lr_scheduler import StepLR,CosineAnnealingLR,OneCycleLR,ReduceLROnPlateau"
   ]
  },
  {
   "cell_type": "code",
   "execution_count": 3,
   "metadata": {},
   "outputs": [],
   "source": [
    "from train import *\n",
    "from layers import *\n",
    "from plots import *\n",
    "from vision_dataloaders import *\n",
    "from test import *\n",
    "from models import *"
   ]
  },
  {
   "cell_type": "code",
   "execution_count": 4,
   "metadata": {},
   "outputs": [],
   "source": [
    "torch.Tensor.stats = lambda x: (x.mean(),x.std())"
   ]
  },
  {
   "cell_type": "markdown",
   "metadata": {},
   "source": [
    "### Load Data"
   ]
  },
  {
   "cell_type": "code",
   "execution_count": 5,
   "metadata": {},
   "outputs": [],
   "source": [
    "tfm_names = ['tensor']\n",
    "tfms = create_transform(tfm_names)"
   ]
  },
  {
   "cell_type": "code",
   "execution_count": 6,
   "metadata": {},
   "outputs": [
    {
     "name": "stdout",
     "output_type": "stream",
     "text": [
      "Downloading https://www.cs.toronto.edu/~kriz/cifar-10-python.tar.gz to ./data/cifar-10-python.tar.gz\n"
     ]
    },
    {
     "data": {
      "application/vnd.jupyter.widget-view+json": {
       "model_id": "b46dbe0d0baa4a5bb7ab80352de99199",
       "version_major": 2,
       "version_minor": 0
      },
      "text/plain": [
       "HBox(children=(FloatProgress(value=1.0, bar_style='info', max=1.0), HTML(value='')))"
      ]
     },
     "metadata": {},
     "output_type": "display_data"
    },
    {
     "name": "stdout",
     "output_type": "stream",
     "text": [
      "Extracting ./data/cifar-10-python.tar.gz to ./data\n"
     ]
    }
   ],
   "source": [
    "data = VisionData().load(tfms=tfms)"
   ]
  },
  {
   "cell_type": "code",
   "execution_count": 7,
   "metadata": {},
   "outputs": [],
   "source": [
    "u,s=data.data.mean((0,1,2))/255,np.std(data.data,(0,1,2),ddof=1)/255"
   ]
  },
  {
   "cell_type": "code",
   "execution_count": 8,
   "metadata": {},
   "outputs": [],
   "source": [
    "tfm_names = ['crop','hflip','rotate','tensor','normalize']\n",
    "tfms = create_transform(tfm_names,norm_constants=(u,s),angle=5,padding=4,size=32)"
   ]
  },
  {
   "cell_type": "code",
   "execution_count": 9,
   "metadata": {},
   "outputs": [
    {
     "data": {
      "text/plain": [
       "Compose(\n",
       "    RandomCrop(size=(32, 32), padding=4)\n",
       "    RandomHorizontalFlip(p=0.5)\n",
       "    RandomRotation(degrees=(-5, 5), resample=False, expand=False)\n",
       "    ToTensor()\n",
       "    Normalize(mean=[0.49139968 0.48215841 0.44653091], std=[0.24703223 0.24348513 0.26158784])\n",
       ")"
      ]
     },
     "execution_count": 9,
     "metadata": {},
     "output_type": "execute_result"
    }
   ],
   "source": [
    "tfms"
   ]
  },
  {
   "cell_type": "code",
   "execution_count": 10,
   "metadata": {},
   "outputs": [
    {
     "name": "stdout",
     "output_type": "stream",
     "text": [
      "Files already downloaded and verified\n",
      "Files already downloaded and verified\n"
     ]
    }
   ],
   "source": [
    "train_data = VisionData().load(tfms=tfms,train=True)\n",
    "test_data = VisionData().load(tfms=tfms,train=False)"
   ]
  },
  {
   "cell_type": "code",
   "execution_count": 11,
   "metadata": {},
   "outputs": [
    {
     "data": {
      "text/plain": [
       "(50000, 10000)"
      ]
     },
     "execution_count": 11,
     "metadata": {},
     "output_type": "execute_result"
    }
   ],
   "source": [
    "len(train_data),len(test_data)"
   ]
  },
  {
   "cell_type": "code",
   "execution_count": 12,
   "metadata": {},
   "outputs": [],
   "source": [
    "BS=128"
   ]
  },
  {
   "cell_type": "code",
   "execution_count": 13,
   "metadata": {},
   "outputs": [],
   "source": [
    "trn_dl,tst_dl=getTrainTestLoader([train_data,test_data],BS=BS)\n"
   ]
  },
  {
   "cell_type": "code",
   "execution_count": 14,
   "metadata": {},
   "outputs": [
    {
     "data": {
      "text/plain": [
       "(391, 40)"
      ]
     },
     "execution_count": 14,
     "metadata": {},
     "output_type": "execute_result"
    }
   ],
   "source": [
    "len(trn_dl),len(tst_dl)"
   ]
  },
  {
   "cell_type": "markdown",
   "metadata": {},
   "source": [
    "### Show Images"
   ]
  },
  {
   "cell_type": "code",
   "execution_count": 15,
   "metadata": {},
   "outputs": [
    {
     "name": "stdout",
     "output_type": "stream",
     "text": [
      "Files already downloaded and verified\n"
     ]
    }
   ],
   "source": [
    "trial_data = VisionData().load(tfms=transforms.Compose([transforms.RandomCrop(32,padding=4,padding_mode='reflect'),transforms.ToTensor()]),train=False)\n"
   ]
  },
  {
   "cell_type": "code",
   "execution_count": 16,
   "metadata": {},
   "outputs": [],
   "source": [
    "trial_data.data=np.repeat(trial_data.data[1][np.newaxis,...],64,axis=0)\n",
    "trial_data.targets = [trial_data.targets[1]]*64"
   ]
  },
  {
   "cell_type": "code",
   "execution_count": 17,
   "metadata": {},
   "outputs": [],
   "source": [
    "trial_dl = DataLoader(trial_data,batch_size=8,shuffle=False)"
   ]
  },
  {
   "cell_type": "code",
   "execution_count": 18,
   "metadata": {},
   "outputs": [
    {
     "data": {
      "image/png": "[encoded data removed]",
      "text/plain": [
       "<Figure size 864x864 with 1 Axes>"
      ]
     },
     "metadata": {
      "needs_background": "light"
     },
     "output_type": "display_data"
    }
   ],
   "source": [
    "show_batch(trial_dl,rows=8)"
   ]
  },
  {
   "cell_type": "code",
   "execution_count": 19,
   "metadata": {},
   "outputs": [
    {
     "name": "stdout",
     "output_type": "stream",
     "text": [
      "Files already downloaded and verified\n"
     ]
    }
   ],
   "source": [
    "trial_data = VisionData().load(tfms=transforms.Compose([transforms.RandomRotation(15),transforms.ToTensor()]),train=False)\n",
    "trial_data.data=np.repeat(trial_data.data[1][np.newaxis,...],64,axis=0)\n",
    "trial_data.targets = [trial_data.targets[1]]*64"
   ]
  },
  {
   "cell_type": "code",
   "execution_count": 20,
   "metadata": {},
   "outputs": [],
   "source": [
    "trial_dl = DataLoader(trial_data,batch_size=8,shuffle=False)"
   ]
  },
  {
   "cell_type": "code",
   "execution_count": 21,
   "metadata": {},
   "outputs": [
    {
     "data": {
      "image/png": "[encoded data removed]",
      "text/plain": [
       "<Figure size 864x864 with 1 Axes>"
      ]
     },
     "metadata": {
      "needs_background": "light"
     },
     "output_type": "display_data"
    }
   ],
   "source": [
    "show_batch(trial_dl,rows=8)"
   ]
  },
  {
   "cell_type": "code",
   "execution_count": 22,
   "metadata": {},
   "outputs": [
    {
     "name": "stdout",
     "output_type": "stream",
     "text": [
      "Files already downloaded and verified\n"
     ]
    }
   ],
   "source": [
    "trial_data = VisionData().load(tfms=transforms.Compose([transforms.RandomHorizontalFlip(),transforms.ToTensor()]),train=False)\n",
    "trial_data.data=np.repeat(trial_data.data[1][np.newaxis,...],64,axis=0)\n",
    "trial_data.targets = [trial_data.targets[1]]*64"
   ]
  },
  {
   "cell_type": "code",
   "execution_count": 23,
   "metadata": {},
   "outputs": [],
   "source": [
    "trial_dl = DataLoader(trial_data,batch_size=8,shuffle=False)"
   ]
  },
  {
   "cell_type": "code",
   "execution_count": 24,
   "metadata": {},
   "outputs": [
    {
     "data": {
      "image/png": "[encoded data removed]",
      "text/plain": [
       "<Figure size 864x864 with 1 Axes>"
      ]
     },
     "metadata": {
      "needs_background": "light"
     },
     "output_type": "display_data"
    }
   ],
   "source": [
    "show_batch(trial_dl,rows=8)"
   ]
  },
  {
   "cell_type": "code",
   "execution_count": null,
   "metadata": {},
   "outputs": [],
   "source": []
  },
  {
   "cell_type": "markdown",
   "metadata": {},
   "source": [
    "### Defining Model "
   ]
  },
  {
   "cell_type": "code",
   "execution_count": 25,
   "metadata": {},
   "outputs": [],
   "source": [
    "model = ResNet(drop=True,p=0.05).cuda()\n"
   ]
  },
  {
   "cell_type": "code",
   "execution_count": 26,
   "metadata": {
    "scrolled": true
   },
   "outputs": [],
   "source": [
    "#model"
   ]
  },
  {
   "cell_type": "code",
   "execution_count": 27,
   "metadata": {
    "scrolled": true
   },
   "outputs": [
    {
     "name": "stdout",
     "output_type": "stream",
     "text": [
      "----------------------------------------------------------------\n",
      "        Layer (type)               Output Shape         Param #\n",
      "================================================================\n",
      "            Conv2d-1           [-1, 64, 32, 32]           1,792\n",
      "       BatchNorm2d-2           [-1, 64, 32, 32]             128\n",
      "              ReLU-3           [-1, 64, 32, 32]               0\n",
      "           Dropout-4           [-1, 64, 32, 32]               0\n",
      "         ConvLayer-5           [-1, 64, 32, 32]               0\n",
      "            Conv2d-6           [-1, 64, 32, 32]          36,928\n",
      "       BatchNorm2d-7           [-1, 64, 32, 32]             128\n",
      "              ReLU-8           [-1, 64, 32, 32]               0\n",
      "           Dropout-9           [-1, 64, 32, 32]               0\n",
      "        ConvLayer-10           [-1, 64, 32, 32]               0\n",
      "           Conv2d-11           [-1, 64, 32, 32]          36,928\n",
      "      BatchNorm2d-12           [-1, 64, 32, 32]             128\n",
      "          Dropout-13           [-1, 64, 32, 32]               0\n",
      "        ConvLayer-14           [-1, 64, 32, 32]               0\n",
      "         ResBlock-15           [-1, 64, 32, 32]               0\n",
      "           Conv2d-16           [-1, 64, 32, 32]          36,928\n",
      "      BatchNorm2d-17           [-1, 64, 32, 32]             128\n",
      "             ReLU-18           [-1, 64, 32, 32]               0\n",
      "          Dropout-19           [-1, 64, 32, 32]               0\n",
      "        ConvLayer-20           [-1, 64, 32, 32]               0\n",
      "           Conv2d-21           [-1, 64, 32, 32]          36,928\n",
      "      BatchNorm2d-22           [-1, 64, 32, 32]             128\n",
      "          Dropout-23           [-1, 64, 32, 32]               0\n",
      "        ConvLayer-24           [-1, 64, 32, 32]               0\n",
      "         ResBlock-25           [-1, 64, 32, 32]               0\n",
      "           Conv2d-26          [-1, 128, 16, 16]          73,856\n",
      "      BatchNorm2d-27          [-1, 128, 16, 16]             256\n",
      "             ReLU-28          [-1, 128, 16, 16]               0\n",
      "          Dropout-29          [-1, 128, 16, 16]               0\n",
      "        ConvLayer-30          [-1, 128, 16, 16]               0\n",
      "           Conv2d-31          [-1, 128, 16, 16]         147,584\n",
      "      BatchNorm2d-32          [-1, 128, 16, 16]             256\n",
      "          Dropout-33          [-1, 128, 16, 16]               0\n",
      "        ConvLayer-34          [-1, 128, 16, 16]               0\n",
      "           Conv2d-35          [-1, 128, 16, 16]           8,320\n",
      "      BatchNorm2d-36          [-1, 128, 16, 16]             256\n",
      "        ConvLayer-37          [-1, 128, 16, 16]               0\n",
      "         ResBlock-38          [-1, 128, 16, 16]               0\n",
      "           Conv2d-39          [-1, 128, 16, 16]         147,584\n",
      "      BatchNorm2d-40          [-1, 128, 16, 16]             256\n",
      "             ReLU-41          [-1, 128, 16, 16]               0\n",
      "          Dropout-42          [-1, 128, 16, 16]               0\n",
      "        ConvLayer-43          [-1, 128, 16, 16]               0\n",
      "           Conv2d-44          [-1, 128, 16, 16]         147,584\n",
      "      BatchNorm2d-45          [-1, 128, 16, 16]             256\n",
      "          Dropout-46          [-1, 128, 16, 16]               0\n",
      "        ConvLayer-47          [-1, 128, 16, 16]               0\n",
      "         ResBlock-48          [-1, 128, 16, 16]               0\n",
      "           Conv2d-49            [-1, 256, 8, 8]         295,168\n",
      "      BatchNorm2d-50            [-1, 256, 8, 8]             512\n",
      "             ReLU-51            [-1, 256, 8, 8]               0\n",
      "          Dropout-52            [-1, 256, 8, 8]               0\n",
      "        ConvLayer-53            [-1, 256, 8, 8]               0\n",
      "           Conv2d-54            [-1, 256, 8, 8]         590,080\n",
      "      BatchNorm2d-55            [-1, 256, 8, 8]             512\n",
      "          Dropout-56            [-1, 256, 8, 8]               0\n",
      "        ConvLayer-57            [-1, 256, 8, 8]               0\n",
      "           Conv2d-58            [-1, 256, 8, 8]          33,024\n",
      "      BatchNorm2d-59            [-1, 256, 8, 8]             512\n",
      "        ConvLayer-60            [-1, 256, 8, 8]               0\n",
      "         ResBlock-61            [-1, 256, 8, 8]               0\n",
      "           Conv2d-62            [-1, 256, 8, 8]         590,080\n",
      "      BatchNorm2d-63            [-1, 256, 8, 8]             512\n",
      "             ReLU-64            [-1, 256, 8, 8]               0\n",
      "          Dropout-65            [-1, 256, 8, 8]               0\n",
      "        ConvLayer-66            [-1, 256, 8, 8]               0\n",
      "           Conv2d-67            [-1, 256, 8, 8]         590,080\n",
      "      BatchNorm2d-68            [-1, 256, 8, 8]             512\n",
      "          Dropout-69            [-1, 256, 8, 8]               0\n",
      "        ConvLayer-70            [-1, 256, 8, 8]               0\n",
      "         ResBlock-71            [-1, 256, 8, 8]               0\n",
      "           Conv2d-72            [-1, 512, 4, 4]       1,180,160\n",
      "      BatchNorm2d-73            [-1, 512, 4, 4]           1,024\n",
      "             ReLU-74            [-1, 512, 4, 4]               0\n",
      "          Dropout-75            [-1, 512, 4, 4]               0\n",
      "        ConvLayer-76            [-1, 512, 4, 4]               0\n",
      "           Conv2d-77            [-1, 512, 4, 4]       2,359,808\n",
      "      BatchNorm2d-78            [-1, 512, 4, 4]           1,024\n",
      "          Dropout-79            [-1, 512, 4, 4]               0\n",
      "        ConvLayer-80            [-1, 512, 4, 4]               0\n",
      "           Conv2d-81            [-1, 512, 4, 4]         131,584\n",
      "      BatchNorm2d-82            [-1, 512, 4, 4]           1,024\n",
      "        ConvLayer-83            [-1, 512, 4, 4]               0\n",
      "         ResBlock-84            [-1, 512, 4, 4]               0\n",
      "           Conv2d-85            [-1, 512, 4, 4]       2,359,808\n",
      "      BatchNorm2d-86            [-1, 512, 4, 4]           1,024\n",
      "             ReLU-87            [-1, 512, 4, 4]               0\n",
      "          Dropout-88            [-1, 512, 4, 4]               0\n",
      "        ConvLayer-89            [-1, 512, 4, 4]               0\n",
      "           Conv2d-90            [-1, 512, 4, 4]       2,359,808\n",
      "      BatchNorm2d-91            [-1, 512, 4, 4]           1,024\n",
      "          Dropout-92            [-1, 512, 4, 4]               0\n",
      "        ConvLayer-93            [-1, 512, 4, 4]               0\n",
      "         ResBlock-94            [-1, 512, 4, 4]               0\n",
      "AdaptiveAvgPool2d-95            [-1, 512, 1, 1]               0\n",
      "           Conv2d-96             [-1, 10, 1, 1]           5,130\n",
      "        ConvLayer-97             [-1, 10, 1, 1]               0\n",
      "================================================================\n",
      "Total params: 11,178,762\n",
      "Trainable params: 11,178,762\n",
      "Non-trainable params: 0\n",
      "----------------------------------------------------------------\n",
      "Input size (MB): 0.01\n",
      "Forward/backward pass size (MB): 22.57\n",
      "Params size (MB): 42.64\n",
      "Estimated Total Size (MB): 65.22\n",
      "----------------------------------------------------------------\n"
     ]
    }
   ],
   "source": [
    "summary(model,input_size=(3,32,32))"
   ]
  },
  {
   "cell_type": "markdown",
   "metadata": {},
   "source": [
    "### Training "
   ]
  },
  {
   "cell_type": "code",
   "execution_count": 28,
   "metadata": {},
   "outputs": [],
   "source": [
    "opt = optim.SGD(model.parameters(),lr=1e-3,momentum=0.9)\n",
    "sched = StepLR(opt,15,gamma=0.3)\n",
    "dls={}\n",
    "dls['train']=trn_dl\n",
    "dls['valid']=tst_dl\n",
    "loss_func = nn.CrossEntropyLoss()"
   ]
  },
  {
   "cell_type": "code",
   "execution_count": null,
   "metadata": {
    "scrolled": true
   },
   "outputs": [
    {
     "name": "stderr",
     "output_type": "stream",
     "text": [
      "Training Loss:1.497, Training Acc:40.000: 100%|██████████| 391/391 [00:35<00:00, 11.08it/s]\n"
     ]
    },
    {
     "data": {
      "application/vnd.jupyter.widget-view+json": {
       "model_id": "87e0cfe48ed24cc79e965e721bb4aa1e",
       "version_major": 2,
       "version_minor": 0
      },
      "text/plain": [
       "HBox(children=(FloatProgress(value=0.0, max=40.0), HTML(value='')))"
      ]
     },
     "metadata": {},
     "output_type": "display_data"
    },
    {
     "name": "stderr",
     "output_type": "stream",
     "text": [
      "\r",
      "  0%|          | 0/391 [00:00<?, ?it/s]"
     ]
    },
    {
     "name": "stdout",
     "output_type": "stream",
     "text": [
      "\n",
      "[0/40]--> Training Loss:1.683, Training Accuracy:37.256, Validation Loss:1.419, Validation Accuracy:48.080\n"
     ]
    },
    {
     "name": "stderr",
     "output_type": "stream",
     "text": [
      "Training Loss:1.054, Training Acc:58.750: 100%|██████████| 391/391 [00:35<00:00, 11.01it/s]\n"
     ]
    },
    {
     "data": {
      "application/vnd.jupyter.widget-view+json": {
       "model_id": "6945ed1535974c5f96bfafb927058f08",
       "version_major": 2,
       "version_minor": 0
      },
      "text/plain": [
       "HBox(children=(FloatProgress(value=0.0, max=40.0), HTML(value='')))"
      ]
     },
     "metadata": {},
     "output_type": "display_data"
    },
    {
     "name": "stderr",
     "output_type": "stream",
     "text": [
      "\r",
      "  0%|          | 0/391 [00:00<?, ?it/s]"
     ]
    },
    {
     "name": "stdout",
     "output_type": "stream",
     "text": [
      "\n",
      "[1/40]--> Training Loss:1.280, Training Accuracy:53.380, Validation Loss:1.197, Validation Accuracy:57.440\n"
     ]
    },
    {
     "name": "stderr",
     "output_type": "stream",
     "text": [
      "Training Loss:1.043, Training Acc:66.250: 100%|██████████| 391/391 [00:35<00:00, 11.00it/s]\n"
     ]
    },
    {
     "data": {
      "application/vnd.jupyter.widget-view+json": {
       "model_id": "fa3c960b22494168bc1436003c6b34dd",
       "version_major": 2,
       "version_minor": 0
      },
      "text/plain": [
       "HBox(children=(FloatProgress(value=0.0, max=40.0), HTML(value='')))"
      ]
     },
     "metadata": {},
     "output_type": "display_data"
    },
    {
     "name": "stderr",
     "output_type": "stream",
     "text": [
      "\r",
      "  0%|          | 0/391 [00:00<?, ?it/s]"
     ]
    },
    {
     "name": "stdout",
     "output_type": "stream",
     "text": [
      "\n",
      "[2/40]--> Training Loss:1.082, Training Accuracy:61.094, Validation Loss:1.115, Validation Accuracy:60.080\n"
     ]
    },
    {
     "name": "stderr",
     "output_type": "stream",
     "text": [
      "Training Loss:0.947, Training Acc:60.000: 100%|██████████| 391/391 [00:35<00:00, 10.99it/s]\n"
     ]
    },
    {
     "data": {
      "application/vnd.jupyter.widget-view+json": {
       "model_id": "bd7a27b7e658449a9e450fe9b905e2b4",
       "version_major": 2,
       "version_minor": 0
      },
      "text/plain": [
       "HBox(children=(FloatProgress(value=0.0, max=40.0), HTML(value='')))"
      ]
     },
     "metadata": {},
     "output_type": "display_data"
    },
    {
     "name": "stderr",
     "output_type": "stream",
     "text": [
      "\r",
      "  0%|          | 0/391 [00:00<?, ?it/s]"
     ]
    },
    {
     "name": "stdout",
     "output_type": "stream",
     "text": [
      "\n",
      "[3/40]--> Training Loss:0.970, Training Accuracy:65.122, Validation Loss:0.929, Validation Accuracy:66.720\n"
     ]
    },
    {
     "name": "stderr",
     "output_type": "stream",
     "text": [
      "Training Loss:0.836, Training Acc:73.750: 100%|██████████| 391/391 [00:35<00:00, 10.98it/s]\n"
     ]
    },
    {
     "data": {
      "application/vnd.jupyter.widget-view+json": {
       "model_id": "4a5444c319ca458ab384412208dca148",
       "version_major": 2,
       "version_minor": 0
      },
      "text/plain": [
       "HBox(children=(FloatProgress(value=0.0, max=40.0), HTML(value='')))"
      ]
     },
     "metadata": {},
     "output_type": "display_data"
    },
    {
     "name": "stderr",
     "output_type": "stream",
     "text": [
      "\r",
      "  0%|          | 0/391 [00:00<?, ?it/s]"
     ]
    },
    {
     "name": "stdout",
     "output_type": "stream",
     "text": [
      "\n",
      "[4/40]--> Training Loss:0.874, Training Accuracy:68.912, Validation Loss:0.951, Validation Accuracy:66.750\n"
     ]
    },
    {
     "name": "stderr",
     "output_type": "stream",
     "text": [
      "Training Loss:0.894, Training Acc:65.625:  36%|███▌      | 139/391 [00:12<00:22, 11.01it/s]"
     ]
    }
   ],
   "source": [
    "ldict=train(model,opt,dls,loss_func,40,scheduler=sched)"
   ]
  },
  {
   "cell_type": "code",
   "execution_count": null,
   "metadata": {},
   "outputs": [],
   "source": [
    "plot_diagnostics(ldict)"
   ]
  },
  {
   "cell_type": "code",
   "execution_count": null,
   "metadata": {},
   "outputs": [],
   "source": [
    "ldict=train(model,opt,dls,loss_func,10,scheduler=sched)"
   ]
  },
  {
   "cell_type": "code",
   "execution_count": null,
   "metadata": {},
   "outputs": [],
   "source": []
  }
 ],
 "metadata": {
  "kernelspec": {
   "display_name": "Python 3",
   "language": "python",
   "name": "python3"
  },
  "language_info": {
   "codemirror_mode": {
    "name": "ipython",
    "version": 3
   },
   "file_extension": ".py",
   "mimetype": "text/x-python",
   "name": "python",
   "nbconvert_exporter": "python",
   "pygments_lexer": "ipython3",
   "version": "3.7.6"
  }
 },
 "nbformat": 4,
 "nbformat_minor": 2
}
