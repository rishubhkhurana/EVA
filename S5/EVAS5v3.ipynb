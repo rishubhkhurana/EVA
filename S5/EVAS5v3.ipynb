{
  "nbformat": 4,
  "nbformat_minor": 0,
  "metadata": {
    "colab": {
      "name": "EVAS5v3.ipynb",
      "provenance": [],
      "collapsed_sections": [
        "lnXNl9lRPtKr",
        "6vPf5eWbPPyR",
        "waXsAZIJQv4-",
        "Jp2M9oi0XWna"
      ],
      "authorship_tag": "ABX9TyMiJTmd4qg270akP6K923vx",
      "include_colab_link": true
    },
    "kernelspec": {
      "name": "python3",
      "display_name": "Python 3"
    },
    "accelerator": "GPU",
    "widgets": {
      "application/vnd.jupyter.widget-state+json": {
        "6ded7ff043084b0d9998662a55c7be94": {
          "model_module": "@jupyter-widgets/controls",
          "model_name": "HBoxModel",
          "state": {
            "_view_name": "HBoxView",
            "_dom_classes": [],
            "_model_name": "HBoxModel",
            "_view_module": "@jupyter-widgets/controls",
            "_model_module_version": "1.5.0",
            "_view_count": null,
            "_view_module_version": "1.5.0",
            "box_style": "",
            "layout": "IPY_MODEL_9c879a25cd1a4cb59361597a3617c742",
            "_model_module": "@jupyter-widgets/controls",
            "children": [
              "IPY_MODEL_953e5e8fdd38473a8173c62b0010de35",
              "IPY_MODEL_a23015fe6fcb477086b120e4ba3dd6e7"
            ]
          }
        },
        "9c879a25cd1a4cb59361597a3617c742": {
          "model_module": "@jupyter-widgets/base",
          "model_name": "LayoutModel",
          "state": {
            "_view_name": "LayoutView",
            "grid_template_rows": null,
            "right": null,
            "justify_content": null,
            "_view_module": "@jupyter-widgets/base",
            "overflow": null,
            "_model_module_version": "1.2.0",
            "_view_count": null,
            "flex_flow": null,
            "width": null,
            "min_width": null,
            "border": null,
            "align_items": null,
            "bottom": null,
            "_model_module": "@jupyter-widgets/base",
            "top": null,
            "grid_column": null,
            "overflow_y": null,
            "overflow_x": null,
            "grid_auto_flow": null,
            "grid_area": null,
            "grid_template_columns": null,
            "flex": null,
            "_model_name": "LayoutModel",
            "justify_items": null,
            "grid_row": null,
            "max_height": null,
            "align_content": null,
            "visibility": null,
            "align_self": null,
            "height": null,
            "min_height": null,
            "padding": null,
            "grid_auto_rows": null,
            "grid_gap": null,
            "max_width": null,
            "order": null,
            "_view_module_version": "1.2.0",
            "grid_template_areas": null,
            "object_position": null,
            "object_fit": null,
            "grid_auto_columns": null,
            "margin": null,
            "display": null,
            "left": null
          }
        },
        "953e5e8fdd38473a8173c62b0010de35": {
          "model_module": "@jupyter-widgets/controls",
          "model_name": "IntProgressModel",
          "state": {
            "_view_name": "ProgressView",
            "style": "IPY_MODEL_c5c7a4823b794262a0d3e74480162f99",
            "_dom_classes": [],
            "description": "",
            "_model_name": "IntProgressModel",
            "bar_style": "success",
            "max": 1,
            "_view_module": "@jupyter-widgets/controls",
            "_model_module_version": "1.5.0",
            "value": 1,
            "_view_count": null,
            "_view_module_version": "1.5.0",
            "orientation": "horizontal",
            "min": 0,
            "description_tooltip": null,
            "_model_module": "@jupyter-widgets/controls",
            "layout": "IPY_MODEL_e09a8c87b9474f3dbe667b18860ca956"
          }
        },
        "a23015fe6fcb477086b120e4ba3dd6e7": {
          "model_module": "@jupyter-widgets/controls",
          "model_name": "HTMLModel",
          "state": {
            "_view_name": "HTMLView",
            "style": "IPY_MODEL_cadb1d5801d94a10898ffe24f9831911",
            "_dom_classes": [],
            "description": "",
            "_model_name": "HTMLModel",
            "placeholder": "​",
            "_view_module": "@jupyter-widgets/controls",
            "_model_module_version": "1.5.0",
            "value": "32768it [00:00, 148629.25it/s]",
            "_view_count": null,
            "_view_module_version": "1.5.0",
            "description_tooltip": null,
            "_model_module": "@jupyter-widgets/controls",
            "layout": "IPY_MODEL_8c3bc39be5c64b5fa235e09ffca9c1b4"
          }
        },
        "c5c7a4823b794262a0d3e74480162f99": {
          "model_module": "@jupyter-widgets/controls",
          "model_name": "ProgressStyleModel",
          "state": {
            "_view_name": "StyleView",
            "_model_name": "ProgressStyleModel",
            "description_width": "",
            "_view_module": "@jupyter-widgets/base",
            "_model_module_version": "1.5.0",
            "_view_count": null,
            "_view_module_version": "1.2.0",
            "bar_color": null,
            "_model_module": "@jupyter-widgets/controls"
          }
        },
        "e09a8c87b9474f3dbe667b18860ca956": {
          "model_module": "@jupyter-widgets/base",
          "model_name": "LayoutModel",
          "state": {
            "_view_name": "LayoutView",
            "grid_template_rows": null,
            "right": null,
            "justify_content": null,
            "_view_module": "@jupyter-widgets/base",
            "overflow": null,
            "_model_module_version": "1.2.0",
            "_view_count": null,
            "flex_flow": null,
            "width": null,
            "min_width": null,
            "border": null,
            "align_items": null,
            "bottom": null,
            "_model_module": "@jupyter-widgets/base",
            "top": null,
            "grid_column": null,
            "overflow_y": null,
            "overflow_x": null,
            "grid_auto_flow": null,
            "grid_area": null,
            "grid_template_columns": null,
            "flex": null,
            "_model_name": "LayoutModel",
            "justify_items": null,
            "grid_row": null,
            "max_height": null,
            "align_content": null,
            "visibility": null,
            "align_self": null,
            "height": null,
            "min_height": null,
            "padding": null,
            "grid_auto_rows": null,
            "grid_gap": null,
            "max_width": null,
            "order": null,
            "_view_module_version": "1.2.0",
            "grid_template_areas": null,
            "object_position": null,
            "object_fit": null,
            "grid_auto_columns": null,
            "margin": null,
            "display": null,
            "left": null
          }
        },
        "cadb1d5801d94a10898ffe24f9831911": {
          "model_module": "@jupyter-widgets/controls",
          "model_name": "DescriptionStyleModel",
          "state": {
            "_view_name": "StyleView",
            "_model_name": "DescriptionStyleModel",
            "description_width": "",
            "_view_module": "@jupyter-widgets/base",
            "_model_module_version": "1.5.0",
            "_view_count": null,
            "_view_module_version": "1.2.0",
            "_model_module": "@jupyter-widgets/controls"
          }
        },
        "8c3bc39be5c64b5fa235e09ffca9c1b4": {
          "model_module": "@jupyter-widgets/base",
          "model_name": "LayoutModel",
          "state": {
            "_view_name": "LayoutView",
            "grid_template_rows": null,
            "right": null,
            "justify_content": null,
            "_view_module": "@jupyter-widgets/base",
            "overflow": null,
            "_model_module_version": "1.2.0",
            "_view_count": null,
            "flex_flow": null,
            "width": null,
            "min_width": null,
            "border": null,
            "align_items": null,
            "bottom": null,
            "_model_module": "@jupyter-widgets/base",
            "top": null,
            "grid_column": null,
            "overflow_y": null,
            "overflow_x": null,
            "grid_auto_flow": null,
            "grid_area": null,
            "grid_template_columns": null,
            "flex": null,
            "_model_name": "LayoutModel",
            "justify_items": null,
            "grid_row": null,
            "max_height": null,
            "align_content": null,
            "visibility": null,
            "align_self": null,
            "height": null,
            "min_height": null,
            "padding": null,
            "grid_auto_rows": null,
            "grid_gap": null,
            "max_width": null,
            "order": null,
            "_view_module_version": "1.2.0",
            "grid_template_areas": null,
            "object_position": null,
            "object_fit": null,
            "grid_auto_columns": null,
            "margin": null,
            "display": null,
            "left": null
          }
        },
        "20b079ad4b4440959f5a768f8864aa88": {
          "model_module": "@jupyter-widgets/controls",
          "model_name": "HBoxModel",
          "state": {
            "_view_name": "HBoxView",
            "_dom_classes": [],
            "_model_name": "HBoxModel",
            "_view_module": "@jupyter-widgets/controls",
            "_model_module_version": "1.5.0",
            "_view_count": null,
            "_view_module_version": "1.5.0",
            "box_style": "",
            "layout": "IPY_MODEL_9de0f97cc5ec40249446e3436b485983",
            "_model_module": "@jupyter-widgets/controls",
            "children": [
              "IPY_MODEL_a454295b15b44170848490c7781320c6",
              "IPY_MODEL_ba190a19749349f49cd6267f508c5399"
            ]
          }
        },
        "9de0f97cc5ec40249446e3436b485983": {
          "model_module": "@jupyter-widgets/base",
          "model_name": "LayoutModel",
          "state": {
            "_view_name": "LayoutView",
            "grid_template_rows": null,
            "right": null,
            "justify_content": null,
            "_view_module": "@jupyter-widgets/base",
            "overflow": null,
            "_model_module_version": "1.2.0",
            "_view_count": null,
            "flex_flow": null,
            "width": null,
            "min_width": null,
            "border": null,
            "align_items": null,
            "bottom": null,
            "_model_module": "@jupyter-widgets/base",
            "top": null,
            "grid_column": null,
            "overflow_y": null,
            "overflow_x": null,
            "grid_auto_flow": null,
            "grid_area": null,
            "grid_template_columns": null,
            "flex": null,
            "_model_name": "LayoutModel",
            "justify_items": null,
            "grid_row": null,
            "max_height": null,
            "align_content": null,
            "visibility": null,
            "align_self": null,
            "height": null,
            "min_height": null,
            "padding": null,
            "grid_auto_rows": null,
            "grid_gap": null,
            "max_width": null,
            "order": null,
            "_view_module_version": "1.2.0",
            "grid_template_areas": null,
            "object_position": null,
            "object_fit": null,
            "grid_auto_columns": null,
            "margin": null,
            "display": null,
            "left": null
          }
        },
        "a454295b15b44170848490c7781320c6": {
          "model_module": "@jupyter-widgets/controls",
          "model_name": "IntProgressModel",
          "state": {
            "_view_name": "ProgressView",
            "style": "IPY_MODEL_7ec1b9ca6c2c47bbacac608a3f0d30c1",
            "_dom_classes": [],
            "description": "",
            "_model_name": "IntProgressModel",
            "bar_style": "success",
            "max": 1,
            "_view_module": "@jupyter-widgets/controls",
            "_model_module_version": "1.5.0",
            "value": 1,
            "_view_count": null,
            "_view_module_version": "1.5.0",
            "orientation": "horizontal",
            "min": 0,
            "description_tooltip": null,
            "_model_module": "@jupyter-widgets/controls",
            "layout": "IPY_MODEL_80d971b4e0bb4ce99f3cb007bcbd3b61"
          }
        },
        "ba190a19749349f49cd6267f508c5399": {
          "model_module": "@jupyter-widgets/controls",
          "model_name": "HTMLModel",
          "state": {
            "_view_name": "HTMLView",
            "style": "IPY_MODEL_3723ecd557a24a4ba68441e10b3f624b",
            "_dom_classes": [],
            "description": "",
            "_model_name": "HTMLModel",
            "placeholder": "​",
            "_view_module": "@jupyter-widgets/controls",
            "_model_module_version": "1.5.0",
            "value": "1654784it [00:00, 2610394.07it/s]",
            "_view_count": null,
            "_view_module_version": "1.5.0",
            "description_tooltip": null,
            "_model_module": "@jupyter-widgets/controls",
            "layout": "IPY_MODEL_99ac8432d4ad408f8bd5569a2ce74f9b"
          }
        },
        "7ec1b9ca6c2c47bbacac608a3f0d30c1": {
          "model_module": "@jupyter-widgets/controls",
          "model_name": "ProgressStyleModel",
          "state": {
            "_view_name": "StyleView",
            "_model_name": "ProgressStyleModel",
            "description_width": "",
            "_view_module": "@jupyter-widgets/base",
            "_model_module_version": "1.5.0",
            "_view_count": null,
            "_view_module_version": "1.2.0",
            "bar_color": null,
            "_model_module": "@jupyter-widgets/controls"
          }
        },
        "80d971b4e0bb4ce99f3cb007bcbd3b61": {
          "model_module": "@jupyter-widgets/base",
          "model_name": "LayoutModel",
          "state": {
            "_view_name": "LayoutView",
            "grid_template_rows": null,
            "right": null,
            "justify_content": null,
            "_view_module": "@jupyter-widgets/base",
            "overflow": null,
            "_model_module_version": "1.2.0",
            "_view_count": null,
            "flex_flow": null,
            "width": null,
            "min_width": null,
            "border": null,
            "align_items": null,
            "bottom": null,
            "_model_module": "@jupyter-widgets/base",
            "top": null,
            "grid_column": null,
            "overflow_y": null,
            "overflow_x": null,
            "grid_auto_flow": null,
            "grid_area": null,
            "grid_template_columns": null,
            "flex": null,
            "_model_name": "LayoutModel",
            "justify_items": null,
            "grid_row": null,
            "max_height": null,
            "align_content": null,
            "visibility": null,
            "align_self": null,
            "height": null,
            "min_height": null,
            "padding": null,
            "grid_auto_rows": null,
            "grid_gap": null,
            "max_width": null,
            "order": null,
            "_view_module_version": "1.2.0",
            "grid_template_areas": null,
            "object_position": null,
            "object_fit": null,
            "grid_auto_columns": null,
            "margin": null,
            "display": null,
            "left": null
          }
        },
        "3723ecd557a24a4ba68441e10b3f624b": {
          "model_module": "@jupyter-widgets/controls",
          "model_name": "DescriptionStyleModel",
          "state": {
            "_view_name": "StyleView",
            "_model_name": "DescriptionStyleModel",
            "description_width": "",
            "_view_module": "@jupyter-widgets/base",
            "_model_module_version": "1.5.0",
            "_view_count": null,
            "_view_module_version": "1.2.0",
            "_model_module": "@jupyter-widgets/controls"
          }
        },
        "99ac8432d4ad408f8bd5569a2ce74f9b": {
          "model_module": "@jupyter-widgets/base",
          "model_name": "LayoutModel",
          "state": {
            "_view_name": "LayoutView",
            "grid_template_rows": null,
            "right": null,
            "justify_content": null,
            "_view_module": "@jupyter-widgets/base",
            "overflow": null,
            "_model_module_version": "1.2.0",
            "_view_count": null,
            "flex_flow": null,
            "width": null,
            "min_width": null,
            "border": null,
            "align_items": null,
            "bottom": null,
            "_model_module": "@jupyter-widgets/base",
            "top": null,
            "grid_column": null,
            "overflow_y": null,
            "overflow_x": null,
            "grid_auto_flow": null,
            "grid_area": null,
            "grid_template_columns": null,
            "flex": null,
            "_model_name": "LayoutModel",
            "justify_items": null,
            "grid_row": null,
            "max_height": null,
            "align_content": null,
            "visibility": null,
            "align_self": null,
            "height": null,
            "min_height": null,
            "padding": null,
            "grid_auto_rows": null,
            "grid_gap": null,
            "max_width": null,
            "order": null,
            "_view_module_version": "1.2.0",
            "grid_template_areas": null,
            "object_position": null,
            "object_fit": null,
            "grid_auto_columns": null,
            "margin": null,
            "display": null,
            "left": null
          }
        },
        "87c6a4bea52b4c8d93cdbb469a2e73e1": {
          "model_module": "@jupyter-widgets/controls",
          "model_name": "HBoxModel",
          "state": {
            "_view_name": "HBoxView",
            "_dom_classes": [],
            "_model_name": "HBoxModel",
            "_view_module": "@jupyter-widgets/controls",
            "_model_module_version": "1.5.0",
            "_view_count": null,
            "_view_module_version": "1.5.0",
            "box_style": "",
            "layout": "IPY_MODEL_c7e48c53b4c745d087b61865fbde35b6",
            "_model_module": "@jupyter-widgets/controls",
            "children": [
              "IPY_MODEL_7574b39f60994ad294cfc303ec324d89",
              "IPY_MODEL_f7530bf5c0e949b29897271daf16b62c"
            ]
          }
        },
        "c7e48c53b4c745d087b61865fbde35b6": {
          "model_module": "@jupyter-widgets/base",
          "model_name": "LayoutModel",
          "state": {
            "_view_name": "LayoutView",
            "grid_template_rows": null,
            "right": null,
            "justify_content": null,
            "_view_module": "@jupyter-widgets/base",
            "overflow": null,
            "_model_module_version": "1.2.0",
            "_view_count": null,
            "flex_flow": null,
            "width": null,
            "min_width": null,
            "border": null,
            "align_items": null,
            "bottom": null,
            "_model_module": "@jupyter-widgets/base",
            "top": null,
            "grid_column": null,
            "overflow_y": null,
            "overflow_x": null,
            "grid_auto_flow": null,
            "grid_area": null,
            "grid_template_columns": null,
            "flex": null,
            "_model_name": "LayoutModel",
            "justify_items": null,
            "grid_row": null,
            "max_height": null,
            "align_content": null,
            "visibility": null,
            "align_self": null,
            "height": null,
            "min_height": null,
            "padding": null,
            "grid_auto_rows": null,
            "grid_gap": null,
            "max_width": null,
            "order": null,
            "_view_module_version": "1.2.0",
            "grid_template_areas": null,
            "object_position": null,
            "object_fit": null,
            "grid_auto_columns": null,
            "margin": null,
            "display": null,
            "left": null
          }
        },
        "7574b39f60994ad294cfc303ec324d89": {
          "model_module": "@jupyter-widgets/controls",
          "model_name": "IntProgressModel",
          "state": {
            "_view_name": "ProgressView",
            "style": "IPY_MODEL_2669eb0ed1684e018010664ef2c83492",
            "_dom_classes": [],
            "description": "",
            "_model_name": "IntProgressModel",
            "bar_style": "success",
            "max": 1,
            "_view_module": "@jupyter-widgets/controls",
            "_model_module_version": "1.5.0",
            "value": 1,
            "_view_count": null,
            "_view_module_version": "1.5.0",
            "orientation": "horizontal",
            "min": 0,
            "description_tooltip": null,
            "_model_module": "@jupyter-widgets/controls",
            "layout": "IPY_MODEL_de07c463dd7b48dc820e9c921579abbd"
          }
        },
        "f7530bf5c0e949b29897271daf16b62c": {
          "model_module": "@jupyter-widgets/controls",
          "model_name": "HTMLModel",
          "state": {
            "_view_name": "HTMLView",
            "style": "IPY_MODEL_6180976371e64109867772aea338aa5d",
            "_dom_classes": [],
            "description": "",
            "_model_name": "HTMLModel",
            "placeholder": "​",
            "_view_module": "@jupyter-widgets/controls",
            "_model_module_version": "1.5.0",
            "value": "8192it [00:00, 50278.23it/s]",
            "_view_count": null,
            "_view_module_version": "1.5.0",
            "description_tooltip": null,
            "_model_module": "@jupyter-widgets/controls",
            "layout": "IPY_MODEL_718839aa97364dcd8ec274536ee6da90"
          }
        },
        "2669eb0ed1684e018010664ef2c83492": {
          "model_module": "@jupyter-widgets/controls",
          "model_name": "ProgressStyleModel",
          "state": {
            "_view_name": "StyleView",
            "_model_name": "ProgressStyleModel",
            "description_width": "",
            "_view_module": "@jupyter-widgets/base",
            "_model_module_version": "1.5.0",
            "_view_count": null,
            "_view_module_version": "1.2.0",
            "bar_color": null,
            "_model_module": "@jupyter-widgets/controls"
          }
        },
        "de07c463dd7b48dc820e9c921579abbd": {
          "model_module": "@jupyter-widgets/base",
          "model_name": "LayoutModel",
          "state": {
            "_view_name": "LayoutView",
            "grid_template_rows": null,
            "right": null,
            "justify_content": null,
            "_view_module": "@jupyter-widgets/base",
            "overflow": null,
            "_model_module_version": "1.2.0",
            "_view_count": null,
            "flex_flow": null,
            "width": null,
            "min_width": null,
            "border": null,
            "align_items": null,
            "bottom": null,
            "_model_module": "@jupyter-widgets/base",
            "top": null,
            "grid_column": null,
            "overflow_y": null,
            "overflow_x": null,
            "grid_auto_flow": null,
            "grid_area": null,
            "grid_template_columns": null,
            "flex": null,
            "_model_name": "LayoutModel",
            "justify_items": null,
            "grid_row": null,
            "max_height": null,
            "align_content": null,
            "visibility": null,
            "align_self": null,
            "height": null,
            "min_height": null,
            "padding": null,
            "grid_auto_rows": null,
            "grid_gap": null,
            "max_width": null,
            "order": null,
            "_view_module_version": "1.2.0",
            "grid_template_areas": null,
            "object_position": null,
            "object_fit": null,
            "grid_auto_columns": null,
            "margin": null,
            "display": null,
            "left": null
          }
        },
        "6180976371e64109867772aea338aa5d": {
          "model_module": "@jupyter-widgets/controls",
          "model_name": "DescriptionStyleModel",
          "state": {
            "_view_name": "StyleView",
            "_model_name": "DescriptionStyleModel",
            "description_width": "",
            "_view_module": "@jupyter-widgets/base",
            "_model_module_version": "1.5.0",
            "_view_count": null,
            "_view_module_version": "1.2.0",
            "_model_module": "@jupyter-widgets/controls"
          }
        },
        "718839aa97364dcd8ec274536ee6da90": {
          "model_module": "@jupyter-widgets/base",
          "model_name": "LayoutModel",
          "state": {
            "_view_name": "LayoutView",
            "grid_template_rows": null,
            "right": null,
            "justify_content": null,
            "_view_module": "@jupyter-widgets/base",
            "overflow": null,
            "_model_module_version": "1.2.0",
            "_view_count": null,
            "flex_flow": null,
            "width": null,
            "min_width": null,
            "border": null,
            "align_items": null,
            "bottom": null,
            "_model_module": "@jupyter-widgets/base",
            "top": null,
            "grid_column": null,
            "overflow_y": null,
            "overflow_x": null,
            "grid_auto_flow": null,
            "grid_area": null,
            "grid_template_columns": null,
            "flex": null,
            "_model_name": "LayoutModel",
            "justify_items": null,
            "grid_row": null,
            "max_height": null,
            "align_content": null,
            "visibility": null,
            "align_self": null,
            "height": null,
            "min_height": null,
            "padding": null,
            "grid_auto_rows": null,
            "grid_gap": null,
            "max_width": null,
            "order": null,
            "_view_module_version": "1.2.0",
            "grid_template_areas": null,
            "object_position": null,
            "object_fit": null,
            "grid_auto_columns": null,
            "margin": null,
            "display": null,
            "left": null
          }
        }
      }
    }
  },
  "cells": [
    {
      "cell_type": "markdown",
      "metadata": {
        "id": "view-in-github",
        "colab_type": "text"
      },
      "source": [
        "<a href=\"https://colab.research.google.com/github/rishubhkhurana/EVA/blob/master/S5/EVAS5v3.ipynb\" target=\"_parent\"><img src=\"https://colab.research.google.com/assets/colab-badge.svg\" alt=\"Open In Colab\"/></a>"
      ]
    },
    {
      "cell_type": "markdown",
      "metadata": {
        "id": "zutK2AAQOfs9",
        "colab_type": "text"
      },
      "source": [
        "## Notebook Analysis -- Third Version\n",
        "\n",
        "1. Target -- Push the Model Capacity by introducing BatchNorm. \n",
        "2. Result -- 99.57 best Training Accuracy and 99.3 as best validation accuracy. \n",
        "3. Analysis -- ~9900 params. Overfitting model. But as expected, after adding BatchNorm, the model's capacity was pushed. "
      ]
    },
    {
      "cell_type": "markdown",
      "metadata": {
        "id": "lnXNl9lRPtKr",
        "colab_type": "text"
      },
      "source": [
        "## Import Libs\n"
      ]
    },
    {
      "cell_type": "code",
      "metadata": {
        "id": "JHx4q89VOqyJ",
        "colab_type": "code",
        "colab": {}
      },
      "source": [
        "import torch\n",
        "import torch.nn as nn\n",
        "import torch.nn.functional as F\n",
        "from torchvision.datasets import MNIST\n",
        "import torch.optim as optim\n",
        "import matplotlib.pyplot as plt\n",
        "import numpy as np\n",
        "import PIL\n",
        "from PIL import Image\n",
        "from torchvision.transforms import transforms\n",
        "from torch.utils.data import DataLoader\n",
        "from tqdm import tqdm"
      ],
      "execution_count": 0,
      "outputs": []
    },
    {
      "cell_type": "code",
      "metadata": {
        "id": "7v74X2Fsp8J3",
        "colab_type": "code",
        "outputId": "dd47bbe2-fd98-48a3-a4f8-edcc129c83e5",
        "colab": {
          "base_uri": "https://localhost:8080/"
        }
      },
      "source": [
        "!pip install torchsummary"
      ],
      "execution_count": 0,
      "outputs": [
        {
          "output_type": "stream",
          "text": [
            "Requirement already satisfied: torchsummary in /usr/local/lib/python3.6/dist-packages (1.5.1)\n"
          ],
          "name": "stdout"
        }
      ]
    },
    {
      "cell_type": "code",
      "metadata": {
        "id": "rRiy1zkop985",
        "colab_type": "code",
        "colab": {}
      },
      "source": [
        "from torchsummary import summary"
      ],
      "execution_count": 0,
      "outputs": []
    },
    {
      "cell_type": "markdown",
      "metadata": {
        "id": "6vPf5eWbPPyR",
        "colab_type": "text"
      },
      "source": [
        "## Transforms/Reading Dataset"
      ]
    },
    {
      "cell_type": "code",
      "metadata": {
        "id": "6ZT5DwJdPiZm",
        "colab_type": "code",
        "colab": {}
      },
      "source": [
        "train_transforms = transforms.Compose([transforms.ToTensor()])\n",
        "test_transforms = transforms.Compose([transforms.ToTensor()])"
      ],
      "execution_count": 0,
      "outputs": []
    },
    {
      "cell_type": "code",
      "metadata": {
        "id": "XcBuRgV8O4nA",
        "colab_type": "code",
        "outputId": "bdc23ab4-acc3-4cd5-baaa-c8a9fe04c090",
        "colab": {
          "base_uri": "https://localhost:8080/",
          "height": 331,
          "referenced_widgets": [
            "6ded7ff043084b0d9998662a55c7be94",
            "9c879a25cd1a4cb59361597a3617c742",
            "953e5e8fdd38473a8173c62b0010de35",
            "a23015fe6fcb477086b120e4ba3dd6e7",
            "c5c7a4823b794262a0d3e74480162f99",
            "e09a8c87b9474f3dbe667b18860ca956",
            "cadb1d5801d94a10898ffe24f9831911",
            "8c3bc39be5c64b5fa235e09ffca9c1b4",
            "20b079ad4b4440959f5a768f8864aa88",
            "9de0f97cc5ec40249446e3436b485983",
            "a454295b15b44170848490c7781320c6",
            "ba190a19749349f49cd6267f508c5399",
            "7ec1b9ca6c2c47bbacac608a3f0d30c1",
            "80d971b4e0bb4ce99f3cb007bcbd3b61",
            "3723ecd557a24a4ba68441e10b3f624b",
            "99ac8432d4ad408f8bd5569a2ce74f9b",
            "87c6a4bea52b4c8d93cdbb469a2e73e1",
            "c7e48c53b4c745d087b61865fbde35b6",
            "7574b39f60994ad294cfc303ec324d89",
            "f7530bf5c0e949b29897271daf16b62c",
            "2669eb0ed1684e018010664ef2c83492",
            "de07c463dd7b48dc820e9c921579abbd",
            "6180976371e64109867772aea338aa5d",
            "718839aa97364dcd8ec274536ee6da90"
          ]
        }
      },
      "source": [
        "train_data=MNIST(root='./data',train=True,transform=train_transforms,download=True)\n",
        "test_data=MNIST(root='./data',train=False,transform=test_transforms,download=True)"
      ],
      "execution_count": 0,
      "outputs": [
        {
          "output_type": "stream",
          "text": [
            "\n",
            "Extracting ./data/MNIST/raw/train-images-idx3-ubyte.gz to ./data/MNIST/raw\n",
            "Downloading http://yann.lecun.com/exdb/mnist/train-labels-idx1-ubyte.gz to ./data/MNIST/raw/train-labels-idx1-ubyte.gz\n"
          ],
          "name": "stdout"
        },
        {
          "output_type": "display_data",
          "data": {
            "application/vnd.jupyter.widget-view+json": {
              "model_id": "6ded7ff043084b0d9998662a55c7be94",
              "version_minor": 0,
              "version_major": 2
            },
            "text/plain": [
              "HBox(children=(IntProgress(value=1, bar_style='info', max=1), HTML(value='')))"
            ]
          },
          "metadata": {
            "tags": []
          }
        },
        {
          "output_type": "stream",
          "text": [
            "\n",
            "Extracting ./data/MNIST/raw/train-labels-idx1-ubyte.gz to ./data/MNIST/raw\n",
            "Downloading http://yann.lecun.com/exdb/mnist/t10k-images-idx3-ubyte.gz to ./data/MNIST/raw/t10k-images-idx3-ubyte.gz\n"
          ],
          "name": "stdout"
        },
        {
          "output_type": "display_data",
          "data": {
            "application/vnd.jupyter.widget-view+json": {
              "model_id": "20b079ad4b4440959f5a768f8864aa88",
              "version_minor": 0,
              "version_major": 2
            },
            "text/plain": [
              "HBox(children=(IntProgress(value=1, bar_style='info', max=1), HTML(value='')))"
            ]
          },
          "metadata": {
            "tags": []
          }
        },
        {
          "output_type": "stream",
          "text": [
            "\n",
            "Extracting ./data/MNIST/raw/t10k-images-idx3-ubyte.gz to ./data/MNIST/raw\n",
            "Downloading http://yann.lecun.com/exdb/mnist/t10k-labels-idx1-ubyte.gz to ./data/MNIST/raw/t10k-labels-idx1-ubyte.gz\n"
          ],
          "name": "stdout"
        },
        {
          "output_type": "display_data",
          "data": {
            "application/vnd.jupyter.widget-view+json": {
              "model_id": "87c6a4bea52b4c8d93cdbb469a2e73e1",
              "version_minor": 0,
              "version_major": 2
            },
            "text/plain": [
              "HBox(children=(IntProgress(value=1, bar_style='info', max=1), HTML(value='')))"
            ]
          },
          "metadata": {
            "tags": []
          }
        },
        {
          "output_type": "stream",
          "text": [
            "\n",
            "Extracting ./data/MNIST/raw/t10k-labels-idx1-ubyte.gz to ./data/MNIST/raw\n",
            "Processing...\n",
            "Done!\n"
          ],
          "name": "stdout"
        }
      ]
    },
    {
      "cell_type": "code",
      "metadata": {
        "id": "BjcfI_FUXdP-",
        "colab_type": "code",
        "outputId": "7ca1253c-9d2a-4220-d50c-9529cb33550e",
        "colab": {
          "base_uri": "https://localhost:8080/",
          "height": 151
        }
      },
      "source": [
        "print(f\"Training Dataset Mean: {train_data.transform(train_data.train_data.numpy()).float().mean()}\")\n",
        "print(f\"Training Dataset Mean: {train_data.transform(train_data.train_data.numpy()).float().std()}\")"
      ],
      "execution_count": 0,
      "outputs": [
        {
          "output_type": "stream",
          "text": [
            "/usr/local/lib/python3.6/dist-packages/torchvision/datasets/mnist.py:55: UserWarning: train_data has been renamed data\n",
            "  warnings.warn(\"train_data has been renamed data\")\n"
          ],
          "name": "stderr"
        },
        {
          "output_type": "stream",
          "text": [
            "Training Dataset Mean: 0.13054245710372925\n",
            "Training Dataset Mean: 0.30810782313346863\n"
          ],
          "name": "stdout"
        },
        {
          "output_type": "stream",
          "text": [
            "/usr/local/lib/python3.6/dist-packages/torchvision/datasets/mnist.py:55: UserWarning: train_data has been renamed data\n",
            "  warnings.warn(\"train_data has been renamed data\")\n"
          ],
          "name": "stderr"
        },
        {
          "output_type": "stream",
          "text": [
            "Training Dataset Mean: 0.13054245710372925\n",
            "Training Dataset Mean: 0.30810782313346863\n"
          ],
          "name": "stdout"
        }
      ]
    },
    {
      "cell_type": "code",
      "metadata": {
        "id": "FdfADM1gXep7",
        "colab_type": "code",
        "outputId": "9305a17a-84c9-4d82-eab3-58f1142d6bfc",
        "colab": {
          "base_uri": "https://localhost:8080/",
          "height": 151
        }
      },
      "source": [
        "print(f\"Testing Dataset Mean: {train_data.transform(train_data.train_data.numpy()).float().mean()}\")\n",
        "print(f\"Testing Dataset Mean: {test_data.transform(test_data.train_data.numpy()).float().std()}\")"
      ],
      "execution_count": 0,
      "outputs": [
        {
          "output_type": "stream",
          "text": [
            "Testing Dataset Mean: 0.13054245710372925\n"
          ],
          "name": "stdout"
        },
        {
          "output_type": "stream",
          "text": [
            "/usr/local/lib/python3.6/dist-packages/torchvision/datasets/mnist.py:55: UserWarning: train_data has been renamed data\n",
            "  warnings.warn(\"train_data has been renamed data\")\n"
          ],
          "name": "stderr"
        },
        {
          "output_type": "stream",
          "text": [
            "Testing Dataset Mean: 0.3104802668094635\n",
            "Testing Dataset Mean: 0.13054245710372925\n"
          ],
          "name": "stdout"
        },
        {
          "output_type": "stream",
          "text": [
            "/usr/local/lib/python3.6/dist-packages/torchvision/datasets/mnist.py:55: UserWarning: train_data has been renamed data\n",
            "  warnings.warn(\"train_data has been renamed data\")\n"
          ],
          "name": "stderr"
        },
        {
          "output_type": "stream",
          "text": [
            "Testing Dataset Mean: 0.3104802668094635\n"
          ],
          "name": "stdout"
        }
      ]
    },
    {
      "cell_type": "code",
      "metadata": {
        "id": "8U5LFMcxXjvq",
        "colab_type": "code",
        "colab": {}
      },
      "source": [
        "train_transforms = transforms.Compose([transforms.ToTensor(),transforms.Normalize((0.1305,),(0.308,))])\n",
        "test_transforms = transforms.Compose([transforms.ToTensor(),transforms.Normalize((0.1305,),(0.308,))])"
      ],
      "execution_count": 0,
      "outputs": []
    },
    {
      "cell_type": "code",
      "metadata": {
        "id": "UXF_ztKWXwfT",
        "colab_type": "code",
        "colab": {}
      },
      "source": [
        "train_data=MNIST(root='./data',train=True,transform=train_transforms,download=True)\n",
        "test_data=MNIST(root='./data',train=False,transform=test_transforms,download=True)"
      ],
      "execution_count": 0,
      "outputs": []
    },
    {
      "cell_type": "code",
      "metadata": {
        "id": "p_WjCYvuXx3S",
        "colab_type": "code",
        "outputId": "46a409fb-85fc-40d5-c923-0028749f97d1",
        "colab": {
          "base_uri": "https://localhost:8080/",
          "height": 151
        }
      },
      "source": [
        "print(f\"Training Dataset Mean: {train_data.transform(train_data.train_data.numpy()).float().mean()}\")\n",
        "print(f\"Training Dataset Mean: {train_data.transform(train_data.train_data.numpy()).float().std()}\")"
      ],
      "execution_count": 0,
      "outputs": [
        {
          "output_type": "stream",
          "text": [
            "/usr/local/lib/python3.6/dist-packages/torchvision/datasets/mnist.py:55: UserWarning: train_data has been renamed data\n",
            "  warnings.warn(\"train_data has been renamed data\")\n"
          ],
          "name": "stderr"
        },
        {
          "output_type": "stream",
          "text": [
            "Training Dataset Mean: 0.00167939648963511\n",
            "Training Dataset Mean: 1.000349998474121\n"
          ],
          "name": "stdout"
        },
        {
          "output_type": "stream",
          "text": [
            "/usr/local/lib/python3.6/dist-packages/torchvision/datasets/mnist.py:55: UserWarning: train_data has been renamed data\n",
            "  warnings.warn(\"train_data has been renamed data\")\n"
          ],
          "name": "stderr"
        },
        {
          "output_type": "stream",
          "text": [
            "Training Dataset Mean: 0.00167939648963511\n",
            "Training Dataset Mean: 1.000349998474121\n"
          ],
          "name": "stdout"
        }
      ]
    },
    {
      "cell_type": "code",
      "metadata": {
        "id": "t8K3RC6dXy9c",
        "colab_type": "code",
        "outputId": "33995d0b-46fd-4ba3-d258-bb7944b3241e",
        "colab": {
          "base_uri": "https://localhost:8080/",
          "height": 151
        }
      },
      "source": [
        "print(f\"Testing Dataset Mean: {train_data.transform(train_data.train_data.numpy()).float().mean()}\")\n",
        "print(f\"Testing Dataset Mean: {test_data.transform(test_data.train_data.numpy()).float().std()}\")"
      ],
      "execution_count": 0,
      "outputs": [
        {
          "output_type": "stream",
          "text": [
            "/usr/local/lib/python3.6/dist-packages/torchvision/datasets/mnist.py:55: UserWarning: train_data has been renamed data\n",
            "  warnings.warn(\"train_data has been renamed data\")\n"
          ],
          "name": "stderr"
        },
        {
          "output_type": "stream",
          "text": [
            "Testing Dataset Mean: 0.00167939648963511\n",
            "Testing Dataset Mean: 1.0080528259277344\n"
          ],
          "name": "stdout"
        },
        {
          "output_type": "stream",
          "text": [
            "/usr/local/lib/python3.6/dist-packages/torchvision/datasets/mnist.py:55: UserWarning: train_data has been renamed data\n",
            "  warnings.warn(\"train_data has been renamed data\")\n"
          ],
          "name": "stderr"
        },
        {
          "output_type": "stream",
          "text": [
            "Testing Dataset Mean: 0.00167939648963511\n",
            "Testing Dataset Mean: 1.0080528259277344\n"
          ],
          "name": "stdout"
        }
      ]
    },
    {
      "cell_type": "markdown",
      "metadata": {
        "id": "waXsAZIJQv4-",
        "colab_type": "text"
      },
      "source": [
        "## Defining Data Loader\n"
      ]
    },
    {
      "cell_type": "code",
      "metadata": {
        "id": "amxbkuFEQnJ2",
        "colab_type": "code",
        "colab": {}
      },
      "source": [
        "# defining the seed for reproducible\n",
        "SEED = 99\n",
        "\n",
        "torch.manual_seed(SEED)\n",
        "\n",
        "# checking if the CUDA is available \n",
        "\n",
        "is_CUDA = torch.cuda.is_available()\n",
        "\n",
        "if is_CUDA:\n",
        "  dev = torch.device('cuda')\n",
        "else:\n",
        "  dev = torch.device('cpu')\n",
        "\n"
      ],
      "execution_count": 0,
      "outputs": []
    },
    {
      "cell_type": "code",
      "metadata": {
        "id": "BGWiiNepTzBF",
        "colab_type": "code",
        "colab": {}
      },
      "source": [
        "BATCH_SIZE=128\n",
        "EPOCHS=15"
      ],
      "execution_count": 0,
      "outputs": []
    },
    {
      "cell_type": "code",
      "metadata": {
        "id": "iqt-wXpdTOom",
        "colab_type": "code",
        "colab": {}
      },
      "source": [
        "dataloader_args = dict(shuffle=True,batch_size=BATCH_SIZE,pin_memory=True,num_workers=4) if is_CUDA else dict(shuffle=True,batch_size=BATCH_SIZE//2)\n",
        "train_dl = DataLoader(train_data,**dataloader_args)\n",
        "\n",
        "dataloader_args = dict(shuffle=False,batch_size=BATCH_SIZE*2,pin_memory=True,num_workers=4) if is_CUDA else dict(shuffle=False,batch_size=BATCH_SIZE)\n",
        "test_dl = DataLoader(test_data,**dataloader_args)"
      ],
      "execution_count": 0,
      "outputs": []
    },
    {
      "cell_type": "code",
      "metadata": {
        "id": "f1rMpA2bTPWN",
        "colab_type": "code",
        "colab": {}
      },
      "source": [
        "x,y=next(iter(train_dl))"
      ],
      "execution_count": 0,
      "outputs": []
    },
    {
      "cell_type": "code",
      "metadata": {
        "id": "PMOMcM-sU3qF",
        "colab_type": "code",
        "outputId": "268e97c6-434f-47ee-c569-c7ef30caeac0",
        "colab": {
          "base_uri": "https://localhost:8080/"
        }
      },
      "source": [
        "x.size(),y.size()"
      ],
      "execution_count": 0,
      "outputs": [
        {
          "output_type": "execute_result",
          "data": {
            "text/plain": [
              "(torch.Size([128, 1, 28, 28]), torch.Size([128]))"
            ]
          },
          "metadata": {
            "tags": []
          },
          "execution_count": 22
        },
        {
          "output_type": "execute_result",
          "data": {
            "text/plain": [
              "(torch.Size([128, 1, 28, 28]), torch.Size([128]))"
            ]
          },
          "metadata": {
            "tags": []
          },
          "execution_count": 44
        }
      ]
    },
    {
      "cell_type": "code",
      "metadata": {
        "id": "FvdKIyo5U7Bs",
        "colab_type": "code",
        "colab": {}
      },
      "source": [
        "torch.Tensor.stats = lambda x: (x.mean(),x.std())"
      ],
      "execution_count": 0,
      "outputs": []
    },
    {
      "cell_type": "code",
      "metadata": {
        "id": "_lALbhbKWfXr",
        "colab_type": "code",
        "outputId": "32004a4f-3aea-420d-f5ce-8503c428d030",
        "colab": {
          "base_uri": "https://localhost:8080/"
        }
      },
      "source": [
        "x.stats()"
      ],
      "execution_count": 0,
      "outputs": [
        {
          "output_type": "execute_result",
          "data": {
            "text/plain": [
              "(tensor(0.0281), tensor(1.0290))"
            ]
          },
          "metadata": {
            "tags": []
          },
          "execution_count": 24
        },
        {
          "output_type": "execute_result",
          "data": {
            "text/plain": [
              "(tensor(0.0281), tensor(1.0290))"
            ]
          },
          "metadata": {
            "tags": []
          },
          "execution_count": 46
        }
      ]
    },
    {
      "cell_type": "code",
      "metadata": {
        "id": "MFzvn8Zlzs6I",
        "colab_type": "code",
        "outputId": "11a78089-ed7f-4bc4-d1ac-b8f9257b905b",
        "colab": {
          "base_uri": "https://localhost:8080/"
        }
      },
      "source": [
        "type(x)"
      ],
      "execution_count": 0,
      "outputs": [
        {
          "output_type": "execute_result",
          "data": {
            "text/plain": [
              "torch.Tensor"
            ]
          },
          "metadata": {
            "tags": []
          },
          "execution_count": 25
        },
        {
          "output_type": "execute_result",
          "data": {
            "text/plain": [
              "torch.Tensor"
            ]
          },
          "metadata": {
            "tags": []
          },
          "execution_count": 47
        }
      ]
    },
    {
      "cell_type": "markdown",
      "metadata": {
        "id": "Jp2M9oi0XWna",
        "colab_type": "text"
      },
      "source": [
        "## Visualizing the data"
      ]
    },
    {
      "cell_type": "code",
      "metadata": {
        "id": "krIuDbgVYLKm",
        "colab_type": "code",
        "colab": {}
      },
      "source": [
        "def plot_img(img,axs=None,figsize=(6,6),visible=True):\n",
        "  if axs is None:\n",
        "    _,axs=plt.subplots(1,1,figsize=figsize)\n",
        "  if not visible:\n",
        "    #print(\"yesy\")\n",
        "    axs.set_xticks([])\n",
        "    axs.set_yticks([])\n",
        "  axs.imshow(img.numpy().squeeze(0),cmap='gray_r')\n",
        "  \n",
        "  "
      ],
      "execution_count": 0,
      "outputs": []
    },
    {
      "cell_type": "code",
      "metadata": {
        "id": "03uYQ6LdYqEb",
        "colab_type": "code",
        "outputId": "a3e70790-575f-4f57-b27b-c33d2a5f05da",
        "colab": {
          "base_uri": "https://localhost:8080/"
        }
      },
      "source": [
        "plot_img(x[0],visible=False)"
      ],
      "execution_count": 0,
      "outputs": [
        {
          "output_type": "display_data",
          "data": {
            "image/png": "[encoded data removed]",
            "text/plain": [
              "<Figure size 432x432 with 1 Axes>"
            ]
          },
          "metadata": {
            "tags": []
          }
        },
        {
          "output_type": "display_data",
          "data": {
            "image/png": "[encoded data removed]",
            "text/plain": [
              "<Figure size 432x432 with 1 Axes>"
            ]
          },
          "metadata": {
            "tags": []
          }
        }
      ]
    },
    {
      "cell_type": "code",
      "metadata": {
        "id": "gwmN7GzXYr9T",
        "colab_type": "code",
        "outputId": "930a8a1c-7f39-459a-eb3f-5b0d08f828b8",
        "colab": {
          "base_uri": "https://localhost:8080/"
        }
      },
      "source": [
        "fig,axs = plt.subplots(4,4,figsize=(10,10))\n",
        "for i,ax in enumerate(axs.ravel()):\n",
        "  plot_img(x[i],axs=axs[i//4,i%4],visible=False)"
      ],
      "execution_count": 0,
      "outputs": [
        {
          "output_type": "display_data",
          "data": {
            "image/png": "[encoded data removed]",
            "text/plain": [
              "<Figure size 720x720 with 16 Axes>"
            ]
          },
          "metadata": {
            "tags": []
          }
        },
        {
          "output_type": "display_data",
          "data": {
            "image/png": "[encoded data removed]",
            "text/plain": [
              "<Figure size 720x720 with 16 Axes>"
            ]
          },
          "metadata": {
            "tags": []
          }
        }
      ]
    },
    {
      "cell_type": "markdown",
      "metadata": {
        "id": "IKjNFcvVcERa",
        "colab_type": "text"
      },
      "source": [
        "## Defining Model"
      ]
    },
    {
      "cell_type": "code",
      "metadata": {
        "id": "VEGgeKlrcQs1",
        "colab_type": "code",
        "colab": {}
      },
      "source": [
        "class Model(nn.Module):\n",
        "  def __init__(self,p=0.0,use_bias=True):\n",
        "    super().__init__()\n",
        "    self.alllyrs=nn.Sequential()\n",
        "    cblock1 = []\n",
        "    cblock1.append(nn.Sequential(*[nn.Conv2d(1,12,kernel_size=(3,3),stride=1,bias=use_bias),nn.BatchNorm2d(12),nn.ReLU()])) # output_size=26,RF=3\n",
        "    cblock1.append(nn.Sequential(*[nn.Conv2d(12,24,kernel_size=(3,3),stride=1,bias=use_bias),nn.BatchNorm2d(24),nn.ReLU()])) # output_size=24,RF=5\n",
        "    self.cblock1 = nn.Sequential(*cblock1)\n",
        "    tblock1=[]\n",
        "    tblock1.append(nn.MaxPool2d((2,2))) # output_size=12, RF=6\n",
        "    tblock1.append(nn.Sequential(*[nn.Conv2d(24,12,kernel_size=(1,1),stride=1,bias=use_bias),nn.BatchNorm2d(12),nn.ReLU()])) # output_size=12,RF=6\n",
        "    self.tblock1=nn.Sequential(*tblock1)\n",
        "    cblock2 = []\n",
        "    cblock2.append(nn.Sequential(*[nn.Conv2d(12,12,kernel_size=(3,3),stride=1,bias=use_bias),nn.BatchNorm2d(12),nn.ReLU()])) # output_size=10,RF=10\n",
        "    cblock2.append(nn.Sequential(*[nn.Conv2d(12,12,kernel_size=(3,3),stride=1,bias=use_bias),nn.BatchNorm2d(12),nn.ReLU()])) # output_size=8,RF=14\n",
        "    cblock2.append(nn.Sequential(*[nn.Conv2d(12,12,kernel_size=(3,3),stride=1,bias=use_bias),nn.BatchNorm2d(12),nn.ReLU()])) # output_size=6,RF=18\n",
        "    cblock2.append(nn.Sequential(*[nn.Conv2d(12,12,kernel_size=(3,3),stride=1,bias=use_bias),nn.BatchNorm2d(12),nn.ReLU()])) # output_size=4,RF=22\n",
        "    cblock2.append(nn.Sequential(*[nn.Conv2d(12,12,kernel_size=(3,3),stride=1,bias=use_bias),nn.BatchNorm2d(12),nn.ReLU()])) # output_size=4,RF=26\n",
        "\n",
        "    self.cblock2 = nn.Sequential(*cblock2)\n",
        "    tblock2=[]\n",
        "    tblock2.append(nn.AdaptiveAvgPool2d((1,1)))\n",
        "    tblock2.append(nn.Conv2d(12,10,kernel_size=(1,1),stride=1))\n",
        "    self.tblock2=nn.Sequential(*tblock2)\n",
        "  def forward(self,x):\n",
        "    x = self.cblock1(x)\n",
        "    x = self.tblock1(x)\n",
        "    x = self.cblock2(x)\n",
        "    x = self.tblock2(x)\n",
        "    return F.log_softmax(x).squeeze().squeeze()\n"
      ],
      "execution_count": 0,
      "outputs": []
    },
    {
      "cell_type": "code",
      "metadata": {
        "id": "PRTCWgbVpu9K",
        "colab_type": "code",
        "colab": {}
      },
      "source": [
        "mod=Model().cuda()"
      ],
      "execution_count": 0,
      "outputs": []
    },
    {
      "cell_type": "code",
      "metadata": {
        "id": "m9i8ofPWp1J4",
        "colab_type": "code",
        "colab": {}
      },
      "source": [
        "#mod"
      ],
      "execution_count": 0,
      "outputs": []
    },
    {
      "cell_type": "code",
      "metadata": {
        "id": "Lihiltakp1p3",
        "colab_type": "code",
        "outputId": "b68f1f86-65e3-4e25-fbfc-8d7e35fdf478",
        "colab": {
          "base_uri": "https://localhost:8080/",
          "height": 726
        }
      },
      "source": [
        "summary(model=mod,input_size=(1,28,28))"
      ],
      "execution_count": 0,
      "outputs": [
        {
          "output_type": "stream",
          "text": [
            "----------------------------------------------------------------\n",
            "        Layer (type)               Output Shape         Param #\n",
            "================================================================\n",
            "            Conv2d-1           [-1, 12, 26, 26]             120\n",
            "       BatchNorm2d-2           [-1, 12, 26, 26]              24\n",
            "              ReLU-3           [-1, 12, 26, 26]               0\n",
            "            Conv2d-4           [-1, 24, 24, 24]           2,616\n",
            "       BatchNorm2d-5           [-1, 24, 24, 24]              48\n",
            "              ReLU-6           [-1, 24, 24, 24]               0\n",
            "         MaxPool2d-7           [-1, 24, 12, 12]               0\n",
            "            Conv2d-8           [-1, 12, 12, 12]             300\n",
            "       BatchNorm2d-9           [-1, 12, 12, 12]              24\n",
            "             ReLU-10           [-1, 12, 12, 12]               0\n",
            "           Conv2d-11           [-1, 12, 10, 10]           1,308\n",
            "      BatchNorm2d-12           [-1, 12, 10, 10]              24\n",
            "             ReLU-13           [-1, 12, 10, 10]               0\n",
            "           Conv2d-14             [-1, 12, 8, 8]           1,308\n",
            "      BatchNorm2d-15             [-1, 12, 8, 8]              24\n",
            "             ReLU-16             [-1, 12, 8, 8]               0\n",
            "           Conv2d-17             [-1, 12, 6, 6]           1,308\n",
            "      BatchNorm2d-18             [-1, 12, 6, 6]              24\n",
            "             ReLU-19             [-1, 12, 6, 6]               0\n",
            "           Conv2d-20             [-1, 12, 4, 4]           1,308\n",
            "      BatchNorm2d-21             [-1, 12, 4, 4]              24\n",
            "             ReLU-22             [-1, 12, 4, 4]               0\n",
            "           Conv2d-23             [-1, 12, 2, 2]           1,308\n",
            "      BatchNorm2d-24             [-1, 12, 2, 2]              24\n",
            "             ReLU-25             [-1, 12, 2, 2]               0\n",
            "AdaptiveAvgPool2d-26             [-1, 12, 1, 1]               0\n",
            "           Conv2d-27             [-1, 10, 1, 1]             130\n",
            "================================================================\n",
            "Total params: 9,922\n",
            "Trainable params: 9,922\n",
            "Non-trainable params: 0\n",
            "----------------------------------------------------------------\n",
            "Input size (MB): 0.00\n",
            "Forward/backward pass size (MB): 0.63\n",
            "Params size (MB): 0.04\n",
            "Estimated Total Size (MB): 0.67\n",
            "----------------------------------------------------------------\n"
          ],
          "name": "stdout"
        },
        {
          "output_type": "stream",
          "text": [
            "/usr/local/lib/python3.6/dist-packages/ipykernel_launcher.py:30: UserWarning: Implicit dimension choice for log_softmax has been deprecated. Change the call to include dim=X as an argument.\n"
          ],
          "name": "stderr"
        }
      ]
    },
    {
      "cell_type": "markdown",
      "metadata": {
        "id": "RgBuP1ygq83y",
        "colab_type": "text"
      },
      "source": [
        "## Training Loop Design"
      ]
    },
    {
      "cell_type": "code",
      "metadata": {
        "id": "zceBPFodrAKI",
        "colab_type": "code",
        "colab": {}
      },
      "source": [
        "# basic loop structure\n",
        "\n",
        "def one_epoch(model,trn_dl,val_dl,opt,device='cpu'):\n",
        "  # variables to keep track off during one epoch\n",
        "  bcount=0\n",
        "  tlosses=0\n",
        "  tacc=0\n",
        "  # put model in training mode\n",
        "  model.train()\n",
        "  # define a progress bar\n",
        "  pbar = tqdm(trn_dl)\n",
        "  # loop through every batch in dataloader\n",
        "  for batch_index,(xb,yb) in enumerate(pbar):\n",
        "    # move the data to cpu or gpu based on device arg\n",
        "    xb,yb=xb.to(device),yb.to(device)\n",
        "    bs = xb.shape[0]\n",
        "    # clean the gradients of parameters computed in the previous batch\n",
        "    opt.zero_grad()\n",
        "    # predict the batch\n",
        "    preds = model(xb)\n",
        "    # compute batch loss\n",
        "    loss = F.nll_loss(preds,yb)\n",
        "    # append the current loss to list\n",
        "    tlosses+=loss*bs\n",
        "    # call back propagation\n",
        "    loss.backward()\n",
        "    # call the optimization step\n",
        "    opt.step()\n",
        "    # compute the current model accuracy\n",
        "    y_preds=preds.argmax(dim=1,keepdim=True)\n",
        "    # compute current accuracy of the training batch and add it to the total count of accurate results\n",
        "    tacc+= y_preds.eq(yb.view_as(y_preds)).sum().item()\n",
        "    bcount+=bs\n",
        "    # add progress bar description with current batch loss and moving average of training accuracy\n",
        "    pbar.set_description(desc=f'Loss={loss.item():.3f} batch-index={batch_index} Accuracy={100*tacc/bcount:0.2f}')\n",
        "  \n",
        "  # compute the updated training loss and accuracy for entire batch\n",
        "  tlosses/=bcount\n",
        "  tacc/=bcount\n",
        "\n",
        "  # loop through validation data and compute the metrics on validation data\n",
        "  model.eval()\n",
        "  vloss=0\n",
        "  vacc=0\n",
        "  vcount=0\n",
        "  with torch.no_grad():\n",
        "    for xb,yb in tqdm(val_dl):\n",
        "      bs = xb.shape[0]\n",
        "      xb,yb = xb.to(device),yb.to(device)\n",
        "      preds = model(xb)\n",
        "      loss = F.nll_loss(preds,yb,reduction='sum')\n",
        "      y_preds = preds.argmax(dim=1,keepdim=True)\n",
        "      vacc+=y_preds.eq(yb.view_as(y_preds)).sum().item()\n",
        "      vcount+=bs\n",
        "      vloss+=loss.item()\n",
        "  vloss/=vcount\n",
        "  vacc/=vcount\n",
        "  return {'TrainingLoss':tlosses,'ValidationLoss':vloss,'TrainingAcc':tacc,'ValidationAcc':vacc}\n",
        "\n",
        "\n",
        "\n",
        "\n",
        "\n",
        "\n"
      ],
      "execution_count": 0,
      "outputs": []
    },
    {
      "cell_type": "markdown",
      "metadata": {
        "id": "qvjjTyy07bdr",
        "colab_type": "text"
      },
      "source": [
        "## Training the Model"
      ]
    },
    {
      "cell_type": "code",
      "metadata": {
        "id": "YSGGjnq8uS1U",
        "colab_type": "code",
        "outputId": "d61054a9-5ab8-4927-9697-3e7b6da9121d",
        "colab": {
          "base_uri": "https://localhost:8080/",
          "height": 1000
        }
      },
      "source": [
        "mod=Model().cuda()\n",
        "opt = optim.SGD(mod.parameters(),lr=0.01,momentum=0.9)\n",
        "for e in range(EPOCHS):\n",
        "  ldict=one_epoch(mod,train_dl,test_dl,opt,device=dev)\n",
        "  print(f'\\nEpoch:{e}--> Training Loss:{ldict[\"TrainingLoss\"]:.3f}, Validation Loss:{ldict[\"ValidationLoss\"]:.3f}\\n')\n",
        "  print(f'Training Accuracy:{100*ldict[\"TrainingAcc\"]:.3f}, Validation Accuracy:{100*ldict[\"ValidationAcc\"]:.3f}\\n')\n",
        "\n",
        "  "
      ],
      "execution_count": 0,
      "outputs": [
        {
          "output_type": "stream",
          "text": [
            "  0%|          | 0/469 [00:00<?, ?it/s]/usr/local/lib/python3.6/dist-packages/ipykernel_launcher.py:30: UserWarning: Implicit dimension choice for log_softmax has been deprecated. Change the call to include dim=X as an argument.\n",
            "Loss=0.069 batch-index=468 Accuracy=89.24: 100%|██████████| 469/469 [00:12<00:00, 37.61it/s]\n",
            "100%|██████████| 40/40 [00:01<00:00, 26.08it/s]\n",
            "  0%|          | 0/469 [00:00<?, ?it/s]"
          ],
          "name": "stderr"
        },
        {
          "output_type": "stream",
          "text": [
            "\n",
            "Epoch:0--> Training Loss:0.440, Validation Loss:0.066\n",
            "\n",
            "Training Accuracy:89.238, Validation Accuracy:98.280\n",
            "\n"
          ],
          "name": "stdout"
        },
        {
          "output_type": "stream",
          "text": [
            "Loss=0.039 batch-index=468 Accuracy=98.24: 100%|██████████| 469/469 [00:12<00:00, 38.64it/s]\n",
            "100%|██████████| 40/40 [00:01<00:00, 27.20it/s]\n",
            "  0%|          | 0/469 [00:00<?, ?it/s]"
          ],
          "name": "stderr"
        },
        {
          "output_type": "stream",
          "text": [
            "\n",
            "Epoch:1--> Training Loss:0.064, Validation Loss:0.045\n",
            "\n",
            "Training Accuracy:98.242, Validation Accuracy:98.820\n",
            "\n"
          ],
          "name": "stdout"
        },
        {
          "output_type": "stream",
          "text": [
            "Loss=0.027 batch-index=468 Accuracy=98.70: 100%|██████████| 469/469 [00:12<00:00, 38.17it/s]\n",
            "100%|██████████| 40/40 [00:01<00:00, 29.27it/s]\n",
            "  0%|          | 0/469 [00:00<?, ?it/s]"
          ],
          "name": "stderr"
        },
        {
          "output_type": "stream",
          "text": [
            "\n",
            "Epoch:2--> Training Loss:0.046, Validation Loss:0.038\n",
            "\n",
            "Training Accuracy:98.697, Validation Accuracy:99.060\n",
            "\n"
          ],
          "name": "stdout"
        },
        {
          "output_type": "stream",
          "text": [
            "Loss=0.040 batch-index=468 Accuracy=98.92: 100%|██████████| 469/469 [00:12<00:00, 37.53it/s]\n",
            "100%|██████████| 40/40 [00:01<00:00, 28.46it/s]\n",
            "  0%|          | 0/469 [00:00<?, ?it/s]"
          ],
          "name": "stderr"
        },
        {
          "output_type": "stream",
          "text": [
            "\n",
            "Epoch:3--> Training Loss:0.038, Validation Loss:0.031\n",
            "\n",
            "Training Accuracy:98.915, Validation Accuracy:99.140\n",
            "\n"
          ],
          "name": "stdout"
        },
        {
          "output_type": "stream",
          "text": [
            "Loss=0.018 batch-index=468 Accuracy=99.03: 100%|██████████| 469/469 [00:12<00:00, 38.52it/s]\n",
            "100%|██████████| 40/40 [00:01<00:00, 27.31it/s]\n",
            "  0%|          | 0/469 [00:00<?, ?it/s]"
          ],
          "name": "stderr"
        },
        {
          "output_type": "stream",
          "text": [
            "\n",
            "Epoch:4--> Training Loss:0.033, Validation Loss:0.033\n",
            "\n",
            "Training Accuracy:99.025, Validation Accuracy:98.960\n",
            "\n"
          ],
          "name": "stdout"
        },
        {
          "output_type": "stream",
          "text": [
            "Loss=0.018 batch-index=468 Accuracy=99.08: 100%|██████████| 469/469 [00:12<00:00, 37.85it/s]\n",
            "100%|██████████| 40/40 [00:01<00:00, 26.57it/s]\n",
            "  0%|          | 0/469 [00:00<?, ?it/s]"
          ],
          "name": "stderr"
        },
        {
          "output_type": "stream",
          "text": [
            "\n",
            "Epoch:5--> Training Loss:0.031, Validation Loss:0.029\n",
            "\n",
            "Training Accuracy:99.080, Validation Accuracy:99.150\n",
            "\n"
          ],
          "name": "stdout"
        },
        {
          "output_type": "stream",
          "text": [
            "Loss=0.022 batch-index=468 Accuracy=99.19: 100%|██████████| 469/469 [00:11<00:00, 39.43it/s]\n",
            "100%|██████████| 40/40 [00:01<00:00, 27.37it/s]\n",
            "  0%|          | 0/469 [00:00<?, ?it/s]"
          ],
          "name": "stderr"
        },
        {
          "output_type": "stream",
          "text": [
            "\n",
            "Epoch:6--> Training Loss:0.027, Validation Loss:0.031\n",
            "\n",
            "Training Accuracy:99.188, Validation Accuracy:99.000\n",
            "\n"
          ],
          "name": "stdout"
        },
        {
          "output_type": "stream",
          "text": [
            "Loss=0.029 batch-index=468 Accuracy=99.29: 100%|██████████| 469/469 [00:12<00:00, 37.61it/s]\n",
            "100%|██████████| 40/40 [00:01<00:00, 27.03it/s]\n",
            "  0%|          | 0/469 [00:00<?, ?it/s]"
          ],
          "name": "stderr"
        },
        {
          "output_type": "stream",
          "text": [
            "\n",
            "Epoch:7--> Training Loss:0.024, Validation Loss:0.031\n",
            "\n",
            "Training Accuracy:99.288, Validation Accuracy:98.990\n",
            "\n"
          ],
          "name": "stdout"
        },
        {
          "output_type": "stream",
          "text": [
            "Loss=0.024 batch-index=468 Accuracy=99.38: 100%|██████████| 469/469 [00:11<00:00, 39.26it/s]\n",
            "100%|██████████| 40/40 [00:01<00:00, 26.01it/s]\n",
            "  0%|          | 0/469 [00:00<?, ?it/s]"
          ],
          "name": "stderr"
        },
        {
          "output_type": "stream",
          "text": [
            "\n",
            "Epoch:8--> Training Loss:0.022, Validation Loss:0.033\n",
            "\n",
            "Training Accuracy:99.383, Validation Accuracy:99.020\n",
            "\n"
          ],
          "name": "stdout"
        },
        {
          "output_type": "stream",
          "text": [
            "Loss=0.047 batch-index=468 Accuracy=99.38: 100%|██████████| 469/469 [00:12<00:00, 38.39it/s]\n",
            "100%|██████████| 40/40 [00:01<00:00, 27.69it/s]\n",
            "  0%|          | 0/469 [00:00<?, ?it/s]"
          ],
          "name": "stderr"
        },
        {
          "output_type": "stream",
          "text": [
            "\n",
            "Epoch:9--> Training Loss:0.021, Validation Loss:0.033\n",
            "\n",
            "Training Accuracy:99.380, Validation Accuracy:98.990\n",
            "\n"
          ],
          "name": "stdout"
        },
        {
          "output_type": "stream",
          "text": [
            "Loss=0.002 batch-index=468 Accuracy=99.42: 100%|██████████| 469/469 [00:12<00:00, 38.73it/s]\n",
            "100%|██████████| 40/40 [00:01<00:00, 25.99it/s]\n",
            "  0%|          | 0/469 [00:00<?, ?it/s]"
          ],
          "name": "stderr"
        },
        {
          "output_type": "stream",
          "text": [
            "\n",
            "Epoch:10--> Training Loss:0.020, Validation Loss:0.026\n",
            "\n",
            "Training Accuracy:99.417, Validation Accuracy:99.180\n",
            "\n"
          ],
          "name": "stdout"
        },
        {
          "output_type": "stream",
          "text": [
            "Loss=0.004 batch-index=468 Accuracy=99.46: 100%|██████████| 469/469 [00:11<00:00, 39.54it/s]\n",
            "100%|██████████| 40/40 [00:01<00:00, 27.09it/s]\n",
            "  0%|          | 0/469 [00:00<?, ?it/s]"
          ],
          "name": "stderr"
        },
        {
          "output_type": "stream",
          "text": [
            "\n",
            "Epoch:11--> Training Loss:0.018, Validation Loss:0.028\n",
            "\n",
            "Training Accuracy:99.463, Validation Accuracy:99.180\n",
            "\n"
          ],
          "name": "stdout"
        },
        {
          "output_type": "stream",
          "text": [
            "Loss=0.021 batch-index=468 Accuracy=99.50: 100%|██████████| 469/469 [00:12<00:00, 38.95it/s]\n",
            "100%|██████████| 40/40 [00:01<00:00, 26.87it/s]\n",
            "  0%|          | 0/469 [00:00<?, ?it/s]"
          ],
          "name": "stderr"
        },
        {
          "output_type": "stream",
          "text": [
            "\n",
            "Epoch:12--> Training Loss:0.016, Validation Loss:0.023\n",
            "\n",
            "Training Accuracy:99.498, Validation Accuracy:99.270\n",
            "\n"
          ],
          "name": "stdout"
        },
        {
          "output_type": "stream",
          "text": [
            "Loss=0.005 batch-index=468 Accuracy=99.55: 100%|██████████| 469/469 [00:12<00:00, 38.54it/s]\n",
            "100%|██████████| 40/40 [00:01<00:00, 24.17it/s]\n",
            "  0%|          | 0/469 [00:00<?, ?it/s]"
          ],
          "name": "stderr"
        },
        {
          "output_type": "stream",
          "text": [
            "\n",
            "Epoch:13--> Training Loss:0.015, Validation Loss:0.026\n",
            "\n",
            "Training Accuracy:99.545, Validation Accuracy:99.300\n",
            "\n"
          ],
          "name": "stdout"
        },
        {
          "output_type": "stream",
          "text": [
            "Loss=0.008 batch-index=468 Accuracy=99.58: 100%|██████████| 469/469 [00:12<00:00, 38.90it/s]\n",
            "100%|██████████| 40/40 [00:01<00:00, 27.47it/s]"
          ],
          "name": "stderr"
        },
        {
          "output_type": "stream",
          "text": [
            "\n",
            "Epoch:14--> Training Loss:0.014, Validation Loss:0.028\n",
            "\n",
            "Training Accuracy:99.577, Validation Accuracy:99.220\n",
            "\n"
          ],
          "name": "stdout"
        },
        {
          "output_type": "stream",
          "text": [
            "\n"
          ],
          "name": "stderr"
        }
      ]
    },
    {
      "cell_type": "code",
      "metadata": {
        "id": "ijMc3zIOBOV9",
        "colab_type": "code",
        "colab": {}
      },
      "source": [
        ""
      ],
      "execution_count": 0,
      "outputs": []
    }
  ]
}