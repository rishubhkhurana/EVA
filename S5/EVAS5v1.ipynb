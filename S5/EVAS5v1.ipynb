{
  "nbformat": 4,
  "nbformat_minor": 0,
  "metadata": {
    "colab": {
      "name": "EVAS5v1.ipynb",
      "provenance": [],
      "collapsed_sections": [
        "lnXNl9lRPtKr",
        "6vPf5eWbPPyR",
        "waXsAZIJQv4-",
        "Jp2M9oi0XWna"
      ],
      "authorship_tag": "ABX9TyMZ7axgpqNTTZsINul/1vnY",
      "include_colab_link": true
    },
    "kernelspec": {
      "name": "python3",
      "display_name": "Python 3"
    },
    "accelerator": "GPU"
  },
  "cells": [
    {
      "cell_type": "markdown",
      "metadata": {
        "id": "view-in-github",
        "colab_type": "text"
      },
      "source": [
        "<a href=\"https://colab.research.google.com/github/rishubhkhurana/EVA/blob/master/S5/EVAS5v1.ipynb\" target=\"_parent\"><img src=\"https://colab.research.google.com/assets/colab-badge.svg\" alt=\"Open In Colab\"/></a>"
      ]
    },
    {
      "cell_type": "markdown",
      "metadata": {
        "id": "zutK2AAQOfs9",
        "colab_type": "text"
      },
      "source": [
        "## Notebook Analysis -- First Version\n",
        "\n",
        "1. Target -- Set up all the requisite code blocks. Try and achieve ~ 99% in 15 epochs.\n",
        "2. Result -- Achieved Best Training Accuracy of 99.25 and Validation accuracy of 99.16\n",
        "3. Analysis -- ~20K parameters. Higher capacity than required. Saw some overfitting in the last epochs. "
      ]
    },
    {
      "cell_type": "markdown",
      "metadata": {
        "id": "lnXNl9lRPtKr",
        "colab_type": "text"
      },
      "source": [
        "## Import Libs\n"
      ]
    },
    {
      "cell_type": "code",
      "metadata": {
        "id": "JHx4q89VOqyJ",
        "colab_type": "code",
        "colab": {}
      },
      "source": [
        "import torch\n",
        "import torch.nn as nn\n",
        "import torch.nn.functional as F\n",
        "from torchvision.datasets import MNIST\n",
        "import torch.optim as optim\n",
        "import matplotlib.pyplot as plt\n",
        "import numpy as np\n",
        "import PIL\n",
        "from PIL import Image\n",
        "from torchvision.transforms import transforms\n",
        "from torch.utils.data import DataLoader\n",
        "from tqdm import tqdm"
      ],
      "execution_count": 0,
      "outputs": []
    },
    {
      "cell_type": "code",
      "metadata": {
        "id": "7v74X2Fsp8J3",
        "colab_type": "code",
        "outputId": "d025c6c4-f3bc-4605-8a55-3f9e364a349a",
        "colab": {
          "base_uri": "https://localhost:8080/"
        }
      },
      "source": [
        "!pip install torchsummary"
      ],
      "execution_count": 0,
      "outputs": [
        {
          "output_type": "stream",
          "text": [
            "Requirement already satisfied: torchsummary in /usr/local/lib/python3.6/dist-packages (1.5.1)\n"
          ],
          "name": "stdout"
        }
      ]
    },
    {
      "cell_type": "code",
      "metadata": {
        "id": "rRiy1zkop985",
        "colab_type": "code",
        "colab": {}
      },
      "source": [
        "from torchsummary import summary"
      ],
      "execution_count": 0,
      "outputs": []
    },
    {
      "cell_type": "markdown",
      "metadata": {
        "id": "6vPf5eWbPPyR",
        "colab_type": "text"
      },
      "source": [
        "## Transforms/Reading Dataset"
      ]
    },
    {
      "cell_type": "code",
      "metadata": {
        "id": "6ZT5DwJdPiZm",
        "colab_type": "code",
        "colab": {}
      },
      "source": [
        "train_transforms = transforms.Compose([transforms.ToTensor()])\n",
        "test_transforms = transforms.Compose([transforms.ToTensor()])"
      ],
      "execution_count": 0,
      "outputs": []
    },
    {
      "cell_type": "code",
      "metadata": {
        "id": "XcBuRgV8O4nA",
        "colab_type": "code",
        "colab": {}
      },
      "source": [
        "train_data=MNIST(root='./data',train=True,transform=train_transforms,download=True)\n",
        "test_data=MNIST(root='./data',train=False,transform=test_transforms,download=True)"
      ],
      "execution_count": 0,
      "outputs": []
    },
    {
      "cell_type": "code",
      "metadata": {
        "id": "BjcfI_FUXdP-",
        "colab_type": "code",
        "outputId": "68d5cb88-b6fe-4360-d88d-711b9045af19",
        "colab": {
          "base_uri": "https://localhost:8080/"
        }
      },
      "source": [
        "print(f\"Training Dataset Mean: {train_data.transform(train_data.train_data.numpy()).float().mean()}\")\n",
        "print(f\"Training Dataset Mean: {train_data.transform(train_data.train_data.numpy()).float().std()}\")"
      ],
      "execution_count": 0,
      "outputs": [
        {
          "output_type": "stream",
          "text": [
            "/usr/local/lib/python3.6/dist-packages/torchvision/datasets/mnist.py:55: UserWarning: train_data has been renamed data\n",
            "  warnings.warn(\"train_data has been renamed data\")\n"
          ],
          "name": "stderr"
        },
        {
          "output_type": "stream",
          "text": [
            "Training Dataset Mean: 0.13054245710372925\n",
            "Training Dataset Mean: 0.30810782313346863\n"
          ],
          "name": "stdout"
        }
      ]
    },
    {
      "cell_type": "code",
      "metadata": {
        "id": "FdfADM1gXep7",
        "colab_type": "code",
        "outputId": "e598b019-7788-4cab-a091-a50dd7f480b4",
        "colab": {
          "base_uri": "https://localhost:8080/"
        }
      },
      "source": [
        "print(f\"Testing Dataset Mean: {train_data.transform(train_data.train_data.numpy()).float().mean()}\")\n",
        "print(f\"Testing Dataset Mean: {test_data.transform(test_data.train_data.numpy()).float().std()}\")"
      ],
      "execution_count": 0,
      "outputs": [
        {
          "output_type": "stream",
          "text": [
            "Testing Dataset Mean: 0.13054245710372925\n"
          ],
          "name": "stdout"
        },
        {
          "output_type": "stream",
          "text": [
            "/usr/local/lib/python3.6/dist-packages/torchvision/datasets/mnist.py:55: UserWarning: train_data has been renamed data\n",
            "  warnings.warn(\"train_data has been renamed data\")\n"
          ],
          "name": "stderr"
        },
        {
          "output_type": "stream",
          "text": [
            "Testing Dataset Mean: 0.3104802668094635\n"
          ],
          "name": "stdout"
        }
      ]
    },
    {
      "cell_type": "code",
      "metadata": {
        "id": "8U5LFMcxXjvq",
        "colab_type": "code",
        "colab": {}
      },
      "source": [
        "train_transforms = transforms.Compose([transforms.ToTensor(),transforms.Normalize((0.1305,),(0.308,))])\n",
        "test_transforms = transforms.Compose([transforms.ToTensor(),transforms.Normalize((0.1305,),(0.308,))])"
      ],
      "execution_count": 0,
      "outputs": []
    },
    {
      "cell_type": "code",
      "metadata": {
        "id": "UXF_ztKWXwfT",
        "colab_type": "code",
        "colab": {}
      },
      "source": [
        "train_data=MNIST(root='./data',train=True,transform=train_transforms,download=True)\n",
        "test_data=MNIST(root='./data',train=False,transform=test_transforms,download=True)"
      ],
      "execution_count": 0,
      "outputs": []
    },
    {
      "cell_type": "code",
      "metadata": {
        "id": "p_WjCYvuXx3S",
        "colab_type": "code",
        "outputId": "becc64dd-1b80-4e64-8054-d5df7ffcee0f",
        "colab": {
          "base_uri": "https://localhost:8080/"
        }
      },
      "source": [
        "print(f\"Training Dataset Mean: {train_data.transform(train_data.train_data.numpy()).float().mean()}\")\n",
        "print(f\"Training Dataset Mean: {train_data.transform(train_data.train_data.numpy()).float().std()}\")"
      ],
      "execution_count": 0,
      "outputs": [
        {
          "output_type": "stream",
          "text": [
            "/usr/local/lib/python3.6/dist-packages/torchvision/datasets/mnist.py:55: UserWarning: train_data has been renamed data\n",
            "  warnings.warn(\"train_data has been renamed data\")\n"
          ],
          "name": "stderr"
        },
        {
          "output_type": "stream",
          "text": [
            "Training Dataset Mean: 0.00167939648963511\n",
            "Training Dataset Mean: 1.000349998474121\n"
          ],
          "name": "stdout"
        }
      ]
    },
    {
      "cell_type": "code",
      "metadata": {
        "id": "t8K3RC6dXy9c",
        "colab_type": "code",
        "outputId": "e9035321-819c-4c82-d970-2806b2dd69c2",
        "colab": {
          "base_uri": "https://localhost:8080/"
        }
      },
      "source": [
        "print(f\"Testing Dataset Mean: {train_data.transform(train_data.train_data.numpy()).float().mean()}\")\n",
        "print(f\"Testing Dataset Mean: {test_data.transform(test_data.train_data.numpy()).float().std()}\")"
      ],
      "execution_count": 0,
      "outputs": [
        {
          "output_type": "stream",
          "text": [
            "/usr/local/lib/python3.6/dist-packages/torchvision/datasets/mnist.py:55: UserWarning: train_data has been renamed data\n",
            "  warnings.warn(\"train_data has been renamed data\")\n"
          ],
          "name": "stderr"
        },
        {
          "output_type": "stream",
          "text": [
            "Testing Dataset Mean: 0.00167939648963511\n",
            "Testing Dataset Mean: 1.0080528259277344\n"
          ],
          "name": "stdout"
        }
      ]
    },
    {
      "cell_type": "markdown",
      "metadata": {
        "id": "waXsAZIJQv4-",
        "colab_type": "text"
      },
      "source": [
        "## Defining Data Loader\n"
      ]
    },
    {
      "cell_type": "code",
      "metadata": {
        "id": "amxbkuFEQnJ2",
        "colab_type": "code",
        "colab": {}
      },
      "source": [
        "# defining the seed for reproducible\n",
        "SEED = 99\n",
        "\n",
        "torch.manual_seed(SEED)\n",
        "\n",
        "# checking if the CUDA is available \n",
        "\n",
        "is_CUDA = torch.cuda.is_available()\n",
        "\n",
        "if is_CUDA:\n",
        "  dev = torch.device('cuda')\n",
        "else:\n",
        "  dev = torch.device('cpu')\n",
        "\n"
      ],
      "execution_count": 0,
      "outputs": []
    },
    {
      "cell_type": "code",
      "metadata": {
        "id": "BGWiiNepTzBF",
        "colab_type": "code",
        "colab": {}
      },
      "source": [
        "BATCH_SIZE=128\n",
        "EPOCHS=15"
      ],
      "execution_count": 0,
      "outputs": []
    },
    {
      "cell_type": "code",
      "metadata": {
        "id": "iqt-wXpdTOom",
        "colab_type": "code",
        "colab": {}
      },
      "source": [
        "dataloader_args = dict(shuffle=True,batch_size=BATCH_SIZE,pin_memory=True,num_workers=4) if is_CUDA else dict(shuffle=True,batch_size=BATCH_SIZE//2)\n",
        "train_dl = DataLoader(train_data,**dataloader_args)\n",
        "\n",
        "dataloader_args = dict(shuffle=False,batch_size=BATCH_SIZE*2,pin_memory=True,num_workers=4) if is_CUDA else dict(shuffle=False,batch_size=BATCH_SIZE)\n",
        "test_dl = DataLoader(test_data,**dataloader_args)"
      ],
      "execution_count": 0,
      "outputs": []
    },
    {
      "cell_type": "code",
      "metadata": {
        "id": "f1rMpA2bTPWN",
        "colab_type": "code",
        "colab": {}
      },
      "source": [
        "x,y=next(iter(train_dl))"
      ],
      "execution_count": 0,
      "outputs": []
    },
    {
      "cell_type": "code",
      "metadata": {
        "id": "PMOMcM-sU3qF",
        "colab_type": "code",
        "outputId": "4b2dcf9f-d251-4c22-868c-12a1b0c991f4",
        "colab": {
          "base_uri": "https://localhost:8080/"
        }
      },
      "source": [
        "x.size(),y.size()"
      ],
      "execution_count": 0,
      "outputs": [
        {
          "output_type": "execute_result",
          "data": {
            "text/plain": [
              "(torch.Size([128, 1, 28, 28]), torch.Size([128]))"
            ]
          },
          "metadata": {
            "tags": []
          },
          "execution_count": 16
        }
      ]
    },
    {
      "cell_type": "code",
      "metadata": {
        "id": "FvdKIyo5U7Bs",
        "colab_type": "code",
        "colab": {}
      },
      "source": [
        "torch.Tensor.stats = lambda x: (x.mean(),x.std())"
      ],
      "execution_count": 0,
      "outputs": []
    },
    {
      "cell_type": "code",
      "metadata": {
        "id": "_lALbhbKWfXr",
        "colab_type": "code",
        "outputId": "188c9dd5-77d2-4030-f471-d22ab95e4e77",
        "colab": {
          "base_uri": "https://localhost:8080/"
        }
      },
      "source": [
        "x.stats()"
      ],
      "execution_count": 0,
      "outputs": [
        {
          "output_type": "execute_result",
          "data": {
            "text/plain": [
              "(tensor(0.0281), tensor(1.0290))"
            ]
          },
          "metadata": {
            "tags": []
          },
          "execution_count": 18
        }
      ]
    },
    {
      "cell_type": "code",
      "metadata": {
        "id": "MFzvn8Zlzs6I",
        "colab_type": "code",
        "outputId": "61b4644c-7ca2-4c7e-c38a-466544bb7ca0",
        "colab": {
          "base_uri": "https://localhost:8080/"
        }
      },
      "source": [
        "type(x)"
      ],
      "execution_count": 0,
      "outputs": [
        {
          "output_type": "execute_result",
          "data": {
            "text/plain": [
              "torch.Tensor"
            ]
          },
          "metadata": {
            "tags": []
          },
          "execution_count": 19
        }
      ]
    },
    {
      "cell_type": "markdown",
      "metadata": {
        "id": "Jp2M9oi0XWna",
        "colab_type": "text"
      },
      "source": [
        "## Visualizing the data"
      ]
    },
    {
      "cell_type": "code",
      "metadata": {
        "id": "krIuDbgVYLKm",
        "colab_type": "code",
        "colab": {}
      },
      "source": [
        "def plot_img(img,axs=None,figsize=(6,6),visible=True):\n",
        "  if axs is None:\n",
        "    _,axs=plt.subplots(1,1,figsize=figsize)\n",
        "  if not visible:\n",
        "    #print(\"yesy\")\n",
        "    axs.set_xticks([])\n",
        "    axs.set_yticks([])\n",
        "  axs.imshow(img.numpy().squeeze(0),cmap='gray_r')\n",
        "  \n",
        "  "
      ],
      "execution_count": 0,
      "outputs": []
    },
    {
      "cell_type": "code",
      "metadata": {
        "id": "03uYQ6LdYqEb",
        "colab_type": "code",
        "outputId": "d58db62e-32cc-4c70-d098-fe64ba7f96a3",
        "colab": {
          "base_uri": "https://localhost:8080/"
        }
      },
      "source": [
        "plot_img(x[0],visible=False)"
      ],
      "execution_count": 0,
      "outputs": [
        {
          "output_type": "display_data",
          "data": {
            "image/png": "[encoded data removed]",
            "text/plain": [
              "<Figure size 432x432 with 1 Axes>"
            ]
          },
          "metadata": {
            "tags": []
          }
        }
      ]
    },
    {
      "cell_type": "code",
      "metadata": {
        "id": "gwmN7GzXYr9T",
        "colab_type": "code",
        "outputId": "81a4108d-53ff-4f2e-e99f-e6aa666e98d4",
        "colab": {
          "base_uri": "https://localhost:8080/"
        }
      },
      "source": [
        "fig,axs = plt.subplots(4,4,figsize=(10,10))\n",
        "for i,ax in enumerate(axs.ravel()):\n",
        "  plot_img(x[i],axs=axs[i//4,i%4],visible=False)"
      ],
      "execution_count": 0,
      "outputs": [
        {
          "output_type": "display_data",
          "data": {
            "image/png": "[encoded data removed]",
            "text/plain": [
              "<Figure size 720x720 with 16 Axes>"
            ]
          },
          "metadata": {
            "tags": []
          }
        }
      ]
    },
    {
      "cell_type": "markdown",
      "metadata": {
        "id": "IKjNFcvVcERa",
        "colab_type": "text"
      },
      "source": [
        "## Defining Model"
      ]
    },
    {
      "cell_type": "code",
      "metadata": {
        "id": "VEGgeKlrcQs1",
        "colab_type": "code",
        "colab": {}
      },
      "source": [
        "class Model(nn.Module):\n",
        "  def __init__(self,p=0.0,use_bias=True):\n",
        "    super().__init__()\n",
        "    self.alllyrs=nn.Sequential()\n",
        "    cblock1 = []\n",
        "    cblock1.append(nn.Sequential(*[nn.Conv2d(1,16,kernel_size=(3,3),stride=1,bias=use_bias),nn.ReLU()])) # output_size=26,RF=3\n",
        "    cblock1.append(nn.Sequential(*[nn.Conv2d(16,32,kernel_size=(3,3),stride=1,bias=use_bias),nn.ReLU()])) # output_size=24,RF=5\n",
        "    self.cblock1 = nn.Sequential(*cblock1)\n",
        "    tblock1=[]\n",
        "    tblock1.append(nn.MaxPool2d((2,2))) # output_size=12, RF=6\n",
        "    tblock1.append(nn.Sequential(*[nn.Conv2d(32,16,kernel_size=(1,1),stride=1,bias=use_bias),nn.ReLU()])) # output_size=12,RF=6\n",
        "    self.tblock1=nn.Sequential(*tblock1)\n",
        "    cblock2 = []\n",
        "    cblock2.append(nn.Sequential(*[nn.Conv2d(16,16,kernel_size=(3,3),stride=1,bias=use_bias),nn.ReLU()])) # output_size=10,RF=10\n",
        "    cblock2.append(nn.Sequential(*[nn.Conv2d(16,16,kernel_size=(3,3),stride=1,bias=use_bias),nn.ReLU()])) # output_size=8,RF=14\n",
        "    cblock2.append(nn.Sequential(*[nn.Conv2d(16,16,kernel_size=(3,3),stride=1,bias=use_bias),nn.ReLU()])) # output_size=6,RF=18\n",
        "    cblock2.append(nn.Sequential(*[nn.Conv2d(16,16,kernel_size=(3,3),stride=1,bias=use_bias),nn.ReLU()])) # output_size=4,RF=22\n",
        "    cblock2.append(nn.Sequential(*[nn.Conv2d(16,16,kernel_size=(3,3),stride=1,bias=use_bias),nn.ReLU()])) # output_size=4,RF=26\n",
        "\n",
        "    self.cblock2 = nn.Sequential(*cblock2)\n",
        "    tblock2=[]\n",
        "    tblock2.append(nn.AdaptiveAvgPool2d((1,1)))\n",
        "    tblock2.append(nn.Conv2d(16,10,kernel_size=(1,1),stride=1))\n",
        "    self.tblock2=nn.Sequential(*tblock2)\n",
        "  def forward(self,x):\n",
        "    x = self.cblock1(x)\n",
        "    x = self.tblock1(x)\n",
        "    x = self.cblock2(x)\n",
        "    x = self.tblock2(x)\n",
        "    return F.log_softmax(x).squeeze().squeeze()\n"
      ],
      "execution_count": 0,
      "outputs": []
    },
    {
      "cell_type": "code",
      "metadata": {
        "id": "PRTCWgbVpu9K",
        "colab_type": "code",
        "colab": {}
      },
      "source": [
        "mod=Model().cuda()"
      ],
      "execution_count": 0,
      "outputs": []
    },
    {
      "cell_type": "code",
      "metadata": {
        "id": "m9i8ofPWp1J4",
        "colab_type": "code",
        "colab": {}
      },
      "source": [
        "#mod"
      ],
      "execution_count": 0,
      "outputs": []
    },
    {
      "cell_type": "code",
      "metadata": {
        "id": "Lihiltakp1p3",
        "colab_type": "code",
        "outputId": "2ae40e95-cc8c-4342-86a4-91193723b154",
        "colab": {
          "base_uri": "https://localhost:8080/",
          "height": 642
        }
      },
      "source": [
        "summary(model=mod,input_size=(1,28,28))"
      ],
      "execution_count": 0,
      "outputs": [
        {
          "output_type": "stream",
          "text": [
            "----------------------------------------------------------------\n",
            "        Layer (type)               Output Shape         Param #\n",
            "================================================================\n",
            "            Conv2d-1           [-1, 16, 28, 28]             160\n",
            "              ReLU-2           [-1, 16, 28, 28]               0\n",
            "            Conv2d-3           [-1, 32, 28, 28]           4,640\n",
            "              ReLU-4           [-1, 32, 28, 28]               0\n",
            "         MaxPool2d-5           [-1, 32, 14, 14]               0\n",
            "            Conv2d-6           [-1, 16, 14, 14]             528\n",
            "              ReLU-7           [-1, 16, 14, 14]               0\n",
            "            Conv2d-8           [-1, 16, 14, 14]           2,320\n",
            "              ReLU-9           [-1, 16, 14, 14]               0\n",
            "           Conv2d-10           [-1, 32, 14, 14]           4,640\n",
            "             ReLU-11           [-1, 32, 14, 14]               0\n",
            "        MaxPool2d-12             [-1, 32, 7, 7]               0\n",
            "           Conv2d-13             [-1, 16, 7, 7]             528\n",
            "             ReLU-14             [-1, 16, 7, 7]               0\n",
            "           Conv2d-15             [-1, 16, 7, 7]           2,320\n",
            "             ReLU-16             [-1, 16, 7, 7]               0\n",
            "           Conv2d-17             [-1, 32, 5, 5]           4,640\n",
            "             ReLU-18             [-1, 32, 5, 5]               0\n",
            "AdaptiveAvgPool2d-19             [-1, 32, 1, 1]               0\n",
            "           Conv2d-20             [-1, 16, 1, 1]             528\n",
            "             ReLU-21             [-1, 16, 1, 1]               0\n",
            "           Conv2d-22             [-1, 10, 1, 1]             170\n",
            "================================================================\n",
            "Total params: 20,474\n",
            "Trainable params: 20,474\n",
            "Non-trainable params: 0\n",
            "----------------------------------------------------------------\n",
            "Input size (MB): 0.00\n",
            "Forward/backward pass size (MB): 0.86\n",
            "Params size (MB): 0.08\n",
            "Estimated Total Size (MB): 0.94\n",
            "----------------------------------------------------------------\n"
          ],
          "name": "stdout"
        },
        {
          "output_type": "stream",
          "text": [
            "/usr/local/lib/python3.6/dist-packages/ipykernel_launcher.py:36: UserWarning: Implicit dimension choice for log_softmax has been deprecated. Change the call to include dim=X as an argument.\n"
          ],
          "name": "stderr"
        }
      ]
    },
    {
      "cell_type": "markdown",
      "metadata": {
        "id": "RgBuP1ygq83y",
        "colab_type": "text"
      },
      "source": [
        "## Training Loop Design"
      ]
    },
    {
      "cell_type": "code",
      "metadata": {
        "id": "zceBPFodrAKI",
        "colab_type": "code",
        "colab": {}
      },
      "source": [
        "# basic loop structure\n",
        "\n",
        "def one_epoch(model,trn_dl,val_dl,opt,device='cpu'):\n",
        "  # variables to keep track off during one epoch\n",
        "  bcount=0\n",
        "  tlosses=0\n",
        "  tacc=0\n",
        "  # put model in training mode\n",
        "  model.train()\n",
        "  # define a progress bar\n",
        "  pbar = tqdm(trn_dl)\n",
        "  # loop through every batch in dataloader\n",
        "  for batch_index,(xb,yb) in enumerate(pbar):\n",
        "    # move the data to cpu or gpu based on device arg\n",
        "    xb,yb=xb.to(device),yb.to(device)\n",
        "    bs = xb.shape[0]\n",
        "    # clean the gradients of parameters computed in the previous batch\n",
        "    opt.zero_grad()\n",
        "    # predict the batch\n",
        "    preds = model(xb)\n",
        "    # compute batch loss\n",
        "    loss = F.nll_loss(preds,yb)\n",
        "    # append the current loss to list\n",
        "    tlosses+=loss*bs\n",
        "    # call back propagation\n",
        "    loss.backward()\n",
        "    # call the optimization step\n",
        "    opt.step()\n",
        "    # compute the current model accuracy\n",
        "    y_preds=preds.argmax(dim=1,keepdim=True)\n",
        "    # compute current accuracy of the training batch and add it to the total count of accurate results\n",
        "    tacc+= y_preds.eq(yb.view_as(y_preds)).sum().item()\n",
        "    bcount+=bs\n",
        "    # add progress bar description with current batch loss and moving average of training accuracy\n",
        "    pbar.set_description(desc=f'Loss={loss.item():.3f} batch-index={batch_index} Accuracy={100*tacc/bcount:0.2f}')\n",
        "  \n",
        "  # compute the updated training loss and accuracy for entire batch\n",
        "  tlosses/=bcount\n",
        "  tacc/=bcount\n",
        "\n",
        "  # loop through validation data and compute the metrics on validation data\n",
        "  model.eval()\n",
        "  vloss=0\n",
        "  vacc=0\n",
        "  vcount=0\n",
        "  with torch.no_grad():\n",
        "    for xb,yb in tqdm(val_dl):\n",
        "      bs = xb.shape[0]\n",
        "      xb,yb = xb.to(device),yb.to(device)\n",
        "      preds = model(xb)\n",
        "      loss = F.nll_loss(preds,yb,reduction='sum')\n",
        "      y_preds = preds.argmax(dim=1,keepdim=True)\n",
        "      vacc+=y_preds.eq(yb.view_as(y_preds)).sum().item()\n",
        "      vcount+=bs\n",
        "      vloss+=loss.item()\n",
        "  vloss/=vcount\n",
        "  vacc/=vcount\n",
        "  return {'TrainingLoss':tlosses,'ValidationLoss':vloss,'TrainingAcc':tacc,'ValidationAcc':vacc}\n",
        "\n",
        "\n",
        "\n",
        "\n",
        "\n",
        "\n"
      ],
      "execution_count": 0,
      "outputs": []
    },
    {
      "cell_type": "markdown",
      "metadata": {
        "id": "qvjjTyy07bdr",
        "colab_type": "text"
      },
      "source": [
        "## Training the Model"
      ]
    },
    {
      "cell_type": "code",
      "metadata": {
        "id": "YSGGjnq8uS1U",
        "colab_type": "code",
        "outputId": "a5cc0397-7f6d-49be-ea68-ef314ecc952a",
        "colab": {
          "base_uri": "https://localhost:8080/",
          "height": 1000
        }
      },
      "source": [
        "mod=Model().cuda()\n",
        "opt = optim.SGD(mod.parameters(),lr=0.05,momentum=0.9)\n",
        "for e in range(EPOCHS):\n",
        "  ldict=one_epoch(mod,train_dl,test_dl,opt,device=dev)\n",
        "  print(f'\\nEpoch:{e}--> Training Loss:{ldict[\"TrainingLoss\"]:.3f}, Validation Loss:{ldict[\"ValidationLoss\"]:.3f}\\n')\n",
        "  print(f'Training Accuracy:{100*ldict[\"TrainingAcc\"]:.3f}, Validation Accuracy:{100*ldict[\"ValidationAcc\"]:.3f}\\n')\n",
        "\n",
        "  "
      ],
      "execution_count": 0,
      "outputs": [
        {
          "output_type": "stream",
          "text": [
            "  0%|          | 0/469 [00:00<?, ?it/s]/usr/local/lib/python3.6/dist-packages/ipykernel_launcher.py:30: UserWarning: Implicit dimension choice for log_softmax has been deprecated. Change the call to include dim=X as an argument.\n",
            "Loss=0.197 batch-index=468 Accuracy=38.83: 100%|██████████| 469/469 [00:12<00:00, 38.68it/s]\n",
            "100%|██████████| 40/40 [00:01<00:00, 24.56it/s]\n",
            "  0%|          | 0/469 [00:00<?, ?it/s]"
          ],
          "name": "stderr"
        },
        {
          "output_type": "stream",
          "text": [
            "\n",
            "Epoch:0--> Training Loss:1.618, Validation Loss:0.297\n",
            "\n",
            "Training Accuracy:38.832, Validation Accuracy:90.920\n",
            "\n"
          ],
          "name": "stdout"
        },
        {
          "output_type": "stream",
          "text": [
            "Loss=0.046 batch-index=468 Accuracy=96.05: 100%|██████████| 469/469 [00:11<00:00, 41.00it/s]\n",
            "100%|██████████| 40/40 [00:01<00:00, 24.02it/s]\n",
            "  0%|          | 0/469 [00:00<?, ?it/s]"
          ],
          "name": "stderr"
        },
        {
          "output_type": "stream",
          "text": [
            "\n",
            "Epoch:1--> Training Loss:0.134, Validation Loss:0.067\n",
            "\n",
            "Training Accuracy:96.045, Validation Accuracy:98.060\n",
            "\n"
          ],
          "name": "stdout"
        },
        {
          "output_type": "stream",
          "text": [
            "Loss=0.043 batch-index=468 Accuracy=97.71: 100%|██████████| 469/469 [00:11<00:00, 40.63it/s]\n",
            "100%|██████████| 40/40 [00:01<00:00, 29.91it/s]\n",
            "  0%|          | 0/469 [00:00<?, ?it/s]"
          ],
          "name": "stderr"
        },
        {
          "output_type": "stream",
          "text": [
            "\n",
            "Epoch:2--> Training Loss:0.078, Validation Loss:0.061\n",
            "\n",
            "Training Accuracy:97.710, Validation Accuracy:98.090\n",
            "\n"
          ],
          "name": "stdout"
        },
        {
          "output_type": "stream",
          "text": [
            "Loss=0.077 batch-index=468 Accuracy=98.13: 100%|██████████| 469/469 [00:11<00:00, 40.11it/s]\n",
            "100%|██████████| 40/40 [00:01<00:00, 25.60it/s]\n",
            "  0%|          | 0/469 [00:00<?, ?it/s]"
          ],
          "name": "stderr"
        },
        {
          "output_type": "stream",
          "text": [
            "\n",
            "Epoch:3--> Training Loss:0.063, Validation Loss:0.050\n",
            "\n",
            "Training Accuracy:98.128, Validation Accuracy:98.530\n",
            "\n"
          ],
          "name": "stdout"
        },
        {
          "output_type": "stream",
          "text": [
            "Loss=0.055 batch-index=468 Accuracy=98.43: 100%|██████████| 469/469 [00:11<00:00, 40.73it/s]\n",
            "100%|██████████| 40/40 [00:01<00:00, 26.76it/s]\n",
            "  0%|          | 0/469 [00:00<?, ?it/s]"
          ],
          "name": "stderr"
        },
        {
          "output_type": "stream",
          "text": [
            "\n",
            "Epoch:4--> Training Loss:0.052, Validation Loss:0.052\n",
            "\n",
            "Training Accuracy:98.433, Validation Accuracy:98.590\n",
            "\n"
          ],
          "name": "stdout"
        },
        {
          "output_type": "stream",
          "text": [
            "Loss=0.038 batch-index=468 Accuracy=98.58: 100%|██████████| 469/469 [00:11<00:00, 39.90it/s]\n",
            "100%|██████████| 40/40 [00:01<00:00, 27.44it/s]\n",
            "  0%|          | 0/469 [00:00<?, ?it/s]"
          ],
          "name": "stderr"
        },
        {
          "output_type": "stream",
          "text": [
            "\n",
            "Epoch:5--> Training Loss:0.046, Validation Loss:0.046\n",
            "\n",
            "Training Accuracy:98.583, Validation Accuracy:98.630\n",
            "\n"
          ],
          "name": "stdout"
        },
        {
          "output_type": "stream",
          "text": [
            "Loss=0.057 batch-index=468 Accuracy=98.92: 100%|██████████| 469/469 [00:11<00:00, 39.61it/s]\n",
            "100%|██████████| 40/40 [00:01<00:00, 27.06it/s]\n",
            "  0%|          | 0/469 [00:00<?, ?it/s]"
          ],
          "name": "stderr"
        },
        {
          "output_type": "stream",
          "text": [
            "\n",
            "Epoch:6--> Training Loss:0.037, Validation Loss:0.035\n",
            "\n",
            "Training Accuracy:98.920, Validation Accuracy:98.900\n",
            "\n"
          ],
          "name": "stdout"
        },
        {
          "output_type": "stream",
          "text": [
            "Loss=0.040 batch-index=468 Accuracy=98.88: 100%|██████████| 469/469 [00:11<00:00, 39.80it/s]\n",
            "100%|██████████| 40/40 [00:01<00:00, 25.06it/s]\n",
            "  0%|          | 0/469 [00:00<?, ?it/s]"
          ],
          "name": "stderr"
        },
        {
          "output_type": "stream",
          "text": [
            "\n",
            "Epoch:7--> Training Loss:0.036, Validation Loss:0.033\n",
            "\n",
            "Training Accuracy:98.882, Validation Accuracy:98.990\n",
            "\n"
          ],
          "name": "stdout"
        },
        {
          "output_type": "stream",
          "text": [
            "Loss=0.007 batch-index=468 Accuracy=99.06: 100%|██████████| 469/469 [00:11<00:00, 41.68it/s]\n",
            "100%|██████████| 40/40 [00:01<00:00, 27.03it/s]\n",
            "  0%|          | 0/469 [00:00<?, ?it/s]"
          ],
          "name": "stderr"
        },
        {
          "output_type": "stream",
          "text": [
            "\n",
            "Epoch:8--> Training Loss:0.032, Validation Loss:0.031\n",
            "\n",
            "Training Accuracy:99.057, Validation Accuracy:99.140\n",
            "\n"
          ],
          "name": "stdout"
        },
        {
          "output_type": "stream",
          "text": [
            "Loss=0.029 batch-index=468 Accuracy=99.08: 100%|██████████| 469/469 [00:11<00:00, 39.25it/s]\n",
            "100%|██████████| 40/40 [00:01<00:00, 25.35it/s]\n",
            "  0%|          | 0/469 [00:00<?, ?it/s]"
          ],
          "name": "stderr"
        },
        {
          "output_type": "stream",
          "text": [
            "\n",
            "Epoch:9--> Training Loss:0.032, Validation Loss:0.036\n",
            "\n",
            "Training Accuracy:99.075, Validation Accuracy:99.000\n",
            "\n"
          ],
          "name": "stdout"
        },
        {
          "output_type": "stream",
          "text": [
            "Loss=0.063 batch-index=468 Accuracy=99.06: 100%|██████████| 469/469 [00:11<00:00, 48.19it/s]\n",
            "100%|██████████| 40/40 [00:01<00:00, 25.82it/s]\n",
            "  0%|          | 0/469 [00:00<?, ?it/s]"
          ],
          "name": "stderr"
        },
        {
          "output_type": "stream",
          "text": [
            "\n",
            "Epoch:10--> Training Loss:0.031, Validation Loss:0.044\n",
            "\n",
            "Training Accuracy:99.057, Validation Accuracy:98.740\n",
            "\n"
          ],
          "name": "stdout"
        },
        {
          "output_type": "stream",
          "text": [
            "Loss=0.059 batch-index=468 Accuracy=99.12: 100%|██████████| 469/469 [00:11<00:00, 39.17it/s]\n",
            "100%|██████████| 40/40 [00:01<00:00, 26.98it/s]\n",
            "  0%|          | 0/469 [00:00<?, ?it/s]"
          ],
          "name": "stderr"
        },
        {
          "output_type": "stream",
          "text": [
            "\n",
            "Epoch:11--> Training Loss:0.028, Validation Loss:0.033\n",
            "\n",
            "Training Accuracy:99.123, Validation Accuracy:99.140\n",
            "\n"
          ],
          "name": "stdout"
        },
        {
          "output_type": "stream",
          "text": [
            "Loss=0.010 batch-index=468 Accuracy=99.25: 100%|██████████| 469/469 [00:11<00:00, 39.72it/s]\n",
            "100%|██████████| 40/40 [00:01<00:00, 25.90it/s]\n",
            "  0%|          | 0/469 [00:00<?, ?it/s]"
          ],
          "name": "stderr"
        },
        {
          "output_type": "stream",
          "text": [
            "\n",
            "Epoch:12--> Training Loss:0.025, Validation Loss:0.032\n",
            "\n",
            "Training Accuracy:99.252, Validation Accuracy:99.160\n",
            "\n"
          ],
          "name": "stdout"
        },
        {
          "output_type": "stream",
          "text": [
            "Loss=0.031 batch-index=468 Accuracy=99.26: 100%|██████████| 469/469 [00:12<00:00, 38.84it/s]\n",
            "100%|██████████| 40/40 [00:01<00:00, 26.55it/s]\n",
            "  0%|          | 0/469 [00:00<?, ?it/s]"
          ],
          "name": "stderr"
        },
        {
          "output_type": "stream",
          "text": [
            "\n",
            "Epoch:13--> Training Loss:0.024, Validation Loss:0.043\n",
            "\n",
            "Training Accuracy:99.262, Validation Accuracy:98.840\n",
            "\n"
          ],
          "name": "stdout"
        },
        {
          "output_type": "stream",
          "text": [
            "Loss=0.052 batch-index=468 Accuracy=99.26: 100%|██████████| 469/469 [00:12<00:00, 38.00it/s]\n",
            "100%|██████████| 40/40 [00:01<00:00, 27.03it/s]"
          ],
          "name": "stderr"
        },
        {
          "output_type": "stream",
          "text": [
            "\n",
            "Epoch:14--> Training Loss:0.025, Validation Loss:0.040\n",
            "\n",
            "Training Accuracy:99.257, Validation Accuracy:98.840\n",
            "\n"
          ],
          "name": "stdout"
        },
        {
          "output_type": "stream",
          "text": [
            "\n"
          ],
          "name": "stderr"
        }
      ]
    },
    {
      "cell_type": "code",
      "metadata": {
        "id": "ijMc3zIOBOV9",
        "colab_type": "code",
        "colab": {}
      },
      "source": [
        ""
      ],
      "execution_count": 0,
      "outputs": []
    }
  ]
}