{
  "nbformat": 4,
  "nbformat_minor": 0,
  "metadata": {
    "colab": {
      "name": "EVAS5v6.ipynb",
      "provenance": [],
      "collapsed_sections": [
        "lnXNl9lRPtKr",
        "6vPf5eWbPPyR",
        "Jp2M9oi0XWna",
        "RgBuP1ygq83y"
      ],
      "authorship_tag": "ABX9TyOEorweuqBL3SbK7SbqmJOC",
      "include_colab_link": true
    },
    "kernelspec": {
      "name": "python3",
      "display_name": "Python 3"
    },
    "accelerator": "GPU",
    "widgets": {
      "application/vnd.jupyter.widget-state+json": {
        "46d2a9b6910d4f4aa7adb30f76142877": {
          "model_module": "@jupyter-widgets/controls",
          "model_name": "HBoxModel",
          "state": {
            "_view_name": "HBoxView",
            "_dom_classes": [],
            "_model_name": "HBoxModel",
            "_view_module": "@jupyter-widgets/controls",
            "_model_module_version": "1.5.0",
            "_view_count": null,
            "_view_module_version": "1.5.0",
            "box_style": "",
            "layout": "IPY_MODEL_80019035f3f14f59965919f1d7bbfc28",
            "_model_module": "@jupyter-widgets/controls",
            "children": [
              "IPY_MODEL_d7efc432f6834d7882229f8b3165cc40",
              "IPY_MODEL_99131250838e4d2aa89f799407867afd"
            ]
          }
        },
        "80019035f3f14f59965919f1d7bbfc28": {
          "model_module": "@jupyter-widgets/base",
          "model_name": "LayoutModel",
          "state": {
            "_view_name": "LayoutView",
            "grid_template_rows": null,
            "right": null,
            "justify_content": null,
            "_view_module": "@jupyter-widgets/base",
            "overflow": null,
            "_model_module_version": "1.2.0",
            "_view_count": null,
            "flex_flow": null,
            "width": null,
            "min_width": null,
            "border": null,
            "align_items": null,
            "bottom": null,
            "_model_module": "@jupyter-widgets/base",
            "top": null,
            "grid_column": null,
            "overflow_y": null,
            "overflow_x": null,
            "grid_auto_flow": null,
            "grid_area": null,
            "grid_template_columns": null,
            "flex": null,
            "_model_name": "LayoutModel",
            "justify_items": null,
            "grid_row": null,
            "max_height": null,
            "align_content": null,
            "visibility": null,
            "align_self": null,
            "height": null,
            "min_height": null,
            "padding": null,
            "grid_auto_rows": null,
            "grid_gap": null,
            "max_width": null,
            "order": null,
            "_view_module_version": "1.2.0",
            "grid_template_areas": null,
            "object_position": null,
            "object_fit": null,
            "grid_auto_columns": null,
            "margin": null,
            "display": null,
            "left": null
          }
        },
        "d7efc432f6834d7882229f8b3165cc40": {
          "model_module": "@jupyter-widgets/controls",
          "model_name": "IntProgressModel",
          "state": {
            "_view_name": "ProgressView",
            "style": "IPY_MODEL_50d4317f90f340aeacca6dcef35c1e35",
            "_dom_classes": [],
            "description": "",
            "_model_name": "IntProgressModel",
            "bar_style": "success",
            "max": 1,
            "_view_module": "@jupyter-widgets/controls",
            "_model_module_version": "1.5.0",
            "value": 1,
            "_view_count": null,
            "_view_module_version": "1.5.0",
            "orientation": "horizontal",
            "min": 0,
            "description_tooltip": null,
            "_model_module": "@jupyter-widgets/controls",
            "layout": "IPY_MODEL_adb7682d2f3c423f8b30f3a2882bf4e7"
          }
        },
        "99131250838e4d2aa89f799407867afd": {
          "model_module": "@jupyter-widgets/controls",
          "model_name": "HTMLModel",
          "state": {
            "_view_name": "HTMLView",
            "style": "IPY_MODEL_e768ca2682ed4802a7389bbdd4a77c14",
            "_dom_classes": [],
            "description": "",
            "_model_name": "HTMLModel",
            "placeholder": "​",
            "_view_module": "@jupyter-widgets/controls",
            "_model_module_version": "1.5.0",
            "value": "9920512it [00:01, 8103825.51it/s]",
            "_view_count": null,
            "_view_module_version": "1.5.0",
            "description_tooltip": null,
            "_model_module": "@jupyter-widgets/controls",
            "layout": "IPY_MODEL_b810554423574e70afdf4f85183f6b55"
          }
        },
        "50d4317f90f340aeacca6dcef35c1e35": {
          "model_module": "@jupyter-widgets/controls",
          "model_name": "ProgressStyleModel",
          "state": {
            "_view_name": "StyleView",
            "_model_name": "ProgressStyleModel",
            "description_width": "",
            "_view_module": "@jupyter-widgets/base",
            "_model_module_version": "1.5.0",
            "_view_count": null,
            "_view_module_version": "1.2.0",
            "bar_color": null,
            "_model_module": "@jupyter-widgets/controls"
          }
        },
        "adb7682d2f3c423f8b30f3a2882bf4e7": {
          "model_module": "@jupyter-widgets/base",
          "model_name": "LayoutModel",
          "state": {
            "_view_name": "LayoutView",
            "grid_template_rows": null,
            "right": null,
            "justify_content": null,
            "_view_module": "@jupyter-widgets/base",
            "overflow": null,
            "_model_module_version": "1.2.0",
            "_view_count": null,
            "flex_flow": null,
            "width": null,
            "min_width": null,
            "border": null,
            "align_items": null,
            "bottom": null,
            "_model_module": "@jupyter-widgets/base",
            "top": null,
            "grid_column": null,
            "overflow_y": null,
            "overflow_x": null,
            "grid_auto_flow": null,
            "grid_area": null,
            "grid_template_columns": null,
            "flex": null,
            "_model_name": "LayoutModel",
            "justify_items": null,
            "grid_row": null,
            "max_height": null,
            "align_content": null,
            "visibility": null,
            "align_self": null,
            "height": null,
            "min_height": null,
            "padding": null,
            "grid_auto_rows": null,
            "grid_gap": null,
            "max_width": null,
            "order": null,
            "_view_module_version": "1.2.0",
            "grid_template_areas": null,
            "object_position": null,
            "object_fit": null,
            "grid_auto_columns": null,
            "margin": null,
            "display": null,
            "left": null
          }
        },
        "e768ca2682ed4802a7389bbdd4a77c14": {
          "model_module": "@jupyter-widgets/controls",
          "model_name": "DescriptionStyleModel",
          "state": {
            "_view_name": "StyleView",
            "_model_name": "DescriptionStyleModel",
            "description_width": "",
            "_view_module": "@jupyter-widgets/base",
            "_model_module_version": "1.5.0",
            "_view_count": null,
            "_view_module_version": "1.2.0",
            "_model_module": "@jupyter-widgets/controls"
          }
        },
        "b810554423574e70afdf4f85183f6b55": {
          "model_module": "@jupyter-widgets/base",
          "model_name": "LayoutModel",
          "state": {
            "_view_name": "LayoutView",
            "grid_template_rows": null,
            "right": null,
            "justify_content": null,
            "_view_module": "@jupyter-widgets/base",
            "overflow": null,
            "_model_module_version": "1.2.0",
            "_view_count": null,
            "flex_flow": null,
            "width": null,
            "min_width": null,
            "border": null,
            "align_items": null,
            "bottom": null,
            "_model_module": "@jupyter-widgets/base",
            "top": null,
            "grid_column": null,
            "overflow_y": null,
            "overflow_x": null,
            "grid_auto_flow": null,
            "grid_area": null,
            "grid_template_columns": null,
            "flex": null,
            "_model_name": "LayoutModel",
            "justify_items": null,
            "grid_row": null,
            "max_height": null,
            "align_content": null,
            "visibility": null,
            "align_self": null,
            "height": null,
            "min_height": null,
            "padding": null,
            "grid_auto_rows": null,
            "grid_gap": null,
            "max_width": null,
            "order": null,
            "_view_module_version": "1.2.0",
            "grid_template_areas": null,
            "object_position": null,
            "object_fit": null,
            "grid_auto_columns": null,
            "margin": null,
            "display": null,
            "left": null
          }
        },
        "ad721f0049eb4b0188bdbeecc3461ee3": {
          "model_module": "@jupyter-widgets/controls",
          "model_name": "HBoxModel",
          "state": {
            "_view_name": "HBoxView",
            "_dom_classes": [],
            "_model_name": "HBoxModel",
            "_view_module": "@jupyter-widgets/controls",
            "_model_module_version": "1.5.0",
            "_view_count": null,
            "_view_module_version": "1.5.0",
            "box_style": "",
            "layout": "IPY_MODEL_b7c8eaf4ed1c4122bc18de6da43e0da7",
            "_model_module": "@jupyter-widgets/controls",
            "children": [
              "IPY_MODEL_6253cacc15ef464a8ac559aa5240e60d",
              "IPY_MODEL_a87d38361e784b6dba83cd67f93b6566"
            ]
          }
        },
        "b7c8eaf4ed1c4122bc18de6da43e0da7": {
          "model_module": "@jupyter-widgets/base",
          "model_name": "LayoutModel",
          "state": {
            "_view_name": "LayoutView",
            "grid_template_rows": null,
            "right": null,
            "justify_content": null,
            "_view_module": "@jupyter-widgets/base",
            "overflow": null,
            "_model_module_version": "1.2.0",
            "_view_count": null,
            "flex_flow": null,
            "width": null,
            "min_width": null,
            "border": null,
            "align_items": null,
            "bottom": null,
            "_model_module": "@jupyter-widgets/base",
            "top": null,
            "grid_column": null,
            "overflow_y": null,
            "overflow_x": null,
            "grid_auto_flow": null,
            "grid_area": null,
            "grid_template_columns": null,
            "flex": null,
            "_model_name": "LayoutModel",
            "justify_items": null,
            "grid_row": null,
            "max_height": null,
            "align_content": null,
            "visibility": null,
            "align_self": null,
            "height": null,
            "min_height": null,
            "padding": null,
            "grid_auto_rows": null,
            "grid_gap": null,
            "max_width": null,
            "order": null,
            "_view_module_version": "1.2.0",
            "grid_template_areas": null,
            "object_position": null,
            "object_fit": null,
            "grid_auto_columns": null,
            "margin": null,
            "display": null,
            "left": null
          }
        },
        "6253cacc15ef464a8ac559aa5240e60d": {
          "model_module": "@jupyter-widgets/controls",
          "model_name": "IntProgressModel",
          "state": {
            "_view_name": "ProgressView",
            "style": "IPY_MODEL_cc069e563e0f49539adf4482dfb20c8b",
            "_dom_classes": [],
            "description": "",
            "_model_name": "IntProgressModel",
            "bar_style": "success",
            "max": 1,
            "_view_module": "@jupyter-widgets/controls",
            "_model_module_version": "1.5.0",
            "value": 1,
            "_view_count": null,
            "_view_module_version": "1.5.0",
            "orientation": "horizontal",
            "min": 0,
            "description_tooltip": null,
            "_model_module": "@jupyter-widgets/controls",
            "layout": "IPY_MODEL_9480e9819b8343ffa4182ddbeef31cfe"
          }
        },
        "a87d38361e784b6dba83cd67f93b6566": {
          "model_module": "@jupyter-widgets/controls",
          "model_name": "HTMLModel",
          "state": {
            "_view_name": "HTMLView",
            "style": "IPY_MODEL_c0798e01b0304ed6abd01a7a5bae5bbe",
            "_dom_classes": [],
            "description": "",
            "_model_name": "HTMLModel",
            "placeholder": "​",
            "_view_module": "@jupyter-widgets/controls",
            "_model_module_version": "1.5.0",
            "value": "32768it [00:00, 79568.07it/s]",
            "_view_count": null,
            "_view_module_version": "1.5.0",
            "description_tooltip": null,
            "_model_module": "@jupyter-widgets/controls",
            "layout": "IPY_MODEL_43860d278ed64f43a41f512647d3215d"
          }
        },
        "cc069e563e0f49539adf4482dfb20c8b": {
          "model_module": "@jupyter-widgets/controls",
          "model_name": "ProgressStyleModel",
          "state": {
            "_view_name": "StyleView",
            "_model_name": "ProgressStyleModel",
            "description_width": "",
            "_view_module": "@jupyter-widgets/base",
            "_model_module_version": "1.5.0",
            "_view_count": null,
            "_view_module_version": "1.2.0",
            "bar_color": null,
            "_model_module": "@jupyter-widgets/controls"
          }
        },
        "9480e9819b8343ffa4182ddbeef31cfe": {
          "model_module": "@jupyter-widgets/base",
          "model_name": "LayoutModel",
          "state": {
            "_view_name": "LayoutView",
            "grid_template_rows": null,
            "right": null,
            "justify_content": null,
            "_view_module": "@jupyter-widgets/base",
            "overflow": null,
            "_model_module_version": "1.2.0",
            "_view_count": null,
            "flex_flow": null,
            "width": null,
            "min_width": null,
            "border": null,
            "align_items": null,
            "bottom": null,
            "_model_module": "@jupyter-widgets/base",
            "top": null,
            "grid_column": null,
            "overflow_y": null,
            "overflow_x": null,
            "grid_auto_flow": null,
            "grid_area": null,
            "grid_template_columns": null,
            "flex": null,
            "_model_name": "LayoutModel",
            "justify_items": null,
            "grid_row": null,
            "max_height": null,
            "align_content": null,
            "visibility": null,
            "align_self": null,
            "height": null,
            "min_height": null,
            "padding": null,
            "grid_auto_rows": null,
            "grid_gap": null,
            "max_width": null,
            "order": null,
            "_view_module_version": "1.2.0",
            "grid_template_areas": null,
            "object_position": null,
            "object_fit": null,
            "grid_auto_columns": null,
            "margin": null,
            "display": null,
            "left": null
          }
        },
        "c0798e01b0304ed6abd01a7a5bae5bbe": {
          "model_module": "@jupyter-widgets/controls",
          "model_name": "DescriptionStyleModel",
          "state": {
            "_view_name": "StyleView",
            "_model_name": "DescriptionStyleModel",
            "description_width": "",
            "_view_module": "@jupyter-widgets/base",
            "_model_module_version": "1.5.0",
            "_view_count": null,
            "_view_module_version": "1.2.0",
            "_model_module": "@jupyter-widgets/controls"
          }
        },
        "43860d278ed64f43a41f512647d3215d": {
          "model_module": "@jupyter-widgets/base",
          "model_name": "LayoutModel",
          "state": {
            "_view_name": "LayoutView",
            "grid_template_rows": null,
            "right": null,
            "justify_content": null,
            "_view_module": "@jupyter-widgets/base",
            "overflow": null,
            "_model_module_version": "1.2.0",
            "_view_count": null,
            "flex_flow": null,
            "width": null,
            "min_width": null,
            "border": null,
            "align_items": null,
            "bottom": null,
            "_model_module": "@jupyter-widgets/base",
            "top": null,
            "grid_column": null,
            "overflow_y": null,
            "overflow_x": null,
            "grid_auto_flow": null,
            "grid_area": null,
            "grid_template_columns": null,
            "flex": null,
            "_model_name": "LayoutModel",
            "justify_items": null,
            "grid_row": null,
            "max_height": null,
            "align_content": null,
            "visibility": null,
            "align_self": null,
            "height": null,
            "min_height": null,
            "padding": null,
            "grid_auto_rows": null,
            "grid_gap": null,
            "max_width": null,
            "order": null,
            "_view_module_version": "1.2.0",
            "grid_template_areas": null,
            "object_position": null,
            "object_fit": null,
            "grid_auto_columns": null,
            "margin": null,
            "display": null,
            "left": null
          }
        },
        "9879d06b785c4c49ac10d8d6f72b5602": {
          "model_module": "@jupyter-widgets/controls",
          "model_name": "HBoxModel",
          "state": {
            "_view_name": "HBoxView",
            "_dom_classes": [],
            "_model_name": "HBoxModel",
            "_view_module": "@jupyter-widgets/controls",
            "_model_module_version": "1.5.0",
            "_view_count": null,
            "_view_module_version": "1.5.0",
            "box_style": "",
            "layout": "IPY_MODEL_5283e5c6f2e841e7a48e432489190b37",
            "_model_module": "@jupyter-widgets/controls",
            "children": [
              "IPY_MODEL_0581865afba64a99a34b44b1bbbd6b5c",
              "IPY_MODEL_b6fac81fbf49453f975c1294e97d7fbc"
            ]
          }
        },
        "5283e5c6f2e841e7a48e432489190b37": {
          "model_module": "@jupyter-widgets/base",
          "model_name": "LayoutModel",
          "state": {
            "_view_name": "LayoutView",
            "grid_template_rows": null,
            "right": null,
            "justify_content": null,
            "_view_module": "@jupyter-widgets/base",
            "overflow": null,
            "_model_module_version": "1.2.0",
            "_view_count": null,
            "flex_flow": null,
            "width": null,
            "min_width": null,
            "border": null,
            "align_items": null,
            "bottom": null,
            "_model_module": "@jupyter-widgets/base",
            "top": null,
            "grid_column": null,
            "overflow_y": null,
            "overflow_x": null,
            "grid_auto_flow": null,
            "grid_area": null,
            "grid_template_columns": null,
            "flex": null,
            "_model_name": "LayoutModel",
            "justify_items": null,
            "grid_row": null,
            "max_height": null,
            "align_content": null,
            "visibility": null,
            "align_self": null,
            "height": null,
            "min_height": null,
            "padding": null,
            "grid_auto_rows": null,
            "grid_gap": null,
            "max_width": null,
            "order": null,
            "_view_module_version": "1.2.0",
            "grid_template_areas": null,
            "object_position": null,
            "object_fit": null,
            "grid_auto_columns": null,
            "margin": null,
            "display": null,
            "left": null
          }
        },
        "0581865afba64a99a34b44b1bbbd6b5c": {
          "model_module": "@jupyter-widgets/controls",
          "model_name": "IntProgressModel",
          "state": {
            "_view_name": "ProgressView",
            "style": "IPY_MODEL_b39b4d5b2a524c90ab4945d4f6fcecba",
            "_dom_classes": [],
            "description": "",
            "_model_name": "IntProgressModel",
            "bar_style": "success",
            "max": 1,
            "_view_module": "@jupyter-widgets/controls",
            "_model_module_version": "1.5.0",
            "value": 1,
            "_view_count": null,
            "_view_module_version": "1.5.0",
            "orientation": "horizontal",
            "min": 0,
            "description_tooltip": null,
            "_model_module": "@jupyter-widgets/controls",
            "layout": "IPY_MODEL_7eea76e5a3394845b1bb02deb159ee70"
          }
        },
        "b6fac81fbf49453f975c1294e97d7fbc": {
          "model_module": "@jupyter-widgets/controls",
          "model_name": "HTMLModel",
          "state": {
            "_view_name": "HTMLView",
            "style": "IPY_MODEL_de126199d97149919271d533a2433e31",
            "_dom_classes": [],
            "description": "",
            "_model_name": "HTMLModel",
            "placeholder": "​",
            "_view_module": "@jupyter-widgets/controls",
            "_model_module_version": "1.5.0",
            "value": "1654784it [00:00, 1814074.97it/s]",
            "_view_count": null,
            "_view_module_version": "1.5.0",
            "description_tooltip": null,
            "_model_module": "@jupyter-widgets/controls",
            "layout": "IPY_MODEL_1b7937ce8f444123a98ca6587a9bc486"
          }
        },
        "b39b4d5b2a524c90ab4945d4f6fcecba": {
          "model_module": "@jupyter-widgets/controls",
          "model_name": "ProgressStyleModel",
          "state": {
            "_view_name": "StyleView",
            "_model_name": "ProgressStyleModel",
            "description_width": "",
            "_view_module": "@jupyter-widgets/base",
            "_model_module_version": "1.5.0",
            "_view_count": null,
            "_view_module_version": "1.2.0",
            "bar_color": null,
            "_model_module": "@jupyter-widgets/controls"
          }
        },
        "7eea76e5a3394845b1bb02deb159ee70": {
          "model_module": "@jupyter-widgets/base",
          "model_name": "LayoutModel",
          "state": {
            "_view_name": "LayoutView",
            "grid_template_rows": null,
            "right": null,
            "justify_content": null,
            "_view_module": "@jupyter-widgets/base",
            "overflow": null,
            "_model_module_version": "1.2.0",
            "_view_count": null,
            "flex_flow": null,
            "width": null,
            "min_width": null,
            "border": null,
            "align_items": null,
            "bottom": null,
            "_model_module": "@jupyter-widgets/base",
            "top": null,
            "grid_column": null,
            "overflow_y": null,
            "overflow_x": null,
            "grid_auto_flow": null,
            "grid_area": null,
            "grid_template_columns": null,
            "flex": null,
            "_model_name": "LayoutModel",
            "justify_items": null,
            "grid_row": null,
            "max_height": null,
            "align_content": null,
            "visibility": null,
            "align_self": null,
            "height": null,
            "min_height": null,
            "padding": null,
            "grid_auto_rows": null,
            "grid_gap": null,
            "max_width": null,
            "order": null,
            "_view_module_version": "1.2.0",
            "grid_template_areas": null,
            "object_position": null,
            "object_fit": null,
            "grid_auto_columns": null,
            "margin": null,
            "display": null,
            "left": null
          }
        },
        "de126199d97149919271d533a2433e31": {
          "model_module": "@jupyter-widgets/controls",
          "model_name": "DescriptionStyleModel",
          "state": {
            "_view_name": "StyleView",
            "_model_name": "DescriptionStyleModel",
            "description_width": "",
            "_view_module": "@jupyter-widgets/base",
            "_model_module_version": "1.5.0",
            "_view_count": null,
            "_view_module_version": "1.2.0",
            "_model_module": "@jupyter-widgets/controls"
          }
        },
        "1b7937ce8f444123a98ca6587a9bc486": {
          "model_module": "@jupyter-widgets/base",
          "model_name": "LayoutModel",
          "state": {
            "_view_name": "LayoutView",
            "grid_template_rows": null,
            "right": null,
            "justify_content": null,
            "_view_module": "@jupyter-widgets/base",
            "overflow": null,
            "_model_module_version": "1.2.0",
            "_view_count": null,
            "flex_flow": null,
            "width": null,
            "min_width": null,
            "border": null,
            "align_items": null,
            "bottom": null,
            "_model_module": "@jupyter-widgets/base",
            "top": null,
            "grid_column": null,
            "overflow_y": null,
            "overflow_x": null,
            "grid_auto_flow": null,
            "grid_area": null,
            "grid_template_columns": null,
            "flex": null,
            "_model_name": "LayoutModel",
            "justify_items": null,
            "grid_row": null,
            "max_height": null,
            "align_content": null,
            "visibility": null,
            "align_self": null,
            "height": null,
            "min_height": null,
            "padding": null,
            "grid_auto_rows": null,
            "grid_gap": null,
            "max_width": null,
            "order": null,
            "_view_module_version": "1.2.0",
            "grid_template_areas": null,
            "object_position": null,
            "object_fit": null,
            "grid_auto_columns": null,
            "margin": null,
            "display": null,
            "left": null
          }
        },
        "231245ba9b6840eb8db743ef94199974": {
          "model_module": "@jupyter-widgets/controls",
          "model_name": "HBoxModel",
          "state": {
            "_view_name": "HBoxView",
            "_dom_classes": [],
            "_model_name": "HBoxModel",
            "_view_module": "@jupyter-widgets/controls",
            "_model_module_version": "1.5.0",
            "_view_count": null,
            "_view_module_version": "1.5.0",
            "box_style": "",
            "layout": "IPY_MODEL_375a20c57bf14b748982e1dd56824603",
            "_model_module": "@jupyter-widgets/controls",
            "children": [
              "IPY_MODEL_ffa3f1bfe2da4d56a11c77c43ecaf4ad",
              "IPY_MODEL_a16f8fa374f84c02813112c37d1f5010"
            ]
          }
        },
        "375a20c57bf14b748982e1dd56824603": {
          "model_module": "@jupyter-widgets/base",
          "model_name": "LayoutModel",
          "state": {
            "_view_name": "LayoutView",
            "grid_template_rows": null,
            "right": null,
            "justify_content": null,
            "_view_module": "@jupyter-widgets/base",
            "overflow": null,
            "_model_module_version": "1.2.0",
            "_view_count": null,
            "flex_flow": null,
            "width": null,
            "min_width": null,
            "border": null,
            "align_items": null,
            "bottom": null,
            "_model_module": "@jupyter-widgets/base",
            "top": null,
            "grid_column": null,
            "overflow_y": null,
            "overflow_x": null,
            "grid_auto_flow": null,
            "grid_area": null,
            "grid_template_columns": null,
            "flex": null,
            "_model_name": "LayoutModel",
            "justify_items": null,
            "grid_row": null,
            "max_height": null,
            "align_content": null,
            "visibility": null,
            "align_self": null,
            "height": null,
            "min_height": null,
            "padding": null,
            "grid_auto_rows": null,
            "grid_gap": null,
            "max_width": null,
            "order": null,
            "_view_module_version": "1.2.0",
            "grid_template_areas": null,
            "object_position": null,
            "object_fit": null,
            "grid_auto_columns": null,
            "margin": null,
            "display": null,
            "left": null
          }
        },
        "ffa3f1bfe2da4d56a11c77c43ecaf4ad": {
          "model_module": "@jupyter-widgets/controls",
          "model_name": "IntProgressModel",
          "state": {
            "_view_name": "ProgressView",
            "style": "IPY_MODEL_aa95cb04b6c94436ab37f00425abeca4",
            "_dom_classes": [],
            "description": "",
            "_model_name": "IntProgressModel",
            "bar_style": "success",
            "max": 1,
            "_view_module": "@jupyter-widgets/controls",
            "_model_module_version": "1.5.0",
            "value": 1,
            "_view_count": null,
            "_view_module_version": "1.5.0",
            "orientation": "horizontal",
            "min": 0,
            "description_tooltip": null,
            "_model_module": "@jupyter-widgets/controls",
            "layout": "IPY_MODEL_57f5041f34d64f2ea424973cdb167196"
          }
        },
        "a16f8fa374f84c02813112c37d1f5010": {
          "model_module": "@jupyter-widgets/controls",
          "model_name": "HTMLModel",
          "state": {
            "_view_name": "HTMLView",
            "style": "IPY_MODEL_d40d2df8d6554e70a61eff57a68c2b4a",
            "_dom_classes": [],
            "description": "",
            "_model_name": "HTMLModel",
            "placeholder": "​",
            "_view_module": "@jupyter-widgets/controls",
            "_model_module_version": "1.5.0",
            "value": "8192it [00:00, 26457.74it/s]",
            "_view_count": null,
            "_view_module_version": "1.5.0",
            "description_tooltip": null,
            "_model_module": "@jupyter-widgets/controls",
            "layout": "IPY_MODEL_096cffe93dc2424a9aa940374c262622"
          }
        },
        "aa95cb04b6c94436ab37f00425abeca4": {
          "model_module": "@jupyter-widgets/controls",
          "model_name": "ProgressStyleModel",
          "state": {
            "_view_name": "StyleView",
            "_model_name": "ProgressStyleModel",
            "description_width": "",
            "_view_module": "@jupyter-widgets/base",
            "_model_module_version": "1.5.0",
            "_view_count": null,
            "_view_module_version": "1.2.0",
            "bar_color": null,
            "_model_module": "@jupyter-widgets/controls"
          }
        },
        "57f5041f34d64f2ea424973cdb167196": {
          "model_module": "@jupyter-widgets/base",
          "model_name": "LayoutModel",
          "state": {
            "_view_name": "LayoutView",
            "grid_template_rows": null,
            "right": null,
            "justify_content": null,
            "_view_module": "@jupyter-widgets/base",
            "overflow": null,
            "_model_module_version": "1.2.0",
            "_view_count": null,
            "flex_flow": null,
            "width": null,
            "min_width": null,
            "border": null,
            "align_items": null,
            "bottom": null,
            "_model_module": "@jupyter-widgets/base",
            "top": null,
            "grid_column": null,
            "overflow_y": null,
            "overflow_x": null,
            "grid_auto_flow": null,
            "grid_area": null,
            "grid_template_columns": null,
            "flex": null,
            "_model_name": "LayoutModel",
            "justify_items": null,
            "grid_row": null,
            "max_height": null,
            "align_content": null,
            "visibility": null,
            "align_self": null,
            "height": null,
            "min_height": null,
            "padding": null,
            "grid_auto_rows": null,
            "grid_gap": null,
            "max_width": null,
            "order": null,
            "_view_module_version": "1.2.0",
            "grid_template_areas": null,
            "object_position": null,
            "object_fit": null,
            "grid_auto_columns": null,
            "margin": null,
            "display": null,
            "left": null
          }
        },
        "d40d2df8d6554e70a61eff57a68c2b4a": {
          "model_module": "@jupyter-widgets/controls",
          "model_name": "DescriptionStyleModel",
          "state": {
            "_view_name": "StyleView",
            "_model_name": "DescriptionStyleModel",
            "description_width": "",
            "_view_module": "@jupyter-widgets/base",
            "_model_module_version": "1.5.0",
            "_view_count": null,
            "_view_module_version": "1.2.0",
            "_model_module": "@jupyter-widgets/controls"
          }
        },
        "096cffe93dc2424a9aa940374c262622": {
          "model_module": "@jupyter-widgets/base",
          "model_name": "LayoutModel",
          "state": {
            "_view_name": "LayoutView",
            "grid_template_rows": null,
            "right": null,
            "justify_content": null,
            "_view_module": "@jupyter-widgets/base",
            "overflow": null,
            "_model_module_version": "1.2.0",
            "_view_count": null,
            "flex_flow": null,
            "width": null,
            "min_width": null,
            "border": null,
            "align_items": null,
            "bottom": null,
            "_model_module": "@jupyter-widgets/base",
            "top": null,
            "grid_column": null,
            "overflow_y": null,
            "overflow_x": null,
            "grid_auto_flow": null,
            "grid_area": null,
            "grid_template_columns": null,
            "flex": null,
            "_model_name": "LayoutModel",
            "justify_items": null,
            "grid_row": null,
            "max_height": null,
            "align_content": null,
            "visibility": null,
            "align_self": null,
            "height": null,
            "min_height": null,
            "padding": null,
            "grid_auto_rows": null,
            "grid_gap": null,
            "max_width": null,
            "order": null,
            "_view_module_version": "1.2.0",
            "grid_template_areas": null,
            "object_position": null,
            "object_fit": null,
            "grid_auto_columns": null,
            "margin": null,
            "display": null,
            "left": null
          }
        }
      }
    }
  },
  "cells": [
    {
      "cell_type": "markdown",
      "metadata": {
        "id": "view-in-github",
        "colab_type": "text"
      },
      "source": [
        "<a href=\"https://colab.research.google.com/github/rishubhkhurana/EVA/blob/master/S5/EVAS5v6.ipynb\" target=\"_parent\"><img src=\"https://colab.research.google.com/assets/colab-badge.svg\" alt=\"Open In Colab\"/></a>"
      ]
    },
    {
      "cell_type": "markdown",
      "metadata": {
        "id": "zutK2AAQOfs9",
        "colab_type": "text"
      },
      "source": [
        "## Notebook Analysis -- Sixth Version\n",
        "\n",
        "1. Target -- Increase batch size which will cause more overfitting and will push training and testing accuracy. The idea is to get >99.5% \n",
        "2. Result --  Got best Training ACCURACY as 99.247% and validation accuract as 99.51\n",
        "3. Analysis -- Increasing batch size increased the trainign accuracy and caused a bt overfitting and to counteract that increasing learning rate helped."
      ]
    },
    {
      "cell_type": "markdown",
      "metadata": {
        "id": "lnXNl9lRPtKr",
        "colab_type": "text"
      },
      "source": [
        "## Import Libs\n"
      ]
    },
    {
      "cell_type": "code",
      "metadata": {
        "id": "JHx4q89VOqyJ",
        "colab_type": "code",
        "colab": {}
      },
      "source": [
        "import torch\n",
        "import torch.nn as nn\n",
        "import torch.nn.functional as F\n",
        "from torchvision.datasets import MNIST\n",
        "import torch.optim as optim\n",
        "import matplotlib.pyplot as plt\n",
        "import numpy as np\n",
        "import PIL\n",
        "from PIL import Image\n",
        "from torchvision.transforms import transforms\n",
        "from torch.utils.data import DataLoader\n",
        "from tqdm import tqdm\n",
        "from torch.optim.lr_scheduler import StepLR,OneCycleLR"
      ],
      "execution_count": 0,
      "outputs": []
    },
    {
      "cell_type": "code",
      "metadata": {
        "id": "7v74X2Fsp8J3",
        "colab_type": "code",
        "outputId": "3187b357-2c96-457c-9f65-daa7b5075b69",
        "colab": {
          "base_uri": "https://localhost:8080/",
          "height": 34
        }
      },
      "source": [
        "!pip install torchsummary"
      ],
      "execution_count": 4,
      "outputs": [
        {
          "output_type": "stream",
          "text": [
            "Requirement already satisfied: torchsummary in /usr/local/lib/python3.6/dist-packages (1.5.1)\n"
          ],
          "name": "stdout"
        }
      ]
    },
    {
      "cell_type": "code",
      "metadata": {
        "id": "rRiy1zkop985",
        "colab_type": "code",
        "colab": {}
      },
      "source": [
        "from torchsummary import summary"
      ],
      "execution_count": 0,
      "outputs": []
    },
    {
      "cell_type": "markdown",
      "metadata": {
        "id": "6vPf5eWbPPyR",
        "colab_type": "text"
      },
      "source": [
        "## Transforms/Reading Dataset"
      ]
    },
    {
      "cell_type": "code",
      "metadata": {
        "id": "6ZT5DwJdPiZm",
        "colab_type": "code",
        "colab": {}
      },
      "source": [
        "train_transforms = transforms.Compose([transforms.ToTensor()])\n",
        "test_transforms = transforms.Compose([transforms.ToTensor()])"
      ],
      "execution_count": 0,
      "outputs": []
    },
    {
      "cell_type": "code",
      "metadata": {
        "id": "XcBuRgV8O4nA",
        "colab_type": "code",
        "colab": {}
      },
      "source": [
        "train_data=MNIST(root='./data',train=True,transform=train_transforms,download=True)\n",
        "test_data=MNIST(root='./data',train=False,transform=test_transforms,download=True)"
      ],
      "execution_count": 0,
      "outputs": []
    },
    {
      "cell_type": "code",
      "metadata": {
        "id": "BjcfI_FUXdP-",
        "colab_type": "code",
        "outputId": "e3612ca1-76ee-4bfc-9433-3753a5b37e67",
        "colab": {
          "base_uri": "https://localhost:8080/",
          "height": 84
        }
      },
      "source": [
        "print(f\"Training Dataset Mean: {train_data.transform(train_data.train_data.numpy()).float().mean()}\")\n",
        "print(f\"Training Dataset Mean: {train_data.transform(train_data.train_data.numpy()).float().std()}\")"
      ],
      "execution_count": 0,
      "outputs": [
        {
          "output_type": "stream",
          "text": [
            "/usr/local/lib/python3.6/dist-packages/torchvision/datasets/mnist.py:55: UserWarning: train_data has been renamed data\n",
            "  warnings.warn(\"train_data has been renamed data\")\n"
          ],
          "name": "stderr"
        },
        {
          "output_type": "stream",
          "text": [
            "Training Dataset Mean: 0.13054245710372925\n",
            "Training Dataset Mean: 0.30810782313346863\n"
          ],
          "name": "stdout"
        }
      ]
    },
    {
      "cell_type": "code",
      "metadata": {
        "id": "FdfADM1gXep7",
        "colab_type": "code",
        "outputId": "a300c9f8-9b99-4092-c674-2bcc25c18371",
        "colab": {
          "base_uri": "https://localhost:8080/",
          "height": 84
        }
      },
      "source": [
        "print(f\"Testing Dataset Mean: {train_data.transform(train_data.train_data.numpy()).float().mean()}\")\n",
        "print(f\"Testing Dataset Mean: {test_data.transform(test_data.train_data.numpy()).float().std()}\")"
      ],
      "execution_count": 0,
      "outputs": [
        {
          "output_type": "stream",
          "text": [
            "/usr/local/lib/python3.6/dist-packages/torchvision/datasets/mnist.py:55: UserWarning: train_data has been renamed data\n",
            "  warnings.warn(\"train_data has been renamed data\")\n"
          ],
          "name": "stderr"
        },
        {
          "output_type": "stream",
          "text": [
            "Testing Dataset Mean: 0.13054245710372925\n",
            "Testing Dataset Mean: 0.3104802668094635\n"
          ],
          "name": "stdout"
        }
      ]
    },
    {
      "cell_type": "code",
      "metadata": {
        "id": "8U5LFMcxXjvq",
        "colab_type": "code",
        "colab": {}
      },
      "source": [
        "train_transforms = transforms.Compose([transforms.RandomRotation((-5.0, 5.0), fill=(1,)),\n",
        "                                       #transforms.ColorJitter(brightness=0.10, contrast=0.1, saturation=0.10, hue=0.1),\n",
        "                                       transforms.ToTensor(),\n",
        "                                       transforms.Normalize((0.1305,),(0.308,))])\n",
        "test_transforms = transforms.Compose([transforms.ToTensor(),transforms.Normalize((0.1305,),(0.308,))])"
      ],
      "execution_count": 0,
      "outputs": []
    },
    {
      "cell_type": "code",
      "metadata": {
        "id": "UXF_ztKWXwfT",
        "colab_type": "code",
        "colab": {
          "base_uri": "https://localhost:8080/",
          "height": 380,
          "referenced_widgets": [
            "46d2a9b6910d4f4aa7adb30f76142877",
            "80019035f3f14f59965919f1d7bbfc28",
            "d7efc432f6834d7882229f8b3165cc40",
            "99131250838e4d2aa89f799407867afd",
            "50d4317f90f340aeacca6dcef35c1e35",
            "adb7682d2f3c423f8b30f3a2882bf4e7",
            "e768ca2682ed4802a7389bbdd4a77c14",
            "b810554423574e70afdf4f85183f6b55",
            "ad721f0049eb4b0188bdbeecc3461ee3",
            "b7c8eaf4ed1c4122bc18de6da43e0da7",
            "6253cacc15ef464a8ac559aa5240e60d",
            "a87d38361e784b6dba83cd67f93b6566",
            "cc069e563e0f49539adf4482dfb20c8b",
            "9480e9819b8343ffa4182ddbeef31cfe",
            "c0798e01b0304ed6abd01a7a5bae5bbe",
            "43860d278ed64f43a41f512647d3215d",
            "9879d06b785c4c49ac10d8d6f72b5602",
            "5283e5c6f2e841e7a48e432489190b37",
            "0581865afba64a99a34b44b1bbbd6b5c",
            "b6fac81fbf49453f975c1294e97d7fbc",
            "b39b4d5b2a524c90ab4945d4f6fcecba",
            "7eea76e5a3394845b1bb02deb159ee70",
            "de126199d97149919271d533a2433e31",
            "1b7937ce8f444123a98ca6587a9bc486",
            "231245ba9b6840eb8db743ef94199974",
            "375a20c57bf14b748982e1dd56824603",
            "ffa3f1bfe2da4d56a11c77c43ecaf4ad",
            "a16f8fa374f84c02813112c37d1f5010",
            "aa95cb04b6c94436ab37f00425abeca4",
            "57f5041f34d64f2ea424973cdb167196",
            "d40d2df8d6554e70a61eff57a68c2b4a",
            "096cffe93dc2424a9aa940374c262622"
          ]
        },
        "outputId": "bfd1feb9-ec78-4921-c8e6-d285032dab2c"
      },
      "source": [
        "train_data=MNIST(root='./data',train=True,transform=train_transforms,download=True)\n",
        "test_data=MNIST(root='./data',train=False,transform=test_transforms,download=True)"
      ],
      "execution_count": 7,
      "outputs": [
        {
          "output_type": "stream",
          "text": [
            "Downloading http://yann.lecun.com/exdb/mnist/train-images-idx3-ubyte.gz to ./data/MNIST/raw/train-images-idx3-ubyte.gz\n"
          ],
          "name": "stdout"
        },
        {
          "output_type": "display_data",
          "data": {
            "application/vnd.jupyter.widget-view+json": {
              "model_id": "46d2a9b6910d4f4aa7adb30f76142877",
              "version_minor": 0,
              "version_major": 2
            },
            "text/plain": [
              "HBox(children=(IntProgress(value=1, bar_style='info', max=1), HTML(value='')))"
            ]
          },
          "metadata": {
            "tags": []
          }
        },
        {
          "output_type": "stream",
          "text": [
            "\n",
            "Extracting ./data/MNIST/raw/train-images-idx3-ubyte.gz to ./data/MNIST/raw\n",
            "Downloading http://yann.lecun.com/exdb/mnist/train-labels-idx1-ubyte.gz to ./data/MNIST/raw/train-labels-idx1-ubyte.gz\n"
          ],
          "name": "stdout"
        },
        {
          "output_type": "display_data",
          "data": {
            "application/vnd.jupyter.widget-view+json": {
              "model_id": "ad721f0049eb4b0188bdbeecc3461ee3",
              "version_minor": 0,
              "version_major": 2
            },
            "text/plain": [
              "HBox(children=(IntProgress(value=1, bar_style='info', max=1), HTML(value='')))"
            ]
          },
          "metadata": {
            "tags": []
          }
        },
        {
          "output_type": "stream",
          "text": [
            "\n",
            "Extracting ./data/MNIST/raw/train-labels-idx1-ubyte.gz to ./data/MNIST/raw\n",
            "Downloading http://yann.lecun.com/exdb/mnist/t10k-images-idx3-ubyte.gz to ./data/MNIST/raw/t10k-images-idx3-ubyte.gz\n"
          ],
          "name": "stdout"
        },
        {
          "output_type": "display_data",
          "data": {
            "application/vnd.jupyter.widget-view+json": {
              "model_id": "9879d06b785c4c49ac10d8d6f72b5602",
              "version_minor": 0,
              "version_major": 2
            },
            "text/plain": [
              "HBox(children=(IntProgress(value=1, bar_style='info', max=1), HTML(value='')))"
            ]
          },
          "metadata": {
            "tags": []
          }
        },
        {
          "output_type": "stream",
          "text": [
            "\n",
            "Extracting ./data/MNIST/raw/t10k-images-idx3-ubyte.gz to ./data/MNIST/raw\n",
            "Downloading http://yann.lecun.com/exdb/mnist/t10k-labels-idx1-ubyte.gz to ./data/MNIST/raw/t10k-labels-idx1-ubyte.gz\n"
          ],
          "name": "stdout"
        },
        {
          "output_type": "display_data",
          "data": {
            "application/vnd.jupyter.widget-view+json": {
              "model_id": "231245ba9b6840eb8db743ef94199974",
              "version_minor": 0,
              "version_major": 2
            },
            "text/plain": [
              "HBox(children=(IntProgress(value=1, bar_style='info', max=1), HTML(value='')))"
            ]
          },
          "metadata": {
            "tags": []
          }
        },
        {
          "output_type": "stream",
          "text": [
            "\n",
            "Extracting ./data/MNIST/raw/t10k-labels-idx1-ubyte.gz to ./data/MNIST/raw\n",
            "Processing...\n",
            "Done!\n"
          ],
          "name": "stdout"
        }
      ]
    },
    {
      "cell_type": "code",
      "metadata": {
        "id": "p_WjCYvuXx3S",
        "colab_type": "code",
        "colab": {}
      },
      "source": [
        "#print(f\"Training Dataset Mean: {train_data.transform(train_data.train_data.numpy()).float().mean()}\")\n",
        "#print(f\"Training Dataset Mean: {train_data.transform(train_data.train_data.numpy()).float().std()}\")"
      ],
      "execution_count": 0,
      "outputs": []
    },
    {
      "cell_type": "code",
      "metadata": {
        "id": "t8K3RC6dXy9c",
        "colab_type": "code",
        "outputId": "b963e74f-27f5-496f-965e-e47f6fdd8822",
        "colab": {
          "base_uri": "https://localhost:8080/",
          "height": 84
        }
      },
      "source": [
        "print(f\"Testing Dataset Mean: {test_data.transform(test_data.train_data.numpy()).float().mean()}\")\n",
        "print(f\"Testing Dataset Mean: {test_data.transform(test_data.train_data.numpy()).float().std()}\")"
      ],
      "execution_count": 9,
      "outputs": [
        {
          "output_type": "stream",
          "text": [
            "/usr/local/lib/python3.6/dist-packages/torchvision/datasets/mnist.py:55: UserWarning: train_data has been renamed data\n",
            "  warnings.warn(\"train_data has been renamed data\")\n"
          ],
          "name": "stderr"
        },
        {
          "output_type": "stream",
          "text": [
            "Testing Dataset Mean: 0.0064513590186834335\n",
            "Testing Dataset Mean: 1.0080528259277344\n"
          ],
          "name": "stdout"
        }
      ]
    },
    {
      "cell_type": "markdown",
      "metadata": {
        "id": "waXsAZIJQv4-",
        "colab_type": "text"
      },
      "source": [
        "## Defining Data Loader\n"
      ]
    },
    {
      "cell_type": "code",
      "metadata": {
        "id": "amxbkuFEQnJ2",
        "colab_type": "code",
        "colab": {}
      },
      "source": [
        "# defining the seed for reproducible\n",
        "SEED = 99\n",
        "\n",
        "torch.manual_seed(SEED)\n",
        "\n",
        "# checking if the CUDA is available \n",
        "\n",
        "is_CUDA = torch.cuda.is_available()\n",
        "\n",
        "if is_CUDA:\n",
        "  dev = torch.device('cuda')\n",
        "else:\n",
        "  dev = torch.device('cpu')\n",
        "\n"
      ],
      "execution_count": 0,
      "outputs": []
    },
    {
      "cell_type": "code",
      "metadata": {
        "id": "BGWiiNepTzBF",
        "colab_type": "code",
        "colab": {}
      },
      "source": [
        "BATCH_SIZE=256\n",
        "EPOCHS=15"
      ],
      "execution_count": 0,
      "outputs": []
    },
    {
      "cell_type": "code",
      "metadata": {
        "id": "iqt-wXpdTOom",
        "colab_type": "code",
        "colab": {}
      },
      "source": [
        "dataloader_args = dict(shuffle=True,batch_size=BATCH_SIZE,pin_memory=True,num_workers=4) if is_CUDA else dict(shuffle=True,batch_size=BATCH_SIZE//2)\n",
        "train_dl = DataLoader(train_data,**dataloader_args)\n",
        "\n",
        "dataloader_args = dict(shuffle=False,batch_size=BATCH_SIZE*2,pin_memory=True,num_workers=4) if is_CUDA else dict(shuffle=False,batch_size=BATCH_SIZE)\n",
        "test_dl = DataLoader(test_data,**dataloader_args)"
      ],
      "execution_count": 0,
      "outputs": []
    },
    {
      "cell_type": "code",
      "metadata": {
        "id": "f1rMpA2bTPWN",
        "colab_type": "code",
        "colab": {}
      },
      "source": [
        "x,y=next(iter(train_dl))"
      ],
      "execution_count": 0,
      "outputs": []
    },
    {
      "cell_type": "code",
      "metadata": {
        "id": "PMOMcM-sU3qF",
        "colab_type": "code",
        "outputId": "9865ae00-d8c9-4bcf-9227-f16e7d5617cd",
        "colab": {
          "base_uri": "https://localhost:8080/",
          "height": 34
        }
      },
      "source": [
        "x.size(),y.size()"
      ],
      "execution_count": 14,
      "outputs": [
        {
          "output_type": "execute_result",
          "data": {
            "text/plain": [
              "(torch.Size([128, 1, 28, 28]), torch.Size([128]))"
            ]
          },
          "metadata": {
            "tags": []
          },
          "execution_count": 14
        }
      ]
    },
    {
      "cell_type": "code",
      "metadata": {
        "id": "FvdKIyo5U7Bs",
        "colab_type": "code",
        "colab": {}
      },
      "source": [
        "torch.Tensor.stats = lambda x: (x.mean(),x.std())"
      ],
      "execution_count": 0,
      "outputs": []
    },
    {
      "cell_type": "code",
      "metadata": {
        "id": "_lALbhbKWfXr",
        "colab_type": "code",
        "outputId": "bb6fffac-6f03-49af-c2c4-fcccc40ccfca",
        "colab": {
          "base_uri": "https://localhost:8080/",
          "height": 34
        }
      },
      "source": [
        "x.stats()"
      ],
      "execution_count": 16,
      "outputs": [
        {
          "output_type": "execute_result",
          "data": {
            "text/plain": [
              "(tensor(0.0284), tensor(1.0290))"
            ]
          },
          "metadata": {
            "tags": []
          },
          "execution_count": 16
        }
      ]
    },
    {
      "cell_type": "code",
      "metadata": {
        "id": "MFzvn8Zlzs6I",
        "colab_type": "code",
        "outputId": "9d5d71fb-9fb0-44f8-88b3-1f0cb7b9c0a8",
        "colab": {
          "base_uri": "https://localhost:8080/",
          "height": 34
        }
      },
      "source": [
        "type(x)"
      ],
      "execution_count": 17,
      "outputs": [
        {
          "output_type": "execute_result",
          "data": {
            "text/plain": [
              "torch.Tensor"
            ]
          },
          "metadata": {
            "tags": []
          },
          "execution_count": 17
        }
      ]
    },
    {
      "cell_type": "code",
      "metadata": {
        "id": "znPHLTyXN7R9",
        "colab_type": "code",
        "outputId": "1ce70c98-b9d3-4c8d-be51-ac621a18095e",
        "colab": {
          "base_uri": "https://localhost:8080/",
          "height": 118
        }
      },
      "source": [
        "train_dl.dataset.transforms"
      ],
      "execution_count": 18,
      "outputs": [
        {
          "output_type": "execute_result",
          "data": {
            "text/plain": [
              "StandardTransform\n",
              "Transform: Compose(\n",
              "               RandomRotation(degrees=(-5.0, 5.0), resample=False, expand=False)\n",
              "               ToTensor()\n",
              "               Normalize(mean=(0.1305,), std=(0.308,))\n",
              "           )"
            ]
          },
          "metadata": {
            "tags": []
          },
          "execution_count": 18
        }
      ]
    },
    {
      "cell_type": "markdown",
      "metadata": {
        "id": "Jp2M9oi0XWna",
        "colab_type": "text"
      },
      "source": [
        "## Visualizing the data"
      ]
    },
    {
      "cell_type": "code",
      "metadata": {
        "id": "krIuDbgVYLKm",
        "colab_type": "code",
        "colab": {}
      },
      "source": [
        "def plot_img(img,axs=None,figsize=(6,6),visible=True):\n",
        "  if axs is None:\n",
        "    _,axs=plt.subplots(1,1,figsize=figsize)\n",
        "  if not visible:\n",
        "    #print(\"yesy\")\n",
        "    axs.set_xticks([])\n",
        "    axs.set_yticks([])\n",
        "  axs.imshow(img.numpy().squeeze(0),cmap='gray_r')\n",
        "  \n",
        "  "
      ],
      "execution_count": 0,
      "outputs": []
    },
    {
      "cell_type": "code",
      "metadata": {
        "id": "03uYQ6LdYqEb",
        "colab_type": "code",
        "outputId": "21fe6a20-649d-4574-f69e-9e77f1e2e277",
        "colab": {
          "base_uri": "https://localhost:8080/"
        }
      },
      "source": [
        "plot_img(x[0],visible=False)"
      ],
      "execution_count": 0,
      "outputs": [
        {
          "output_type": "display_data",
          "data": {
            "image/png": "[encoded data removed]",
            "text/plain": [
              "<Figure size 432x432 with 1 Axes>"
            ]
          },
          "metadata": {
            "tags": []
          }
        }
      ]
    },
    {
      "cell_type": "code",
      "metadata": {
        "id": "gwmN7GzXYr9T",
        "colab_type": "code",
        "outputId": "df3ad343-3b34-45f4-e226-8db7f7ca4cb7",
        "colab": {
          "base_uri": "https://localhost:8080/"
        }
      },
      "source": [
        "fig,axs = plt.subplots(4,4,figsize=(10,10))\n",
        "for i,ax in enumerate(axs.ravel()):\n",
        "  plot_img(x[i],axs=axs[i//4,i%4],visible=False)"
      ],
      "execution_count": 0,
      "outputs": [
        {
          "output_type": "display_data",
          "data": {
            "image/png": "[encoded data removed]",
            "text/plain": [
              "<Figure size 720x720 with 16 Axes>"
            ]
          },
          "metadata": {
            "tags": []
          }
        }
      ]
    },
    {
      "cell_type": "markdown",
      "metadata": {
        "id": "IKjNFcvVcERa",
        "colab_type": "text"
      },
      "source": [
        "## Defining Model"
      ]
    },
    {
      "cell_type": "code",
      "metadata": {
        "id": "VEGgeKlrcQs1",
        "colab_type": "code",
        "colab": {}
      },
      "source": [
        "class Model(nn.Module):\n",
        "  def __init__(self,p=0.1,use_bias=True):\n",
        "    super().__init__()\n",
        "    self.alllyrs=nn.Sequential()\n",
        "    cblock1 = []\n",
        "    cblock1.append(nn.Sequential(*[nn.Conv2d(1,12,kernel_size=(3,3),stride=1,bias=use_bias),nn.BatchNorm2d(12),nn.ReLU(),nn.Dropout(p=p)])) # output_size=26,RF=3\n",
        "    cblock1.append(nn.Sequential(*[nn.Conv2d(12,24,kernel_size=(3,3),stride=1,bias=use_bias),nn.BatchNorm2d(24),nn.ReLU(),nn.Dropout(p=p)])) # output_size=24,RF=5\n",
        "    self.cblock1 = nn.Sequential(*cblock1)\n",
        "    tblock1=[]\n",
        "    tblock1.append(nn.MaxPool2d((2,2))) # output_size=12, RF=6\n",
        "    tblock1.append(nn.Sequential(*[nn.Conv2d(24,12,kernel_size=(1,1),stride=1,bias=use_bias),nn.BatchNorm2d(12),nn.ReLU(),nn.Dropout(p=p)])) # output_size=12,RF=6\n",
        "    self.tblock1=nn.Sequential(*tblock1)\n",
        "    cblock2 = []\n",
        "    cblock2.append(nn.Sequential(*[nn.Conv2d(12,12,kernel_size=(3,3),stride=1,bias=use_bias),nn.BatchNorm2d(12),nn.ReLU(),nn.Dropout(p=p)])) # output_size=10,RF=10\n",
        "    cblock2.append(nn.Sequential(*[nn.Conv2d(12,12,kernel_size=(3,3),stride=1,bias=use_bias),nn.BatchNorm2d(12),nn.ReLU(),nn.Dropout(p=p)])) # output_size=8,RF=14\n",
        "    cblock2.append(nn.Sequential(*[nn.Conv2d(12,12,kernel_size=(3,3),stride=1,bias=use_bias),nn.BatchNorm2d(12),nn.ReLU(),nn.Dropout(p=p)])) # output_size=6,RF=18\n",
        "    cblock2.append(nn.Sequential(*[nn.Conv2d(12,12,kernel_size=(3,3),stride=1,bias=use_bias),nn.BatchNorm2d(12),nn.ReLU(),nn.Dropout(p=p)])) # output_size=4,RF=22\n",
        "    cblock2.append(nn.Sequential(*[nn.Conv2d(12,12,kernel_size=(3,3),stride=1,bias=use_bias),nn.BatchNorm2d(12),nn.ReLU(),nn.Dropout(p=p)])) # output_size=4,RF=26\n",
        "\n",
        "    self.cblock2 = nn.Sequential(*cblock2)\n",
        "    tblock2=[]\n",
        "    tblock2.append(nn.AdaptiveAvgPool2d((1,1)))\n",
        "    tblock2.append(nn.Conv2d(12,10,kernel_size=(1,1),stride=1))\n",
        "    self.tblock2=nn.Sequential(*tblock2)\n",
        "  def forward(self,x):\n",
        "    x = self.cblock1(x)\n",
        "    x = self.tblock1(x)\n",
        "    x = self.cblock2(x)\n",
        "    x = self.tblock2(x)\n",
        "    return F.log_softmax(x).squeeze().squeeze()\n"
      ],
      "execution_count": 0,
      "outputs": []
    },
    {
      "cell_type": "code",
      "metadata": {
        "id": "PRTCWgbVpu9K",
        "colab_type": "code",
        "colab": {}
      },
      "source": [
        "mod=Model(use_bias=False).cuda()"
      ],
      "execution_count": 0,
      "outputs": []
    },
    {
      "cell_type": "code",
      "metadata": {
        "id": "m9i8ofPWp1J4",
        "colab_type": "code",
        "colab": {}
      },
      "source": [
        "#mod"
      ],
      "execution_count": 0,
      "outputs": []
    },
    {
      "cell_type": "code",
      "metadata": {
        "id": "Lihiltakp1p3",
        "colab_type": "code",
        "outputId": "b7345262-80cf-4f37-92f6-bb4d38e8a6ac",
        "colab": {
          "base_uri": "https://localhost:8080/",
          "height": 860
        }
      },
      "source": [
        "summary(model=mod,input_size=(1,28,28))"
      ],
      "execution_count": 45,
      "outputs": [
        {
          "output_type": "stream",
          "text": [
            "----------------------------------------------------------------\n",
            "        Layer (type)               Output Shape         Param #\n",
            "================================================================\n",
            "            Conv2d-1           [-1, 12, 26, 26]             108\n",
            "       BatchNorm2d-2           [-1, 12, 26, 26]              24\n",
            "              ReLU-3           [-1, 12, 26, 26]               0\n",
            "           Dropout-4           [-1, 12, 26, 26]               0\n",
            "            Conv2d-5           [-1, 24, 24, 24]           2,592\n",
            "       BatchNorm2d-6           [-1, 24, 24, 24]              48\n",
            "              ReLU-7           [-1, 24, 24, 24]               0\n",
            "           Dropout-8           [-1, 24, 24, 24]               0\n",
            "         MaxPool2d-9           [-1, 24, 12, 12]               0\n",
            "           Conv2d-10           [-1, 12, 12, 12]             288\n",
            "      BatchNorm2d-11           [-1, 12, 12, 12]              24\n",
            "             ReLU-12           [-1, 12, 12, 12]               0\n",
            "          Dropout-13           [-1, 12, 12, 12]               0\n",
            "           Conv2d-14           [-1, 12, 10, 10]           1,296\n",
            "      BatchNorm2d-15           [-1, 12, 10, 10]              24\n",
            "             ReLU-16           [-1, 12, 10, 10]               0\n",
            "          Dropout-17           [-1, 12, 10, 10]               0\n",
            "           Conv2d-18             [-1, 12, 8, 8]           1,296\n",
            "      BatchNorm2d-19             [-1, 12, 8, 8]              24\n",
            "             ReLU-20             [-1, 12, 8, 8]               0\n",
            "          Dropout-21             [-1, 12, 8, 8]               0\n",
            "           Conv2d-22             [-1, 12, 6, 6]           1,296\n",
            "      BatchNorm2d-23             [-1, 12, 6, 6]              24\n",
            "             ReLU-24             [-1, 12, 6, 6]               0\n",
            "          Dropout-25             [-1, 12, 6, 6]               0\n",
            "           Conv2d-26             [-1, 12, 4, 4]           1,296\n",
            "      BatchNorm2d-27             [-1, 12, 4, 4]              24\n",
            "             ReLU-28             [-1, 12, 4, 4]               0\n",
            "          Dropout-29             [-1, 12, 4, 4]               0\n",
            "           Conv2d-30             [-1, 12, 2, 2]           1,296\n",
            "      BatchNorm2d-31             [-1, 12, 2, 2]              24\n",
            "             ReLU-32             [-1, 12, 2, 2]               0\n",
            "          Dropout-33             [-1, 12, 2, 2]               0\n",
            "AdaptiveAvgPool2d-34             [-1, 12, 1, 1]               0\n",
            "           Conv2d-35             [-1, 10, 1, 1]             130\n",
            "================================================================\n",
            "Total params: 9,814\n",
            "Trainable params: 9,814\n",
            "Non-trainable params: 0\n",
            "----------------------------------------------------------------\n",
            "Input size (MB): 0.00\n",
            "Forward/backward pass size (MB): 0.83\n",
            "Params size (MB): 0.04\n",
            "Estimated Total Size (MB): 0.87\n",
            "----------------------------------------------------------------\n"
          ],
          "name": "stdout"
        },
        {
          "output_type": "stream",
          "text": [
            "/usr/local/lib/python3.6/dist-packages/ipykernel_launcher.py:30: UserWarning: Implicit dimension choice for log_softmax has been deprecated. Change the call to include dim=X as an argument.\n"
          ],
          "name": "stderr"
        }
      ]
    },
    {
      "cell_type": "markdown",
      "metadata": {
        "id": "RgBuP1ygq83y",
        "colab_type": "text"
      },
      "source": [
        "## Training Loop Design"
      ]
    },
    {
      "cell_type": "code",
      "metadata": {
        "id": "zceBPFodrAKI",
        "colab_type": "code",
        "colab": {}
      },
      "source": [
        "# basic loop structure\n",
        "\n",
        "def one_epoch(model,trn_dl,val_dl,opt,device='cpu'):\n",
        "  # variables to keep track off during one epoch\n",
        "  bcount=0\n",
        "  tlosses=0\n",
        "  tacc=0\n",
        "  # put model in training mode\n",
        "  model.train()\n",
        "  # define a progress bar\n",
        "  pbar = tqdm(trn_dl)\n",
        "  # loop through every batch in dataloader\n",
        "  for batch_index,(xb,yb) in enumerate(pbar):\n",
        "    # move the data to cpu or gpu based on device arg\n",
        "    xb,yb=xb.to(device),yb.to(device)\n",
        "    bs = xb.shape[0]\n",
        "    # clean the gradients of parameters computed in the previous batch\n",
        "    opt.zero_grad()\n",
        "    # predict the batch\n",
        "    preds = model(xb)\n",
        "    # compute batch loss\n",
        "    loss = F.nll_loss(preds,yb)\n",
        "    # append the current loss to list\n",
        "    tlosses+=loss*bs\n",
        "    # call back propagation\n",
        "    loss.backward()\n",
        "    # call the optimization step\n",
        "    opt.step()\n",
        "    # compute the current model accuracy\n",
        "    y_preds=preds.argmax(dim=1,keepdim=True)\n",
        "    # compute current accuracy of the training batch and add it to the total count of accurate results\n",
        "    tacc+= y_preds.eq(yb.view_as(y_preds)).sum().item()\n",
        "    bcount+=bs\n",
        "    # add progress bar description with current batch loss and moving average of training accuracy\n",
        "    pbar.set_description(desc=f'Loss={loss.item():.3f} batch-index={batch_index} Accuracy={100*tacc/bcount:0.2f}')\n",
        "  \n",
        "  # compute the updated training loss and accuracy for entire batch\n",
        "  tlosses/=bcount\n",
        "  tacc/=bcount\n",
        "\n",
        "  # loop through validation data and compute the metrics on validation data\n",
        "  model.eval()\n",
        "  vloss=0\n",
        "  vacc=0\n",
        "  vcount=0\n",
        "  with torch.no_grad():\n",
        "    for xb,yb in tqdm(val_dl):\n",
        "      bs = xb.shape[0]\n",
        "      xb,yb = xb.to(device),yb.to(device)\n",
        "      preds = model(xb)\n",
        "      loss = F.nll_loss(preds,yb,reduction='sum')\n",
        "      y_preds = preds.argmax(dim=1,keepdim=True)\n",
        "      vacc+=y_preds.eq(yb.view_as(y_preds)).sum().item()\n",
        "      vcount+=bs\n",
        "      vloss+=loss.item()\n",
        "  vloss/=vcount\n",
        "  vacc/=vcount\n",
        "  return {'TrainingLoss':tlosses,'ValidationLoss':vloss,'TrainingAcc':tacc,'ValidationAcc':vacc}\n",
        "\n",
        "\n",
        "\n",
        "\n",
        "\n",
        "\n"
      ],
      "execution_count": 0,
      "outputs": []
    },
    {
      "cell_type": "markdown",
      "metadata": {
        "id": "qvjjTyy07bdr",
        "colab_type": "text"
      },
      "source": [
        "## Training the Model"
      ]
    },
    {
      "cell_type": "code",
      "metadata": {
        "id": "YSGGjnq8uS1U",
        "colab_type": "code",
        "outputId": "2d89e37f-7485-4227-b9c0-4e7e984c56b8",
        "colab": {
          "base_uri": "https://localhost:8080/",
          "height": 1000
        }
      },
      "source": [
        "mod=Model(p=0.05,use_bias=False).cuda()\n",
        "\n",
        "opt = optim.SGD(mod.parameters(),lr=0.1,momentum=0.9)\n",
        "scheduler = StepLR(opt, step_size=5, gamma=0.3)\n",
        "\n",
        "for e in range(EPOCHS):\n",
        "  ldict=one_epoch(mod,train_dl,test_dl,opt,device=dev)\n",
        "  scheduler.step()\n",
        "  if e%5==0:\n",
        "    print(f\"\\nCurrent Learning Rate: {opt.param_groups[-1]['lr']}\")\n",
        "  print(f'\\nEpoch:{e}--> Training Loss:{ldict[\"TrainingLoss\"]:.3f}, Validation Loss:{ldict[\"ValidationLoss\"]:.3f}\\n')\n",
        "  print(f'Training Accuracy:{100*ldict[\"TrainingAcc\"]:.3f}, Validation Accuracy:{100*ldict[\"ValidationAcc\"]:.3f}\\n')\n",
        "\n",
        "  "
      ],
      "execution_count": 64,
      "outputs": [
        {
          "output_type": "stream",
          "text": [
            "  0%|          | 0/235 [00:00<?, ?it/s]/usr/local/lib/python3.6/dist-packages/ipykernel_launcher.py:30: UserWarning: Implicit dimension choice for log_softmax has been deprecated. Change the call to include dim=X as an argument.\n",
            "Loss=0.128 batch-index=234 Accuracy=91.56: 100%|██████████| 235/235 [00:12<00:00, 18.98it/s]\n",
            "100%|██████████| 20/20 [00:01<00:00, 13.04it/s]\n",
            "  0%|          | 0/235 [00:00<?, ?it/s]"
          ],
          "name": "stderr"
        },
        {
          "output_type": "stream",
          "text": [
            "\n",
            "Current Learning Rate: 0.1\n",
            "\n",
            "Epoch:0--> Training Loss:0.284, Validation Loss:0.063\n",
            "\n",
            "Training Accuracy:91.558, Validation Accuracy:98.030\n",
            "\n"
          ],
          "name": "stdout"
        },
        {
          "output_type": "stream",
          "text": [
            "Loss=0.039 batch-index=234 Accuracy=97.85: 100%|██████████| 235/235 [00:12<00:00, 23.00it/s]\n",
            "100%|██████████| 20/20 [00:01<00:00, 12.43it/s]\n",
            "  0%|          | 0/235 [00:00<?, ?it/s]"
          ],
          "name": "stderr"
        },
        {
          "output_type": "stream",
          "text": [
            "\n",
            "Epoch:1--> Training Loss:0.071, Validation Loss:0.038\n",
            "\n",
            "Training Accuracy:97.850, Validation Accuracy:98.810\n",
            "\n"
          ],
          "name": "stdout"
        },
        {
          "output_type": "stream",
          "text": [
            "Loss=0.173 batch-index=234 Accuracy=98.17: 100%|██████████| 235/235 [00:12<00:00, 19.23it/s]\n",
            "100%|██████████| 20/20 [00:01<00:00, 13.20it/s]\n",
            "  0%|          | 0/235 [00:00<?, ?it/s]"
          ],
          "name": "stderr"
        },
        {
          "output_type": "stream",
          "text": [
            "\n",
            "Epoch:2--> Training Loss:0.060, Validation Loss:0.036\n",
            "\n",
            "Training Accuracy:98.173, Validation Accuracy:98.760\n",
            "\n"
          ],
          "name": "stdout"
        },
        {
          "output_type": "stream",
          "text": [
            "Loss=0.034 batch-index=234 Accuracy=98.43: 100%|██████████| 235/235 [00:12<00:00, 18.95it/s]\n",
            "100%|██████████| 20/20 [00:01<00:00, 13.28it/s]\n",
            "  0%|          | 0/235 [00:00<?, ?it/s]"
          ],
          "name": "stderr"
        },
        {
          "output_type": "stream",
          "text": [
            "\n",
            "Epoch:3--> Training Loss:0.051, Validation Loss:0.030\n",
            "\n",
            "Training Accuracy:98.427, Validation Accuracy:99.050\n",
            "\n"
          ],
          "name": "stdout"
        },
        {
          "output_type": "stream",
          "text": [
            "Loss=0.037 batch-index=234 Accuracy=98.59: 100%|██████████| 235/235 [00:12<00:00, 19.21it/s]\n",
            "100%|██████████| 20/20 [00:01<00:00, 13.23it/s]\n",
            "  0%|          | 0/235 [00:00<?, ?it/s]"
          ],
          "name": "stderr"
        },
        {
          "output_type": "stream",
          "text": [
            "\n",
            "Epoch:4--> Training Loss:0.047, Validation Loss:0.028\n",
            "\n",
            "Training Accuracy:98.592, Validation Accuracy:99.180\n",
            "\n"
          ],
          "name": "stdout"
        },
        {
          "output_type": "stream",
          "text": [
            "Loss=0.022 batch-index=234 Accuracy=98.89: 100%|██████████| 235/235 [00:12<00:00, 18.89it/s]\n",
            "100%|██████████| 20/20 [00:01<00:00, 13.18it/s]\n",
            "  0%|          | 0/235 [00:00<?, ?it/s]"
          ],
          "name": "stderr"
        },
        {
          "output_type": "stream",
          "text": [
            "\n",
            "Current Learning Rate: 0.03\n",
            "\n",
            "Epoch:5--> Training Loss:0.036, Validation Loss:0.021\n",
            "\n",
            "Training Accuracy:98.887, Validation Accuracy:99.360\n",
            "\n"
          ],
          "name": "stdout"
        },
        {
          "output_type": "stream",
          "text": [
            "Loss=0.016 batch-index=234 Accuracy=98.99: 100%|██████████| 235/235 [00:12<00:00, 18.69it/s]\n",
            "100%|██████████| 20/20 [00:01<00:00, 12.79it/s]\n",
            "  0%|          | 0/235 [00:00<?, ?it/s]"
          ],
          "name": "stderr"
        },
        {
          "output_type": "stream",
          "text": [
            "\n",
            "Epoch:6--> Training Loss:0.032, Validation Loss:0.020\n",
            "\n",
            "Training Accuracy:98.990, Validation Accuracy:99.390\n",
            "\n"
          ],
          "name": "stdout"
        },
        {
          "output_type": "stream",
          "text": [
            "Loss=0.051 batch-index=234 Accuracy=99.03: 100%|██████████| 235/235 [00:12<00:00, 19.00it/s]\n",
            "100%|██████████| 20/20 [00:01<00:00, 13.34it/s]\n",
            "  0%|          | 0/235 [00:00<?, ?it/s]"
          ],
          "name": "stderr"
        },
        {
          "output_type": "stream",
          "text": [
            "\n",
            "Epoch:7--> Training Loss:0.032, Validation Loss:0.021\n",
            "\n",
            "Training Accuracy:99.028, Validation Accuracy:99.360\n",
            "\n"
          ],
          "name": "stdout"
        },
        {
          "output_type": "stream",
          "text": [
            "Loss=0.020 batch-index=234 Accuracy=99.08: 100%|██████████| 235/235 [00:12<00:00, 18.78it/s]\n",
            "100%|██████████| 20/20 [00:01<00:00, 13.63it/s]\n",
            "  0%|          | 0/235 [00:00<?, ?it/s]"
          ],
          "name": "stderr"
        },
        {
          "output_type": "stream",
          "text": [
            "\n",
            "Epoch:8--> Training Loss:0.030, Validation Loss:0.019\n",
            "\n",
            "Training Accuracy:99.083, Validation Accuracy:99.460\n",
            "\n"
          ],
          "name": "stdout"
        },
        {
          "output_type": "stream",
          "text": [
            "Loss=0.047 batch-index=234 Accuracy=99.09: 100%|██████████| 235/235 [00:12<00:00, 18.99it/s]\n",
            "100%|██████████| 20/20 [00:01<00:00, 13.43it/s]\n",
            "  0%|          | 0/235 [00:00<?, ?it/s]"
          ],
          "name": "stderr"
        },
        {
          "output_type": "stream",
          "text": [
            "\n",
            "Epoch:9--> Training Loss:0.030, Validation Loss:0.019\n",
            "\n",
            "Training Accuracy:99.092, Validation Accuracy:99.390\n",
            "\n"
          ],
          "name": "stdout"
        },
        {
          "output_type": "stream",
          "text": [
            "Loss=0.055 batch-index=234 Accuracy=99.14: 100%|██████████| 235/235 [00:12<00:00, 18.87it/s]\n",
            "100%|██████████| 20/20 [00:01<00:00, 13.44it/s]\n",
            "  0%|          | 0/235 [00:00<?, ?it/s]"
          ],
          "name": "stderr"
        },
        {
          "output_type": "stream",
          "text": [
            "\n",
            "Current Learning Rate: 0.009\n",
            "\n",
            "Epoch:10--> Training Loss:0.027, Validation Loss:0.018\n",
            "\n",
            "Training Accuracy:99.145, Validation Accuracy:99.510\n",
            "\n"
          ],
          "name": "stdout"
        },
        {
          "output_type": "stream",
          "text": [
            "Loss=0.013 batch-index=234 Accuracy=99.18: 100%|██████████| 235/235 [00:12<00:00, 19.22it/s]\n",
            "100%|██████████| 20/20 [00:01<00:00, 13.32it/s]\n",
            "  0%|          | 0/235 [00:00<?, ?it/s]"
          ],
          "name": "stderr"
        },
        {
          "output_type": "stream",
          "text": [
            "\n",
            "Epoch:11--> Training Loss:0.026, Validation Loss:0.018\n",
            "\n",
            "Training Accuracy:99.180, Validation Accuracy:99.460\n",
            "\n"
          ],
          "name": "stdout"
        },
        {
          "output_type": "stream",
          "text": [
            "Loss=0.004 batch-index=234 Accuracy=99.22: 100%|██████████| 235/235 [00:12<00:00, 22.91it/s]\n",
            "100%|██████████| 20/20 [00:01<00:00, 13.29it/s]\n",
            "  0%|          | 0/235 [00:00<?, ?it/s]"
          ],
          "name": "stderr"
        },
        {
          "output_type": "stream",
          "text": [
            "\n",
            "Epoch:12--> Training Loss:0.026, Validation Loss:0.019\n",
            "\n",
            "Training Accuracy:99.217, Validation Accuracy:99.430\n",
            "\n"
          ],
          "name": "stdout"
        },
        {
          "output_type": "stream",
          "text": [
            "Loss=0.017 batch-index=234 Accuracy=99.23: 100%|██████████| 235/235 [00:12<00:00, 19.06it/s]\n",
            "100%|██████████| 20/20 [00:01<00:00, 12.41it/s]\n",
            "  0%|          | 0/235 [00:00<?, ?it/s]"
          ],
          "name": "stderr"
        },
        {
          "output_type": "stream",
          "text": [
            "\n",
            "Epoch:13--> Training Loss:0.025, Validation Loss:0.018\n",
            "\n",
            "Training Accuracy:99.233, Validation Accuracy:99.470\n",
            "\n"
          ],
          "name": "stdout"
        },
        {
          "output_type": "stream",
          "text": [
            "Loss=0.029 batch-index=234 Accuracy=99.25: 100%|██████████| 235/235 [00:12<00:00, 18.93it/s]\n",
            "100%|██████████| 20/20 [00:01<00:00, 13.31it/s]"
          ],
          "name": "stderr"
        },
        {
          "output_type": "stream",
          "text": [
            "\n",
            "Epoch:14--> Training Loss:0.025, Validation Loss:0.018\n",
            "\n",
            "Training Accuracy:99.247, Validation Accuracy:99.450\n",
            "\n"
          ],
          "name": "stdout"
        },
        {
          "output_type": "stream",
          "text": [
            "\n"
          ],
          "name": "stderr"
        }
      ]
    },
    {
      "cell_type": "code",
      "metadata": {
        "id": "ijMc3zIOBOV9",
        "colab_type": "code",
        "colab": {
          "base_uri": "https://localhost:8080/",
          "height": 34
        },
        "outputId": "863c9e09-794d-4d08-c63d-9746c1482c6b"
      },
      "source": [
        "len(train_dl)//BATCH_SIZE"
      ],
      "execution_count": 57,
      "outputs": [
        {
          "output_type": "execute_result",
          "data": {
            "text/plain": [
              "3"
            ]
          },
          "metadata": {
            "tags": []
          },
          "execution_count": 57
        }
      ]
    },
    {
      "cell_type": "code",
      "metadata": {
        "id": "RyV93LIrfkir",
        "colab_type": "code",
        "colab": {}
      },
      "source": [
        ""
      ],
      "execution_count": 0,
      "outputs": []
    }
  ]
}