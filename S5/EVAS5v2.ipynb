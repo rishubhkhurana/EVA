{
  "nbformat": 4,
  "nbformat_minor": 0,
  "metadata": {
    "colab": {
      "name": "EVAS5v2.ipynb",
      "provenance": [],
      "collapsed_sections": [
        "lnXNl9lRPtKr",
        "6vPf5eWbPPyR",
        "waXsAZIJQv4-",
        "Jp2M9oi0XWna"
      ],
      "authorship_tag": "ABX9TyOoVGkTPVYZj9UaZAZXSUgs",
      "include_colab_link": true
    },
    "kernelspec": {
      "name": "python3",
      "display_name": "Python 3"
    },
    "accelerator": "GPU",
    "widgets": {
      "application/vnd.jupyter.widget-state+json": {
        "b7bafd189ec94540b6ac6a47326cbd74": {
          "model_module": "@jupyter-widgets/controls",
          "model_name": "HBoxModel",
          "state": {
            "_view_name": "HBoxView",
            "_dom_classes": [],
            "_model_name": "HBoxModel",
            "_view_module": "@jupyter-widgets/controls",
            "_model_module_version": "1.5.0",
            "_view_count": null,
            "_view_module_version": "1.5.0",
            "box_style": "",
            "layout": "IPY_MODEL_94839496689b4dfdac5b285e2faefd9f",
            "_model_module": "@jupyter-widgets/controls",
            "children": [
              "IPY_MODEL_fa999c38193f4456a5e9215e093ed714",
              "IPY_MODEL_bf72b42e6f1b4e629bca23ec51872e0c"
            ]
          }
        },
        "94839496689b4dfdac5b285e2faefd9f": {
          "model_module": "@jupyter-widgets/base",
          "model_name": "LayoutModel",
          "state": {
            "_view_name": "LayoutView",
            "grid_template_rows": null,
            "right": null,
            "justify_content": null,
            "_view_module": "@jupyter-widgets/base",
            "overflow": null,
            "_model_module_version": "1.2.0",
            "_view_count": null,
            "flex_flow": null,
            "width": null,
            "min_width": null,
            "border": null,
            "align_items": null,
            "bottom": null,
            "_model_module": "@jupyter-widgets/base",
            "top": null,
            "grid_column": null,
            "overflow_y": null,
            "overflow_x": null,
            "grid_auto_flow": null,
            "grid_area": null,
            "grid_template_columns": null,
            "flex": null,
            "_model_name": "LayoutModel",
            "justify_items": null,
            "grid_row": null,
            "max_height": null,
            "align_content": null,
            "visibility": null,
            "align_self": null,
            "height": null,
            "min_height": null,
            "padding": null,
            "grid_auto_rows": null,
            "grid_gap": null,
            "max_width": null,
            "order": null,
            "_view_module_version": "1.2.0",
            "grid_template_areas": null,
            "object_position": null,
            "object_fit": null,
            "grid_auto_columns": null,
            "margin": null,
            "display": null,
            "left": null
          }
        },
        "fa999c38193f4456a5e9215e093ed714": {
          "model_module": "@jupyter-widgets/controls",
          "model_name": "IntProgressModel",
          "state": {
            "_view_name": "ProgressView",
            "style": "IPY_MODEL_1875abac56e14dac87b63275a21bf441",
            "_dom_classes": [],
            "description": "",
            "_model_name": "IntProgressModel",
            "bar_style": "success",
            "max": 1,
            "_view_module": "@jupyter-widgets/controls",
            "_model_module_version": "1.5.0",
            "value": 1,
            "_view_count": null,
            "_view_module_version": "1.5.0",
            "orientation": "horizontal",
            "min": 0,
            "description_tooltip": null,
            "_model_module": "@jupyter-widgets/controls",
            "layout": "IPY_MODEL_28bdc1191b6a445f8ed4b399775ba2d1"
          }
        },
        "bf72b42e6f1b4e629bca23ec51872e0c": {
          "model_module": "@jupyter-widgets/controls",
          "model_name": "HTMLModel",
          "state": {
            "_view_name": "HTMLView",
            "style": "IPY_MODEL_dd9c7b0b0fee41ff9bdb2559efb14255",
            "_dom_classes": [],
            "description": "",
            "_model_name": "HTMLModel",
            "placeholder": "​",
            "_view_module": "@jupyter-widgets/controls",
            "_model_module_version": "1.5.0",
            "value": "9920512it [00:01, 7882847.71it/s]",
            "_view_count": null,
            "_view_module_version": "1.5.0",
            "description_tooltip": null,
            "_model_module": "@jupyter-widgets/controls",
            "layout": "IPY_MODEL_f8c4790677a44c7b98c0344e139718c7"
          }
        },
        "1875abac56e14dac87b63275a21bf441": {
          "model_module": "@jupyter-widgets/controls",
          "model_name": "ProgressStyleModel",
          "state": {
            "_view_name": "StyleView",
            "_model_name": "ProgressStyleModel",
            "description_width": "",
            "_view_module": "@jupyter-widgets/base",
            "_model_module_version": "1.5.0",
            "_view_count": null,
            "_view_module_version": "1.2.0",
            "bar_color": null,
            "_model_module": "@jupyter-widgets/controls"
          }
        },
        "28bdc1191b6a445f8ed4b399775ba2d1": {
          "model_module": "@jupyter-widgets/base",
          "model_name": "LayoutModel",
          "state": {
            "_view_name": "LayoutView",
            "grid_template_rows": null,
            "right": null,
            "justify_content": null,
            "_view_module": "@jupyter-widgets/base",
            "overflow": null,
            "_model_module_version": "1.2.0",
            "_view_count": null,
            "flex_flow": null,
            "width": null,
            "min_width": null,
            "border": null,
            "align_items": null,
            "bottom": null,
            "_model_module": "@jupyter-widgets/base",
            "top": null,
            "grid_column": null,
            "overflow_y": null,
            "overflow_x": null,
            "grid_auto_flow": null,
            "grid_area": null,
            "grid_template_columns": null,
            "flex": null,
            "_model_name": "LayoutModel",
            "justify_items": null,
            "grid_row": null,
            "max_height": null,
            "align_content": null,
            "visibility": null,
            "align_self": null,
            "height": null,
            "min_height": null,
            "padding": null,
            "grid_auto_rows": null,
            "grid_gap": null,
            "max_width": null,
            "order": null,
            "_view_module_version": "1.2.0",
            "grid_template_areas": null,
            "object_position": null,
            "object_fit": null,
            "grid_auto_columns": null,
            "margin": null,
            "display": null,
            "left": null
          }
        },
        "dd9c7b0b0fee41ff9bdb2559efb14255": {
          "model_module": "@jupyter-widgets/controls",
          "model_name": "DescriptionStyleModel",
          "state": {
            "_view_name": "StyleView",
            "_model_name": "DescriptionStyleModel",
            "description_width": "",
            "_view_module": "@jupyter-widgets/base",
            "_model_module_version": "1.5.0",
            "_view_count": null,
            "_view_module_version": "1.2.0",
            "_model_module": "@jupyter-widgets/controls"
          }
        },
        "f8c4790677a44c7b98c0344e139718c7": {
          "model_module": "@jupyter-widgets/base",
          "model_name": "LayoutModel",
          "state": {
            "_view_name": "LayoutView",
            "grid_template_rows": null,
            "right": null,
            "justify_content": null,
            "_view_module": "@jupyter-widgets/base",
            "overflow": null,
            "_model_module_version": "1.2.0",
            "_view_count": null,
            "flex_flow": null,
            "width": null,
            "min_width": null,
            "border": null,
            "align_items": null,
            "bottom": null,
            "_model_module": "@jupyter-widgets/base",
            "top": null,
            "grid_column": null,
            "overflow_y": null,
            "overflow_x": null,
            "grid_auto_flow": null,
            "grid_area": null,
            "grid_template_columns": null,
            "flex": null,
            "_model_name": "LayoutModel",
            "justify_items": null,
            "grid_row": null,
            "max_height": null,
            "align_content": null,
            "visibility": null,
            "align_self": null,
            "height": null,
            "min_height": null,
            "padding": null,
            "grid_auto_rows": null,
            "grid_gap": null,
            "max_width": null,
            "order": null,
            "_view_module_version": "1.2.0",
            "grid_template_areas": null,
            "object_position": null,
            "object_fit": null,
            "grid_auto_columns": null,
            "margin": null,
            "display": null,
            "left": null
          }
        },
        "a6ba564634d4447f94dd907db25a1172": {
          "model_module": "@jupyter-widgets/controls",
          "model_name": "HBoxModel",
          "state": {
            "_view_name": "HBoxView",
            "_dom_classes": [],
            "_model_name": "HBoxModel",
            "_view_module": "@jupyter-widgets/controls",
            "_model_module_version": "1.5.0",
            "_view_count": null,
            "_view_module_version": "1.5.0",
            "box_style": "",
            "layout": "IPY_MODEL_960ba5fe098840798d6d20e84add3e88",
            "_model_module": "@jupyter-widgets/controls",
            "children": [
              "IPY_MODEL_ffbd7a316b554fd09c0c9d8e162b4f48",
              "IPY_MODEL_445f6ec642f245dd8448623b72087811"
            ]
          }
        },
        "960ba5fe098840798d6d20e84add3e88": {
          "model_module": "@jupyter-widgets/base",
          "model_name": "LayoutModel",
          "state": {
            "_view_name": "LayoutView",
            "grid_template_rows": null,
            "right": null,
            "justify_content": null,
            "_view_module": "@jupyter-widgets/base",
            "overflow": null,
            "_model_module_version": "1.2.0",
            "_view_count": null,
            "flex_flow": null,
            "width": null,
            "min_width": null,
            "border": null,
            "align_items": null,
            "bottom": null,
            "_model_module": "@jupyter-widgets/base",
            "top": null,
            "grid_column": null,
            "overflow_y": null,
            "overflow_x": null,
            "grid_auto_flow": null,
            "grid_area": null,
            "grid_template_columns": null,
            "flex": null,
            "_model_name": "LayoutModel",
            "justify_items": null,
            "grid_row": null,
            "max_height": null,
            "align_content": null,
            "visibility": null,
            "align_self": null,
            "height": null,
            "min_height": null,
            "padding": null,
            "grid_auto_rows": null,
            "grid_gap": null,
            "max_width": null,
            "order": null,
            "_view_module_version": "1.2.0",
            "grid_template_areas": null,
            "object_position": null,
            "object_fit": null,
            "grid_auto_columns": null,
            "margin": null,
            "display": null,
            "left": null
          }
        },
        "ffbd7a316b554fd09c0c9d8e162b4f48": {
          "model_module": "@jupyter-widgets/controls",
          "model_name": "IntProgressModel",
          "state": {
            "_view_name": "ProgressView",
            "style": "IPY_MODEL_f276221048284e13894f7918dcd4072f",
            "_dom_classes": [],
            "description": "",
            "_model_name": "IntProgressModel",
            "bar_style": "success",
            "max": 1,
            "_view_module": "@jupyter-widgets/controls",
            "_model_module_version": "1.5.0",
            "value": 1,
            "_view_count": null,
            "_view_module_version": "1.5.0",
            "orientation": "horizontal",
            "min": 0,
            "description_tooltip": null,
            "_model_module": "@jupyter-widgets/controls",
            "layout": "IPY_MODEL_c2ce338903184c34859f8fb14a052b3c"
          }
        },
        "445f6ec642f245dd8448623b72087811": {
          "model_module": "@jupyter-widgets/controls",
          "model_name": "HTMLModel",
          "state": {
            "_view_name": "HTMLView",
            "style": "IPY_MODEL_4e37038ac35043b89fd882b3fd98c4e8",
            "_dom_classes": [],
            "description": "",
            "_model_name": "HTMLModel",
            "placeholder": "​",
            "_view_module": "@jupyter-widgets/controls",
            "_model_module_version": "1.5.0",
            "value": "32768it [00:00, 33386.68it/s]",
            "_view_count": null,
            "_view_module_version": "1.5.0",
            "description_tooltip": null,
            "_model_module": "@jupyter-widgets/controls",
            "layout": "IPY_MODEL_9a38d7eac2c24228a4c9d227dc64b7a0"
          }
        },
        "f276221048284e13894f7918dcd4072f": {
          "model_module": "@jupyter-widgets/controls",
          "model_name": "ProgressStyleModel",
          "state": {
            "_view_name": "StyleView",
            "_model_name": "ProgressStyleModel",
            "description_width": "",
            "_view_module": "@jupyter-widgets/base",
            "_model_module_version": "1.5.0",
            "_view_count": null,
            "_view_module_version": "1.2.0",
            "bar_color": null,
            "_model_module": "@jupyter-widgets/controls"
          }
        },
        "c2ce338903184c34859f8fb14a052b3c": {
          "model_module": "@jupyter-widgets/base",
          "model_name": "LayoutModel",
          "state": {
            "_view_name": "LayoutView",
            "grid_template_rows": null,
            "right": null,
            "justify_content": null,
            "_view_module": "@jupyter-widgets/base",
            "overflow": null,
            "_model_module_version": "1.2.0",
            "_view_count": null,
            "flex_flow": null,
            "width": null,
            "min_width": null,
            "border": null,
            "align_items": null,
            "bottom": null,
            "_model_module": "@jupyter-widgets/base",
            "top": null,
            "grid_column": null,
            "overflow_y": null,
            "overflow_x": null,
            "grid_auto_flow": null,
            "grid_area": null,
            "grid_template_columns": null,
            "flex": null,
            "_model_name": "LayoutModel",
            "justify_items": null,
            "grid_row": null,
            "max_height": null,
            "align_content": null,
            "visibility": null,
            "align_self": null,
            "height": null,
            "min_height": null,
            "padding": null,
            "grid_auto_rows": null,
            "grid_gap": null,
            "max_width": null,
            "order": null,
            "_view_module_version": "1.2.0",
            "grid_template_areas": null,
            "object_position": null,
            "object_fit": null,
            "grid_auto_columns": null,
            "margin": null,
            "display": null,
            "left": null
          }
        },
        "4e37038ac35043b89fd882b3fd98c4e8": {
          "model_module": "@jupyter-widgets/controls",
          "model_name": "DescriptionStyleModel",
          "state": {
            "_view_name": "StyleView",
            "_model_name": "DescriptionStyleModel",
            "description_width": "",
            "_view_module": "@jupyter-widgets/base",
            "_model_module_version": "1.5.0",
            "_view_count": null,
            "_view_module_version": "1.2.0",
            "_model_module": "@jupyter-widgets/controls"
          }
        },
        "9a38d7eac2c24228a4c9d227dc64b7a0": {
          "model_module": "@jupyter-widgets/base",
          "model_name": "LayoutModel",
          "state": {
            "_view_name": "LayoutView",
            "grid_template_rows": null,
            "right": null,
            "justify_content": null,
            "_view_module": "@jupyter-widgets/base",
            "overflow": null,
            "_model_module_version": "1.2.0",
            "_view_count": null,
            "flex_flow": null,
            "width": null,
            "min_width": null,
            "border": null,
            "align_items": null,
            "bottom": null,
            "_model_module": "@jupyter-widgets/base",
            "top": null,
            "grid_column": null,
            "overflow_y": null,
            "overflow_x": null,
            "grid_auto_flow": null,
            "grid_area": null,
            "grid_template_columns": null,
            "flex": null,
            "_model_name": "LayoutModel",
            "justify_items": null,
            "grid_row": null,
            "max_height": null,
            "align_content": null,
            "visibility": null,
            "align_self": null,
            "height": null,
            "min_height": null,
            "padding": null,
            "grid_auto_rows": null,
            "grid_gap": null,
            "max_width": null,
            "order": null,
            "_view_module_version": "1.2.0",
            "grid_template_areas": null,
            "object_position": null,
            "object_fit": null,
            "grid_auto_columns": null,
            "margin": null,
            "display": null,
            "left": null
          }
        },
        "975c02af0b2340c39de51763915d7f11": {
          "model_module": "@jupyter-widgets/controls",
          "model_name": "HBoxModel",
          "state": {
            "_view_name": "HBoxView",
            "_dom_classes": [],
            "_model_name": "HBoxModel",
            "_view_module": "@jupyter-widgets/controls",
            "_model_module_version": "1.5.0",
            "_view_count": null,
            "_view_module_version": "1.5.0",
            "box_style": "",
            "layout": "IPY_MODEL_4d069bb771324904b3e8a6bcb61c07fb",
            "_model_module": "@jupyter-widgets/controls",
            "children": [
              "IPY_MODEL_3a07ca1b783745cb987bfd04d5209822",
              "IPY_MODEL_7ed7856946ca4752a782e332303054f9"
            ]
          }
        },
        "4d069bb771324904b3e8a6bcb61c07fb": {
          "model_module": "@jupyter-widgets/base",
          "model_name": "LayoutModel",
          "state": {
            "_view_name": "LayoutView",
            "grid_template_rows": null,
            "right": null,
            "justify_content": null,
            "_view_module": "@jupyter-widgets/base",
            "overflow": null,
            "_model_module_version": "1.2.0",
            "_view_count": null,
            "flex_flow": null,
            "width": null,
            "min_width": null,
            "border": null,
            "align_items": null,
            "bottom": null,
            "_model_module": "@jupyter-widgets/base",
            "top": null,
            "grid_column": null,
            "overflow_y": null,
            "overflow_x": null,
            "grid_auto_flow": null,
            "grid_area": null,
            "grid_template_columns": null,
            "flex": null,
            "_model_name": "LayoutModel",
            "justify_items": null,
            "grid_row": null,
            "max_height": null,
            "align_content": null,
            "visibility": null,
            "align_self": null,
            "height": null,
            "min_height": null,
            "padding": null,
            "grid_auto_rows": null,
            "grid_gap": null,
            "max_width": null,
            "order": null,
            "_view_module_version": "1.2.0",
            "grid_template_areas": null,
            "object_position": null,
            "object_fit": null,
            "grid_auto_columns": null,
            "margin": null,
            "display": null,
            "left": null
          }
        },
        "3a07ca1b783745cb987bfd04d5209822": {
          "model_module": "@jupyter-widgets/controls",
          "model_name": "IntProgressModel",
          "state": {
            "_view_name": "ProgressView",
            "style": "IPY_MODEL_8d63206d30f44012956d7fcc969c1ed6",
            "_dom_classes": [],
            "description": "",
            "_model_name": "IntProgressModel",
            "bar_style": "success",
            "max": 1,
            "_view_module": "@jupyter-widgets/controls",
            "_model_module_version": "1.5.0",
            "value": 1,
            "_view_count": null,
            "_view_module_version": "1.5.0",
            "orientation": "horizontal",
            "min": 0,
            "description_tooltip": null,
            "_model_module": "@jupyter-widgets/controls",
            "layout": "IPY_MODEL_0a72cb2c7a0f4e2b8d8b38c3fd11d04c"
          }
        },
        "7ed7856946ca4752a782e332303054f9": {
          "model_module": "@jupyter-widgets/controls",
          "model_name": "HTMLModel",
          "state": {
            "_view_name": "HTMLView",
            "style": "IPY_MODEL_b8dfd17265f54fc5a2e517e5d25d286a",
            "_dom_classes": [],
            "description": "",
            "_model_name": "HTMLModel",
            "placeholder": "​",
            "_view_module": "@jupyter-widgets/controls",
            "_model_module_version": "1.5.0",
            "value": "1654784it [00:00, 1925529.98it/s]",
            "_view_count": null,
            "_view_module_version": "1.5.0",
            "description_tooltip": null,
            "_model_module": "@jupyter-widgets/controls",
            "layout": "IPY_MODEL_2b2810f6353a459887761fd8f729635e"
          }
        },
        "8d63206d30f44012956d7fcc969c1ed6": {
          "model_module": "@jupyter-widgets/controls",
          "model_name": "ProgressStyleModel",
          "state": {
            "_view_name": "StyleView",
            "_model_name": "ProgressStyleModel",
            "description_width": "",
            "_view_module": "@jupyter-widgets/base",
            "_model_module_version": "1.5.0",
            "_view_count": null,
            "_view_module_version": "1.2.0",
            "bar_color": null,
            "_model_module": "@jupyter-widgets/controls"
          }
        },
        "0a72cb2c7a0f4e2b8d8b38c3fd11d04c": {
          "model_module": "@jupyter-widgets/base",
          "model_name": "LayoutModel",
          "state": {
            "_view_name": "LayoutView",
            "grid_template_rows": null,
            "right": null,
            "justify_content": null,
            "_view_module": "@jupyter-widgets/base",
            "overflow": null,
            "_model_module_version": "1.2.0",
            "_view_count": null,
            "flex_flow": null,
            "width": null,
            "min_width": null,
            "border": null,
            "align_items": null,
            "bottom": null,
            "_model_module": "@jupyter-widgets/base",
            "top": null,
            "grid_column": null,
            "overflow_y": null,
            "overflow_x": null,
            "grid_auto_flow": null,
            "grid_area": null,
            "grid_template_columns": null,
            "flex": null,
            "_model_name": "LayoutModel",
            "justify_items": null,
            "grid_row": null,
            "max_height": null,
            "align_content": null,
            "visibility": null,
            "align_self": null,
            "height": null,
            "min_height": null,
            "padding": null,
            "grid_auto_rows": null,
            "grid_gap": null,
            "max_width": null,
            "order": null,
            "_view_module_version": "1.2.0",
            "grid_template_areas": null,
            "object_position": null,
            "object_fit": null,
            "grid_auto_columns": null,
            "margin": null,
            "display": null,
            "left": null
          }
        },
        "b8dfd17265f54fc5a2e517e5d25d286a": {
          "model_module": "@jupyter-widgets/controls",
          "model_name": "DescriptionStyleModel",
          "state": {
            "_view_name": "StyleView",
            "_model_name": "DescriptionStyleModel",
            "description_width": "",
            "_view_module": "@jupyter-widgets/base",
            "_model_module_version": "1.5.0",
            "_view_count": null,
            "_view_module_version": "1.2.0",
            "_model_module": "@jupyter-widgets/controls"
          }
        },
        "2b2810f6353a459887761fd8f729635e": {
          "model_module": "@jupyter-widgets/base",
          "model_name": "LayoutModel",
          "state": {
            "_view_name": "LayoutView",
            "grid_template_rows": null,
            "right": null,
            "justify_content": null,
            "_view_module": "@jupyter-widgets/base",
            "overflow": null,
            "_model_module_version": "1.2.0",
            "_view_count": null,
            "flex_flow": null,
            "width": null,
            "min_width": null,
            "border": null,
            "align_items": null,
            "bottom": null,
            "_model_module": "@jupyter-widgets/base",
            "top": null,
            "grid_column": null,
            "overflow_y": null,
            "overflow_x": null,
            "grid_auto_flow": null,
            "grid_area": null,
            "grid_template_columns": null,
            "flex": null,
            "_model_name": "LayoutModel",
            "justify_items": null,
            "grid_row": null,
            "max_height": null,
            "align_content": null,
            "visibility": null,
            "align_self": null,
            "height": null,
            "min_height": null,
            "padding": null,
            "grid_auto_rows": null,
            "grid_gap": null,
            "max_width": null,
            "order": null,
            "_view_module_version": "1.2.0",
            "grid_template_areas": null,
            "object_position": null,
            "object_fit": null,
            "grid_auto_columns": null,
            "margin": null,
            "display": null,
            "left": null
          }
        },
        "e38b213d993d417689b88c6fa1c34d3f": {
          "model_module": "@jupyter-widgets/controls",
          "model_name": "HBoxModel",
          "state": {
            "_view_name": "HBoxView",
            "_dom_classes": [],
            "_model_name": "HBoxModel",
            "_view_module": "@jupyter-widgets/controls",
            "_model_module_version": "1.5.0",
            "_view_count": null,
            "_view_module_version": "1.5.0",
            "box_style": "",
            "layout": "IPY_MODEL_adc35402bd9f4664aeba971140dfd2bf",
            "_model_module": "@jupyter-widgets/controls",
            "children": [
              "IPY_MODEL_dbb1db636422457e8203d1fe0de3f2f0",
              "IPY_MODEL_96130a5cb965493687567e7ac3b7e3d0"
            ]
          }
        },
        "adc35402bd9f4664aeba971140dfd2bf": {
          "model_module": "@jupyter-widgets/base",
          "model_name": "LayoutModel",
          "state": {
            "_view_name": "LayoutView",
            "grid_template_rows": null,
            "right": null,
            "justify_content": null,
            "_view_module": "@jupyter-widgets/base",
            "overflow": null,
            "_model_module_version": "1.2.0",
            "_view_count": null,
            "flex_flow": null,
            "width": null,
            "min_width": null,
            "border": null,
            "align_items": null,
            "bottom": null,
            "_model_module": "@jupyter-widgets/base",
            "top": null,
            "grid_column": null,
            "overflow_y": null,
            "overflow_x": null,
            "grid_auto_flow": null,
            "grid_area": null,
            "grid_template_columns": null,
            "flex": null,
            "_model_name": "LayoutModel",
            "justify_items": null,
            "grid_row": null,
            "max_height": null,
            "align_content": null,
            "visibility": null,
            "align_self": null,
            "height": null,
            "min_height": null,
            "padding": null,
            "grid_auto_rows": null,
            "grid_gap": null,
            "max_width": null,
            "order": null,
            "_view_module_version": "1.2.0",
            "grid_template_areas": null,
            "object_position": null,
            "object_fit": null,
            "grid_auto_columns": null,
            "margin": null,
            "display": null,
            "left": null
          }
        },
        "dbb1db636422457e8203d1fe0de3f2f0": {
          "model_module": "@jupyter-widgets/controls",
          "model_name": "IntProgressModel",
          "state": {
            "_view_name": "ProgressView",
            "style": "IPY_MODEL_fdb6cf7bd98347e1967aadf6d33ecc1a",
            "_dom_classes": [],
            "description": "",
            "_model_name": "IntProgressModel",
            "bar_style": "success",
            "max": 1,
            "_view_module": "@jupyter-widgets/controls",
            "_model_module_version": "1.5.0",
            "value": 1,
            "_view_count": null,
            "_view_module_version": "1.5.0",
            "orientation": "horizontal",
            "min": 0,
            "description_tooltip": null,
            "_model_module": "@jupyter-widgets/controls",
            "layout": "IPY_MODEL_74b6a1f89d7d4c838e9a954d42bb8a7c"
          }
        },
        "96130a5cb965493687567e7ac3b7e3d0": {
          "model_module": "@jupyter-widgets/controls",
          "model_name": "HTMLModel",
          "state": {
            "_view_name": "HTMLView",
            "style": "IPY_MODEL_c14822765cae4ae68ca1aa96307a83cb",
            "_dom_classes": [],
            "description": "",
            "_model_name": "HTMLModel",
            "placeholder": "​",
            "_view_module": "@jupyter-widgets/controls",
            "_model_module_version": "1.5.0",
            "value": "8192it [00:00, 42393.10it/s]",
            "_view_count": null,
            "_view_module_version": "1.5.0",
            "description_tooltip": null,
            "_model_module": "@jupyter-widgets/controls",
            "layout": "IPY_MODEL_47376c17aa6145888d44a6bf48d9c7ae"
          }
        },
        "fdb6cf7bd98347e1967aadf6d33ecc1a": {
          "model_module": "@jupyter-widgets/controls",
          "model_name": "ProgressStyleModel",
          "state": {
            "_view_name": "StyleView",
            "_model_name": "ProgressStyleModel",
            "description_width": "",
            "_view_module": "@jupyter-widgets/base",
            "_model_module_version": "1.5.0",
            "_view_count": null,
            "_view_module_version": "1.2.0",
            "bar_color": null,
            "_model_module": "@jupyter-widgets/controls"
          }
        },
        "74b6a1f89d7d4c838e9a954d42bb8a7c": {
          "model_module": "@jupyter-widgets/base",
          "model_name": "LayoutModel",
          "state": {
            "_view_name": "LayoutView",
            "grid_template_rows": null,
            "right": null,
            "justify_content": null,
            "_view_module": "@jupyter-widgets/base",
            "overflow": null,
            "_model_module_version": "1.2.0",
            "_view_count": null,
            "flex_flow": null,
            "width": null,
            "min_width": null,
            "border": null,
            "align_items": null,
            "bottom": null,
            "_model_module": "@jupyter-widgets/base",
            "top": null,
            "grid_column": null,
            "overflow_y": null,
            "overflow_x": null,
            "grid_auto_flow": null,
            "grid_area": null,
            "grid_template_columns": null,
            "flex": null,
            "_model_name": "LayoutModel",
            "justify_items": null,
            "grid_row": null,
            "max_height": null,
            "align_content": null,
            "visibility": null,
            "align_self": null,
            "height": null,
            "min_height": null,
            "padding": null,
            "grid_auto_rows": null,
            "grid_gap": null,
            "max_width": null,
            "order": null,
            "_view_module_version": "1.2.0",
            "grid_template_areas": null,
            "object_position": null,
            "object_fit": null,
            "grid_auto_columns": null,
            "margin": null,
            "display": null,
            "left": null
          }
        },
        "c14822765cae4ae68ca1aa96307a83cb": {
          "model_module": "@jupyter-widgets/controls",
          "model_name": "DescriptionStyleModel",
          "state": {
            "_view_name": "StyleView",
            "_model_name": "DescriptionStyleModel",
            "description_width": "",
            "_view_module": "@jupyter-widgets/base",
            "_model_module_version": "1.5.0",
            "_view_count": null,
            "_view_module_version": "1.2.0",
            "_model_module": "@jupyter-widgets/controls"
          }
        },
        "47376c17aa6145888d44a6bf48d9c7ae": {
          "model_module": "@jupyter-widgets/base",
          "model_name": "LayoutModel",
          "state": {
            "_view_name": "LayoutView",
            "grid_template_rows": null,
            "right": null,
            "justify_content": null,
            "_view_module": "@jupyter-widgets/base",
            "overflow": null,
            "_model_module_version": "1.2.0",
            "_view_count": null,
            "flex_flow": null,
            "width": null,
            "min_width": null,
            "border": null,
            "align_items": null,
            "bottom": null,
            "_model_module": "@jupyter-widgets/base",
            "top": null,
            "grid_column": null,
            "overflow_y": null,
            "overflow_x": null,
            "grid_auto_flow": null,
            "grid_area": null,
            "grid_template_columns": null,
            "flex": null,
            "_model_name": "LayoutModel",
            "justify_items": null,
            "grid_row": null,
            "max_height": null,
            "align_content": null,
            "visibility": null,
            "align_self": null,
            "height": null,
            "min_height": null,
            "padding": null,
            "grid_auto_rows": null,
            "grid_gap": null,
            "max_width": null,
            "order": null,
            "_view_module_version": "1.2.0",
            "grid_template_areas": null,
            "object_position": null,
            "object_fit": null,
            "grid_auto_columns": null,
            "margin": null,
            "display": null,
            "left": null
          }
        }
      }
    }
  },
  "cells": [
    {
      "cell_type": "markdown",
      "metadata": {
        "id": "view-in-github",
        "colab_type": "text"
      },
      "source": [
        "<a href=\"https://colab.research.google.com/github/rishubhkhurana/EVA/blob/master/S5/EVAS5v2.ipynb\" target=\"_parent\"><img src=\"https://colab.research.google.com/assets/colab-badge.svg\" alt=\"Open In Colab\"/></a>"
      ]
    },
    {
      "cell_type": "markdown",
      "metadata": {
        "id": "zutK2AAQOfs9",
        "colab_type": "text"
      },
      "source": [
        "## Notebook Analysis -- Second Version\n",
        "\n",
        "1. Target -- Reduce the Model capacity by descreasing the number of filters everywhere by sqrt(2) times. This will reduce the model capacity to be less than 10k params\n",
        "2. Result -- Achieved Best Training Accuracy of 98.45 and Validation accuracy of 98.5 with ~9800 params\n",
        "3. Analysis -- ~9.8K parameters. Not overfitting. Good sign. Need to push the model capacity now."
      ]
    },
    {
      "cell_type": "markdown",
      "metadata": {
        "id": "lnXNl9lRPtKr",
        "colab_type": "text"
      },
      "source": [
        "## Import Libs\n"
      ]
    },
    {
      "cell_type": "code",
      "metadata": {
        "id": "JHx4q89VOqyJ",
        "colab_type": "code",
        "colab": {}
      },
      "source": [
        "import torch\n",
        "import torch.nn as nn\n",
        "import torch.nn.functional as F\n",
        "from torchvision.datasets import MNIST\n",
        "import torch.optim as optim\n",
        "import matplotlib.pyplot as plt\n",
        "import numpy as np\n",
        "import PIL\n",
        "from PIL import Image\n",
        "from torchvision.transforms import transforms\n",
        "from torch.utils.data import DataLoader\n",
        "from tqdm import tqdm"
      ],
      "execution_count": 0,
      "outputs": []
    },
    {
      "cell_type": "code",
      "metadata": {
        "id": "7v74X2Fsp8J3",
        "colab_type": "code",
        "outputId": "e1bf3d8c-92e9-44fc-f334-6ba6ffa2c1b2",
        "colab": {
          "base_uri": "https://localhost:8080/"
        }
      },
      "source": [
        "!pip install torchsummary"
      ],
      "execution_count": 0,
      "outputs": [
        {
          "output_type": "stream",
          "text": [
            "Requirement already satisfied: torchsummary in /usr/local/lib/python3.6/dist-packages (1.5.1)\n"
          ],
          "name": "stdout"
        }
      ]
    },
    {
      "cell_type": "code",
      "metadata": {
        "id": "rRiy1zkop985",
        "colab_type": "code",
        "colab": {}
      },
      "source": [
        "from torchsummary import summary"
      ],
      "execution_count": 0,
      "outputs": []
    },
    {
      "cell_type": "markdown",
      "metadata": {
        "id": "6vPf5eWbPPyR",
        "colab_type": "text"
      },
      "source": [
        "## Transforms/Reading Dataset"
      ]
    },
    {
      "cell_type": "code",
      "metadata": {
        "id": "6ZT5DwJdPiZm",
        "colab_type": "code",
        "colab": {}
      },
      "source": [
        "train_transforms = transforms.Compose([transforms.ToTensor()])\n",
        "test_transforms = transforms.Compose([transforms.ToTensor()])"
      ],
      "execution_count": 0,
      "outputs": []
    },
    {
      "cell_type": "code",
      "metadata": {
        "id": "XcBuRgV8O4nA",
        "colab_type": "code",
        "outputId": "97d6c39d-f903-4680-be09-776a23260c0d",
        "colab": {
          "base_uri": "https://localhost:8080/",
          "referenced_widgets": [
            "b7bafd189ec94540b6ac6a47326cbd74",
            "94839496689b4dfdac5b285e2faefd9f",
            "fa999c38193f4456a5e9215e093ed714",
            "bf72b42e6f1b4e629bca23ec51872e0c",
            "1875abac56e14dac87b63275a21bf441",
            "28bdc1191b6a445f8ed4b399775ba2d1",
            "dd9c7b0b0fee41ff9bdb2559efb14255",
            "f8c4790677a44c7b98c0344e139718c7",
            "a6ba564634d4447f94dd907db25a1172",
            "960ba5fe098840798d6d20e84add3e88",
            "ffbd7a316b554fd09c0c9d8e162b4f48",
            "445f6ec642f245dd8448623b72087811",
            "f276221048284e13894f7918dcd4072f",
            "c2ce338903184c34859f8fb14a052b3c",
            "4e37038ac35043b89fd882b3fd98c4e8",
            "9a38d7eac2c24228a4c9d227dc64b7a0",
            "975c02af0b2340c39de51763915d7f11",
            "4d069bb771324904b3e8a6bcb61c07fb",
            "3a07ca1b783745cb987bfd04d5209822",
            "7ed7856946ca4752a782e332303054f9",
            "8d63206d30f44012956d7fcc969c1ed6",
            "0a72cb2c7a0f4e2b8d8b38c3fd11d04c",
            "b8dfd17265f54fc5a2e517e5d25d286a",
            "2b2810f6353a459887761fd8f729635e",
            "e38b213d993d417689b88c6fa1c34d3f",
            "adc35402bd9f4664aeba971140dfd2bf",
            "dbb1db636422457e8203d1fe0de3f2f0",
            "96130a5cb965493687567e7ac3b7e3d0",
            "fdb6cf7bd98347e1967aadf6d33ecc1a",
            "74b6a1f89d7d4c838e9a954d42bb8a7c",
            "c14822765cae4ae68ca1aa96307a83cb",
            "47376c17aa6145888d44a6bf48d9c7ae"
          ]
        }
      },
      "source": [
        "train_data=MNIST(root='./data',train=True,transform=train_transforms,download=True)\n",
        "test_data=MNIST(root='./data',train=False,transform=test_transforms,download=True)"
      ],
      "execution_count": 0,
      "outputs": [
        {
          "output_type": "stream",
          "text": [
            "Downloading http://yann.lecun.com/exdb/mnist/train-images-idx3-ubyte.gz to ./data/MNIST/raw/train-images-idx3-ubyte.gz\n"
          ],
          "name": "stdout"
        },
        {
          "output_type": "display_data",
          "data": {
            "application/vnd.jupyter.widget-view+json": {
              "model_id": "b7bafd189ec94540b6ac6a47326cbd74",
              "version_minor": 0,
              "version_major": 2
            },
            "text/plain": [
              "HBox(children=(IntProgress(value=1, bar_style='info', max=1), HTML(value='')))"
            ]
          },
          "metadata": {
            "tags": []
          }
        },
        {
          "output_type": "stream",
          "text": [
            "\n",
            "Extracting ./data/MNIST/raw/train-images-idx3-ubyte.gz to ./data/MNIST/raw\n",
            "Downloading http://yann.lecun.com/exdb/mnist/train-labels-idx1-ubyte.gz to ./data/MNIST/raw/train-labels-idx1-ubyte.gz\n"
          ],
          "name": "stdout"
        },
        {
          "output_type": "display_data",
          "data": {
            "application/vnd.jupyter.widget-view+json": {
              "model_id": "a6ba564634d4447f94dd907db25a1172",
              "version_minor": 0,
              "version_major": 2
            },
            "text/plain": [
              "HBox(children=(IntProgress(value=1, bar_style='info', max=1), HTML(value='')))"
            ]
          },
          "metadata": {
            "tags": []
          }
        },
        {
          "output_type": "stream",
          "text": [
            "\n",
            "Extracting ./data/MNIST/raw/train-labels-idx1-ubyte.gz to ./data/MNIST/raw\n",
            "Downloading http://yann.lecun.com/exdb/mnist/t10k-images-idx3-ubyte.gz to ./data/MNIST/raw/t10k-images-idx3-ubyte.gz\n"
          ],
          "name": "stdout"
        },
        {
          "output_type": "display_data",
          "data": {
            "application/vnd.jupyter.widget-view+json": {
              "model_id": "975c02af0b2340c39de51763915d7f11",
              "version_minor": 0,
              "version_major": 2
            },
            "text/plain": [
              "HBox(children=(IntProgress(value=1, bar_style='info', max=1), HTML(value='')))"
            ]
          },
          "metadata": {
            "tags": []
          }
        },
        {
          "output_type": "stream",
          "text": [
            "\n",
            "Extracting ./data/MNIST/raw/t10k-images-idx3-ubyte.gz to ./data/MNIST/raw\n",
            "Downloading http://yann.lecun.com/exdb/mnist/t10k-labels-idx1-ubyte.gz to ./data/MNIST/raw/t10k-labels-idx1-ubyte.gz\n"
          ],
          "name": "stdout"
        },
        {
          "output_type": "display_data",
          "data": {
            "application/vnd.jupyter.widget-view+json": {
              "model_id": "e38b213d993d417689b88c6fa1c34d3f",
              "version_minor": 0,
              "version_major": 2
            },
            "text/plain": [
              "HBox(children=(IntProgress(value=1, bar_style='info', max=1), HTML(value='')))"
            ]
          },
          "metadata": {
            "tags": []
          }
        },
        {
          "output_type": "stream",
          "text": [
            "\n",
            "Extracting ./data/MNIST/raw/t10k-labels-idx1-ubyte.gz to ./data/MNIST/raw\n",
            "Processing...\n",
            "Done!\n"
          ],
          "name": "stdout"
        }
      ]
    },
    {
      "cell_type": "code",
      "metadata": {
        "id": "BjcfI_FUXdP-",
        "colab_type": "code",
        "outputId": "5fa7cf97-a90d-4537-8ddb-843182d86614",
        "colab": {
          "base_uri": "https://localhost:8080/"
        }
      },
      "source": [
        "print(f\"Training Dataset Mean: {train_data.transform(train_data.train_data.numpy()).float().mean()}\")\n",
        "print(f\"Training Dataset Mean: {train_data.transform(train_data.train_data.numpy()).float().std()}\")"
      ],
      "execution_count": 0,
      "outputs": [
        {
          "output_type": "stream",
          "text": [
            "/usr/local/lib/python3.6/dist-packages/torchvision/datasets/mnist.py:55: UserWarning: train_data has been renamed data\n",
            "  warnings.warn(\"train_data has been renamed data\")\n"
          ],
          "name": "stderr"
        },
        {
          "output_type": "stream",
          "text": [
            "Training Dataset Mean: 0.13054245710372925\n",
            "Training Dataset Mean: 0.30810782313346863\n"
          ],
          "name": "stdout"
        }
      ]
    },
    {
      "cell_type": "code",
      "metadata": {
        "id": "FdfADM1gXep7",
        "colab_type": "code",
        "outputId": "baaa146f-26b6-447b-b92c-cd43a94a3bb8",
        "colab": {
          "base_uri": "https://localhost:8080/"
        }
      },
      "source": [
        "print(f\"Testing Dataset Mean: {train_data.transform(train_data.train_data.numpy()).float().mean()}\")\n",
        "print(f\"Testing Dataset Mean: {test_data.transform(test_data.train_data.numpy()).float().std()}\")"
      ],
      "execution_count": 0,
      "outputs": [
        {
          "output_type": "stream",
          "text": [
            "/usr/local/lib/python3.6/dist-packages/torchvision/datasets/mnist.py:55: UserWarning: train_data has been renamed data\n",
            "  warnings.warn(\"train_data has been renamed data\")\n"
          ],
          "name": "stderr"
        },
        {
          "output_type": "stream",
          "text": [
            "Testing Dataset Mean: 0.13054245710372925\n",
            "Testing Dataset Mean: 0.3104802668094635\n"
          ],
          "name": "stdout"
        }
      ]
    },
    {
      "cell_type": "code",
      "metadata": {
        "id": "8U5LFMcxXjvq",
        "colab_type": "code",
        "colab": {}
      },
      "source": [
        "train_transforms = transforms.Compose([transforms.ToTensor(),transforms.Normalize((0.1305,),(0.308,))])\n",
        "test_transforms = transforms.Compose([transforms.ToTensor(),transforms.Normalize((0.1305,),(0.308,))])"
      ],
      "execution_count": 0,
      "outputs": []
    },
    {
      "cell_type": "code",
      "metadata": {
        "id": "UXF_ztKWXwfT",
        "colab_type": "code",
        "colab": {}
      },
      "source": [
        "train_data=MNIST(root='./data',train=True,transform=train_transforms,download=True)\n",
        "test_data=MNIST(root='./data',train=False,transform=test_transforms,download=True)"
      ],
      "execution_count": 0,
      "outputs": []
    },
    {
      "cell_type": "code",
      "metadata": {
        "id": "p_WjCYvuXx3S",
        "colab_type": "code",
        "outputId": "701935d6-8d84-450d-8a1a-6ff70b7decc6",
        "colab": {
          "base_uri": "https://localhost:8080/"
        }
      },
      "source": [
        "print(f\"Training Dataset Mean: {train_data.transform(train_data.train_data.numpy()).float().mean()}\")\n",
        "print(f\"Training Dataset Mean: {train_data.transform(train_data.train_data.numpy()).float().std()}\")"
      ],
      "execution_count": 0,
      "outputs": [
        {
          "output_type": "stream",
          "text": [
            "/usr/local/lib/python3.6/dist-packages/torchvision/datasets/mnist.py:55: UserWarning: train_data has been renamed data\n",
            "  warnings.warn(\"train_data has been renamed data\")\n"
          ],
          "name": "stderr"
        },
        {
          "output_type": "stream",
          "text": [
            "Training Dataset Mean: 0.00167939648963511\n",
            "Training Dataset Mean: 1.000349998474121\n"
          ],
          "name": "stdout"
        }
      ]
    },
    {
      "cell_type": "code",
      "metadata": {
        "id": "t8K3RC6dXy9c",
        "colab_type": "code",
        "outputId": "ffbc36f9-9fbf-4e08-e514-a68e30ce3fa2",
        "colab": {
          "base_uri": "https://localhost:8080/"
        }
      },
      "source": [
        "print(f\"Testing Dataset Mean: {train_data.transform(train_data.train_data.numpy()).float().mean()}\")\n",
        "print(f\"Testing Dataset Mean: {test_data.transform(test_data.train_data.numpy()).float().std()}\")"
      ],
      "execution_count": 0,
      "outputs": [
        {
          "output_type": "stream",
          "text": [
            "/usr/local/lib/python3.6/dist-packages/torchvision/datasets/mnist.py:55: UserWarning: train_data has been renamed data\n",
            "  warnings.warn(\"train_data has been renamed data\")\n"
          ],
          "name": "stderr"
        },
        {
          "output_type": "stream",
          "text": [
            "Testing Dataset Mean: 0.00167939648963511\n",
            "Testing Dataset Mean: 1.0080528259277344\n"
          ],
          "name": "stdout"
        }
      ]
    },
    {
      "cell_type": "markdown",
      "metadata": {
        "id": "waXsAZIJQv4-",
        "colab_type": "text"
      },
      "source": [
        "## Defining Data Loader\n"
      ]
    },
    {
      "cell_type": "code",
      "metadata": {
        "id": "amxbkuFEQnJ2",
        "colab_type": "code",
        "colab": {}
      },
      "source": [
        "# defining the seed for reproducible\n",
        "SEED = 99\n",
        "\n",
        "torch.manual_seed(SEED)\n",
        "\n",
        "# checking if the CUDA is available \n",
        "\n",
        "is_CUDA = torch.cuda.is_available()\n",
        "\n",
        "if is_CUDA:\n",
        "  dev = torch.device('cuda')\n",
        "else:\n",
        "  dev = torch.device('cpu')\n",
        "\n"
      ],
      "execution_count": 0,
      "outputs": []
    },
    {
      "cell_type": "code",
      "metadata": {
        "id": "BGWiiNepTzBF",
        "colab_type": "code",
        "colab": {}
      },
      "source": [
        "BATCH_SIZE=128\n",
        "EPOCHS=15"
      ],
      "execution_count": 0,
      "outputs": []
    },
    {
      "cell_type": "code",
      "metadata": {
        "id": "iqt-wXpdTOom",
        "colab_type": "code",
        "colab": {}
      },
      "source": [
        "dataloader_args = dict(shuffle=True,batch_size=BATCH_SIZE,pin_memory=True,num_workers=4) if is_CUDA else dict(shuffle=True,batch_size=BATCH_SIZE//2)\n",
        "train_dl = DataLoader(train_data,**dataloader_args)\n",
        "\n",
        "dataloader_args = dict(shuffle=False,batch_size=BATCH_SIZE*2,pin_memory=True,num_workers=4) if is_CUDA else dict(shuffle=False,batch_size=BATCH_SIZE)\n",
        "test_dl = DataLoader(test_data,**dataloader_args)"
      ],
      "execution_count": 0,
      "outputs": []
    },
    {
      "cell_type": "code",
      "metadata": {
        "id": "f1rMpA2bTPWN",
        "colab_type": "code",
        "colab": {}
      },
      "source": [
        "x,y=next(iter(train_dl))"
      ],
      "execution_count": 0,
      "outputs": []
    },
    {
      "cell_type": "code",
      "metadata": {
        "id": "PMOMcM-sU3qF",
        "colab_type": "code",
        "outputId": "7e6b8f17-a427-47d1-fd64-30d15e41d640",
        "colab": {
          "base_uri": "https://localhost:8080/"
        }
      },
      "source": [
        "x.size(),y.size()"
      ],
      "execution_count": 0,
      "outputs": [
        {
          "output_type": "execute_result",
          "data": {
            "text/plain": [
              "(torch.Size([128, 1, 28, 28]), torch.Size([128]))"
            ]
          },
          "metadata": {
            "tags": []
          },
          "execution_count": 18
        }
      ]
    },
    {
      "cell_type": "code",
      "metadata": {
        "id": "FvdKIyo5U7Bs",
        "colab_type": "code",
        "colab": {}
      },
      "source": [
        "torch.Tensor.stats = lambda x: (x.mean(),x.std())"
      ],
      "execution_count": 0,
      "outputs": []
    },
    {
      "cell_type": "code",
      "metadata": {
        "id": "_lALbhbKWfXr",
        "colab_type": "code",
        "outputId": "4f536cdd-6912-4cab-b011-d024ea4f665d",
        "colab": {
          "base_uri": "https://localhost:8080/"
        }
      },
      "source": [
        "x.stats()"
      ],
      "execution_count": 0,
      "outputs": [
        {
          "output_type": "execute_result",
          "data": {
            "text/plain": [
              "(tensor(0.0281), tensor(1.0290))"
            ]
          },
          "metadata": {
            "tags": []
          },
          "execution_count": 20
        }
      ]
    },
    {
      "cell_type": "code",
      "metadata": {
        "id": "MFzvn8Zlzs6I",
        "colab_type": "code",
        "outputId": "9215ebcd-e977-4125-b7a0-d020a139f542",
        "colab": {
          "base_uri": "https://localhost:8080/"
        }
      },
      "source": [
        "type(x)"
      ],
      "execution_count": 0,
      "outputs": [
        {
          "output_type": "execute_result",
          "data": {
            "text/plain": [
              "torch.Tensor"
            ]
          },
          "metadata": {
            "tags": []
          },
          "execution_count": 21
        }
      ]
    },
    {
      "cell_type": "markdown",
      "metadata": {
        "id": "Jp2M9oi0XWna",
        "colab_type": "text"
      },
      "source": [
        "## Visualizing the data"
      ]
    },
    {
      "cell_type": "code",
      "metadata": {
        "id": "krIuDbgVYLKm",
        "colab_type": "code",
        "colab": {}
      },
      "source": [
        "def plot_img(img,axs=None,figsize=(6,6),visible=True):\n",
        "  if axs is None:\n",
        "    _,axs=plt.subplots(1,1,figsize=figsize)\n",
        "  if not visible:\n",
        "    #print(\"yesy\")\n",
        "    axs.set_xticks([])\n",
        "    axs.set_yticks([])\n",
        "  axs.imshow(img.numpy().squeeze(0),cmap='gray_r')\n",
        "  \n",
        "  "
      ],
      "execution_count": 0,
      "outputs": []
    },
    {
      "cell_type": "code",
      "metadata": {
        "id": "03uYQ6LdYqEb",
        "colab_type": "code",
        "outputId": "0bc669f7-4c6f-4177-ea55-3e570ee03c3b",
        "colab": {
          "base_uri": "https://localhost:8080/"
        }
      },
      "source": [
        "plot_img(x[0],visible=False)"
      ],
      "execution_count": 0,
      "outputs": [
        {
          "output_type": "display_data",
          "data": {
            "image/png": "[encoded data removed]",
            "text/plain": [
              "<Figure size 432x432 with 1 Axes>"
            ]
          },
          "metadata": {
            "tags": []
          }
        }
      ]
    },
    {
      "cell_type": "code",
      "metadata": {
        "id": "gwmN7GzXYr9T",
        "colab_type": "code",
        "outputId": "a8443da0-c798-4913-994e-93e499ba794d",
        "colab": {
          "base_uri": "https://localhost:8080/"
        }
      },
      "source": [
        "fig,axs = plt.subplots(4,4,figsize=(10,10))\n",
        "for i,ax in enumerate(axs.ravel()):\n",
        "  plot_img(x[i],axs=axs[i//4,i%4],visible=False)"
      ],
      "execution_count": 0,
      "outputs": [
        {
          "output_type": "display_data",
          "data": {
            "image/png": "[encoded data removed]",
            "text/plain": [
              "<Figure size 720x720 with 16 Axes>"
            ]
          },
          "metadata": {
            "tags": []
          }
        }
      ]
    },
    {
      "cell_type": "markdown",
      "metadata": {
        "id": "IKjNFcvVcERa",
        "colab_type": "text"
      },
      "source": [
        "## Defining Model"
      ]
    },
    {
      "cell_type": "code",
      "metadata": {
        "id": "VEGgeKlrcQs1",
        "colab_type": "code",
        "colab": {}
      },
      "source": [
        "class Model(nn.Module):\n",
        "  def __init__(self,p=0.0,use_bias=True):\n",
        "    super().__init__()\n",
        "    self.alllyrs=nn.Sequential()\n",
        "    cblock1 = []\n",
        "    cblock1.append(nn.Sequential(*[nn.Conv2d(1,12,kernel_size=(3,3),stride=1,bias=use_bias),nn.ReLU()])) # output_size=26,RF=3\n",
        "    cblock1.append(nn.Sequential(*[nn.Conv2d(12,24,kernel_size=(3,3),stride=1,bias=use_bias),nn.ReLU()])) # output_size=24,RF=5\n",
        "    self.cblock1 = nn.Sequential(*cblock1)\n",
        "    tblock1=[]\n",
        "    tblock1.append(nn.MaxPool2d((2,2))) # output_size=12, RF=6\n",
        "    tblock1.append(nn.Sequential(*[nn.Conv2d(24,12,kernel_size=(1,1),stride=1,bias=use_bias),nn.ReLU()])) # output_size=12,RF=6\n",
        "    self.tblock1=nn.Sequential(*tblock1)\n",
        "    cblock2 = []\n",
        "    cblock2.append(nn.Sequential(*[nn.Conv2d(12,12,kernel_size=(3,3),stride=1,bias=use_bias),nn.ReLU()])) # output_size=10,RF=10\n",
        "    cblock2.append(nn.Sequential(*[nn.Conv2d(12,12,kernel_size=(3,3),stride=1,bias=use_bias),nn.ReLU()])) # output_size=8,RF=14\n",
        "    cblock2.append(nn.Sequential(*[nn.Conv2d(12,12,kernel_size=(3,3),stride=1,bias=use_bias),nn.ReLU()])) # output_size=6,RF=18\n",
        "    cblock2.append(nn.Sequential(*[nn.Conv2d(12,12,kernel_size=(3,3),stride=1,bias=use_bias),nn.ReLU()])) # output_size=4,RF=22\n",
        "    cblock2.append(nn.Sequential(*[nn.Conv2d(12,12,kernel_size=(3,3),stride=1,bias=use_bias),nn.ReLU()])) # output_size=4,RF=26\n",
        "\n",
        "    self.cblock2 = nn.Sequential(*cblock2)\n",
        "    tblock2=[]\n",
        "    tblock2.append(nn.AdaptiveAvgPool2d((1,1)))\n",
        "    tblock2.append(nn.Conv2d(12,10,kernel_size=(1,1),stride=1))\n",
        "    self.tblock2=nn.Sequential(*tblock2)\n",
        "  def forward(self,x):\n",
        "    x = self.cblock1(x)\n",
        "    x = self.tblock1(x)\n",
        "    x = self.cblock2(x)\n",
        "    x = self.tblock2(x)\n",
        "    return F.log_softmax(x).squeeze().squeeze()\n"
      ],
      "execution_count": 0,
      "outputs": []
    },
    {
      "cell_type": "code",
      "metadata": {
        "id": "PRTCWgbVpu9K",
        "colab_type": "code",
        "colab": {}
      },
      "source": [
        "mod=Model().cuda()"
      ],
      "execution_count": 0,
      "outputs": []
    },
    {
      "cell_type": "code",
      "metadata": {
        "id": "m9i8ofPWp1J4",
        "colab_type": "code",
        "colab": {}
      },
      "source": [
        "#mod"
      ],
      "execution_count": 0,
      "outputs": []
    },
    {
      "cell_type": "code",
      "metadata": {
        "id": "Lihiltakp1p3",
        "colab_type": "code",
        "outputId": "0c19a9c6-f681-4958-fa0b-a014aa5d72b2",
        "colab": {
          "base_uri": "https://localhost:8080/",
          "height": 591
        }
      },
      "source": [
        "summary(model=mod,input_size=(1,28,28))"
      ],
      "execution_count": 0,
      "outputs": [
        {
          "output_type": "stream",
          "text": [
            "----------------------------------------------------------------\n",
            "        Layer (type)               Output Shape         Param #\n",
            "================================================================\n",
            "            Conv2d-1           [-1, 12, 26, 26]             120\n",
            "              ReLU-2           [-1, 12, 26, 26]               0\n",
            "            Conv2d-3           [-1, 24, 24, 24]           2,616\n",
            "              ReLU-4           [-1, 24, 24, 24]               0\n",
            "         MaxPool2d-5           [-1, 24, 12, 12]               0\n",
            "            Conv2d-6           [-1, 12, 12, 12]             300\n",
            "              ReLU-7           [-1, 12, 12, 12]               0\n",
            "            Conv2d-8           [-1, 12, 10, 10]           1,308\n",
            "              ReLU-9           [-1, 12, 10, 10]               0\n",
            "           Conv2d-10             [-1, 12, 8, 8]           1,308\n",
            "             ReLU-11             [-1, 12, 8, 8]               0\n",
            "           Conv2d-12             [-1, 12, 6, 6]           1,308\n",
            "             ReLU-13             [-1, 12, 6, 6]               0\n",
            "           Conv2d-14             [-1, 12, 4, 4]           1,308\n",
            "             ReLU-15             [-1, 12, 4, 4]               0\n",
            "           Conv2d-16             [-1, 12, 2, 2]           1,308\n",
            "             ReLU-17             [-1, 12, 2, 2]               0\n",
            "AdaptiveAvgPool2d-18             [-1, 12, 1, 1]               0\n",
            "           Conv2d-19             [-1, 10, 1, 1]             130\n",
            "================================================================\n",
            "Total params: 9,706\n",
            "Trainable params: 9,706\n",
            "Non-trainable params: 0\n",
            "----------------------------------------------------------------\n",
            "Input size (MB): 0.00\n",
            "Forward/backward pass size (MB): 0.43\n",
            "Params size (MB): 0.04\n",
            "Estimated Total Size (MB): 0.47\n",
            "----------------------------------------------------------------\n"
          ],
          "name": "stdout"
        },
        {
          "output_type": "stream",
          "text": [
            "/usr/local/lib/python3.6/dist-packages/ipykernel_launcher.py:30: UserWarning: Implicit dimension choice for log_softmax has been deprecated. Change the call to include dim=X as an argument.\n"
          ],
          "name": "stderr"
        }
      ]
    },
    {
      "cell_type": "markdown",
      "metadata": {
        "id": "RgBuP1ygq83y",
        "colab_type": "text"
      },
      "source": [
        "## Training Loop Design"
      ]
    },
    {
      "cell_type": "code",
      "metadata": {
        "id": "zceBPFodrAKI",
        "colab_type": "code",
        "colab": {}
      },
      "source": [
        "# basic loop structure\n",
        "\n",
        "def one_epoch(model,trn_dl,val_dl,opt,device='cpu'):\n",
        "  # variables to keep track off during one epoch\n",
        "  bcount=0\n",
        "  tlosses=0\n",
        "  tacc=0\n",
        "  # put model in training mode\n",
        "  model.train()\n",
        "  # define a progress bar\n",
        "  pbar = tqdm(trn_dl)\n",
        "  # loop through every batch in dataloader\n",
        "  for batch_index,(xb,yb) in enumerate(pbar):\n",
        "    # move the data to cpu or gpu based on device arg\n",
        "    xb,yb=xb.to(device),yb.to(device)\n",
        "    bs = xb.shape[0]\n",
        "    # clean the gradients of parameters computed in the previous batch\n",
        "    opt.zero_grad()\n",
        "    # predict the batch\n",
        "    preds = model(xb)\n",
        "    # compute batch loss\n",
        "    loss = F.nll_loss(preds,yb)\n",
        "    # append the current loss to list\n",
        "    tlosses+=loss*bs\n",
        "    # call back propagation\n",
        "    loss.backward()\n",
        "    # call the optimization step\n",
        "    opt.step()\n",
        "    # compute the current model accuracy\n",
        "    y_preds=preds.argmax(dim=1,keepdim=True)\n",
        "    # compute current accuracy of the training batch and add it to the total count of accurate results\n",
        "    tacc+= y_preds.eq(yb.view_as(y_preds)).sum().item()\n",
        "    bcount+=bs\n",
        "    # add progress bar description with current batch loss and moving average of training accuracy\n",
        "    pbar.set_description(desc=f'Loss={loss.item():.3f} batch-index={batch_index} Accuracy={100*tacc/bcount:0.2f}')\n",
        "  \n",
        "  # compute the updated training loss and accuracy for entire batch\n",
        "  tlosses/=bcount\n",
        "  tacc/=bcount\n",
        "\n",
        "  # loop through validation data and compute the metrics on validation data\n",
        "  model.eval()\n",
        "  vloss=0\n",
        "  vacc=0\n",
        "  vcount=0\n",
        "  with torch.no_grad():\n",
        "    for xb,yb in tqdm(val_dl):\n",
        "      bs = xb.shape[0]\n",
        "      xb,yb = xb.to(device),yb.to(device)\n",
        "      preds = model(xb)\n",
        "      loss = F.nll_loss(preds,yb,reduction='sum')\n",
        "      y_preds = preds.argmax(dim=1,keepdim=True)\n",
        "      vacc+=y_preds.eq(yb.view_as(y_preds)).sum().item()\n",
        "      vcount+=bs\n",
        "      vloss+=loss.item()\n",
        "  vloss/=vcount\n",
        "  vacc/=vcount\n",
        "  return {'TrainingLoss':tlosses,'ValidationLoss':vloss,'TrainingAcc':tacc,'ValidationAcc':vacc}\n",
        "\n",
        "\n",
        "\n",
        "\n",
        "\n",
        "\n"
      ],
      "execution_count": 0,
      "outputs": []
    },
    {
      "cell_type": "markdown",
      "metadata": {
        "id": "qvjjTyy07bdr",
        "colab_type": "text"
      },
      "source": [
        "## Training the Model"
      ]
    },
    {
      "cell_type": "code",
      "metadata": {
        "id": "YSGGjnq8uS1U",
        "colab_type": "code",
        "outputId": "c3eec5ec-6d2d-4ef1-8d74-e54926be4429",
        "colab": {
          "base_uri": "https://localhost:8080/",
          "height": 1000
        }
      },
      "source": [
        "mod=Model().cuda()\n",
        "opt = optim.SGD(mod.parameters(),lr=0.05,momentum=0.9)\n",
        "for e in range(EPOCHS):\n",
        "  ldict=one_epoch(mod,train_dl,test_dl,opt,device=dev)\n",
        "  print(f'\\nEpoch:{e}--> Training Loss:{ldict[\"TrainingLoss\"]:.3f}, Validation Loss:{ldict[\"ValidationLoss\"]:.3f}\\n')\n",
        "  print(f'Training Accuracy:{100*ldict[\"TrainingAcc\"]:.3f}, Validation Accuracy:{100*ldict[\"ValidationAcc\"]:.3f}\\n')\n",
        "\n",
        "  "
      ],
      "execution_count": 0,
      "outputs": [
        {
          "output_type": "stream",
          "text": [
            "  0%|          | 0/469 [00:00<?, ?it/s]/usr/local/lib/python3.6/dist-packages/ipykernel_launcher.py:30: UserWarning: Implicit dimension choice for log_softmax has been deprecated. Change the call to include dim=X as an argument.\n",
            "Loss=0.291 batch-index=468 Accuracy=44.75: 100%|██████████| 469/469 [00:12<00:00, 38.31it/s]\n",
            "100%|██████████| 40/40 [00:01<00:00, 24.48it/s]\n",
            "  0%|          | 0/469 [00:00<?, ?it/s]"
          ],
          "name": "stderr"
        },
        {
          "output_type": "stream",
          "text": [
            "\n",
            "Epoch:0--> Training Loss:1.500, Validation Loss:0.220\n",
            "\n",
            "Training Accuracy:44.748, Validation Accuracy:92.990\n",
            "\n"
          ],
          "name": "stdout"
        },
        {
          "output_type": "stream",
          "text": [
            "Loss=0.114 batch-index=468 Accuracy=94.32: 100%|██████████| 469/469 [00:12<00:00, 38.77it/s]\n",
            "100%|██████████| 40/40 [00:01<00:00, 25.96it/s]\n",
            "  0%|          | 0/469 [00:00<?, ?it/s]"
          ],
          "name": "stderr"
        },
        {
          "output_type": "stream",
          "text": [
            "\n",
            "Epoch:1--> Training Loss:0.188, Validation Loss:0.105\n",
            "\n",
            "Training Accuracy:94.322, Validation Accuracy:96.720\n",
            "\n"
          ],
          "name": "stdout"
        },
        {
          "output_type": "stream",
          "text": [
            "Loss=0.147 batch-index=468 Accuracy=96.63: 100%|██████████| 469/469 [00:12<00:00, 38.41it/s]\n",
            "100%|██████████| 40/40 [00:01<00:00, 24.61it/s]\n",
            "  0%|          | 0/469 [00:00<?, ?it/s]"
          ],
          "name": "stderr"
        },
        {
          "output_type": "stream",
          "text": [
            "\n",
            "Epoch:2--> Training Loss:0.112, Validation Loss:0.100\n",
            "\n",
            "Training Accuracy:96.633, Validation Accuracy:96.920\n",
            "\n"
          ],
          "name": "stdout"
        },
        {
          "output_type": "stream",
          "text": [
            "Loss=0.055 batch-index=468 Accuracy=97.06: 100%|██████████| 469/469 [00:12<00:00, 37.38it/s]\n",
            "100%|██████████| 40/40 [00:01<00:00, 24.53it/s]\n",
            "  0%|          | 0/469 [00:00<?, ?it/s]"
          ],
          "name": "stderr"
        },
        {
          "output_type": "stream",
          "text": [
            "\n",
            "Epoch:3--> Training Loss:0.095, Validation Loss:0.081\n",
            "\n",
            "Training Accuracy:97.063, Validation Accuracy:97.410\n",
            "\n"
          ],
          "name": "stdout"
        },
        {
          "output_type": "stream",
          "text": [
            "Loss=0.043 batch-index=468 Accuracy=97.38: 100%|██████████| 469/469 [00:12<00:00, 37.54it/s]\n",
            "100%|██████████| 40/40 [00:01<00:00, 24.95it/s]\n",
            "  0%|          | 0/469 [00:00<?, ?it/s]"
          ],
          "name": "stderr"
        },
        {
          "output_type": "stream",
          "text": [
            "\n",
            "Epoch:4--> Training Loss:0.087, Validation Loss:0.076\n",
            "\n",
            "Training Accuracy:97.377, Validation Accuracy:97.760\n",
            "\n"
          ],
          "name": "stdout"
        },
        {
          "output_type": "stream",
          "text": [
            "Loss=0.044 batch-index=468 Accuracy=97.65: 100%|██████████| 469/469 [00:12<00:00, 37.57it/s]\n",
            "100%|██████████| 40/40 [00:01<00:00, 25.55it/s]\n",
            "  0%|          | 0/469 [00:00<?, ?it/s]"
          ],
          "name": "stderr"
        },
        {
          "output_type": "stream",
          "text": [
            "\n",
            "Epoch:5--> Training Loss:0.078, Validation Loss:0.085\n",
            "\n",
            "Training Accuracy:97.652, Validation Accuracy:97.610\n",
            "\n"
          ],
          "name": "stdout"
        },
        {
          "output_type": "stream",
          "text": [
            "Loss=0.045 batch-index=468 Accuracy=97.92: 100%|██████████| 469/469 [00:12<00:00, 38.74it/s]\n",
            "100%|██████████| 40/40 [00:01<00:00, 25.48it/s]\n",
            "  0%|          | 0/469 [00:00<?, ?it/s]"
          ],
          "name": "stderr"
        },
        {
          "output_type": "stream",
          "text": [
            "\n",
            "Epoch:6--> Training Loss:0.070, Validation Loss:0.063\n",
            "\n",
            "Training Accuracy:97.925, Validation Accuracy:98.140\n",
            "\n"
          ],
          "name": "stdout"
        },
        {
          "output_type": "stream",
          "text": [
            "Loss=0.078 batch-index=468 Accuracy=97.81: 100%|██████████| 469/469 [00:12<00:00, 38.19it/s]\n",
            "100%|██████████| 40/40 [00:01<00:00, 25.50it/s]\n",
            "  0%|          | 0/469 [00:00<?, ?it/s]"
          ],
          "name": "stderr"
        },
        {
          "output_type": "stream",
          "text": [
            "\n",
            "Epoch:7--> Training Loss:0.072, Validation Loss:0.078\n",
            "\n",
            "Training Accuracy:97.813, Validation Accuracy:97.730\n",
            "\n"
          ],
          "name": "stdout"
        },
        {
          "output_type": "stream",
          "text": [
            "Loss=0.023 batch-index=468 Accuracy=98.11: 100%|██████████| 469/469 [00:12<00:00, 37.74it/s]\n",
            "100%|██████████| 40/40 [00:01<00:00, 25.29it/s]\n",
            "  0%|          | 0/469 [00:00<?, ?it/s]"
          ],
          "name": "stderr"
        },
        {
          "output_type": "stream",
          "text": [
            "\n",
            "Epoch:8--> Training Loss:0.063, Validation Loss:0.060\n",
            "\n",
            "Training Accuracy:98.110, Validation Accuracy:98.280\n",
            "\n"
          ],
          "name": "stdout"
        },
        {
          "output_type": "stream",
          "text": [
            "Loss=0.051 batch-index=468 Accuracy=98.20: 100%|██████████| 469/469 [00:12<00:00, 37.68it/s]\n",
            "100%|██████████| 40/40 [00:01<00:00, 25.46it/s]\n",
            "  0%|          | 0/469 [00:00<?, ?it/s]"
          ],
          "name": "stderr"
        },
        {
          "output_type": "stream",
          "text": [
            "\n",
            "Epoch:9--> Training Loss:0.060, Validation Loss:0.059\n",
            "\n",
            "Training Accuracy:98.202, Validation Accuracy:98.220\n",
            "\n"
          ],
          "name": "stdout"
        },
        {
          "output_type": "stream",
          "text": [
            "Loss=0.109 batch-index=468 Accuracy=98.22: 100%|██████████| 469/469 [00:12<00:00, 38.81it/s]\n",
            "100%|██████████| 40/40 [00:01<00:00, 25.09it/s]\n",
            "  0%|          | 0/469 [00:00<?, ?it/s]"
          ],
          "name": "stderr"
        },
        {
          "output_type": "stream",
          "text": [
            "\n",
            "Epoch:10--> Training Loss:0.059, Validation Loss:0.062\n",
            "\n",
            "Training Accuracy:98.225, Validation Accuracy:98.120\n",
            "\n"
          ],
          "name": "stdout"
        },
        {
          "output_type": "stream",
          "text": [
            "Loss=0.027 batch-index=468 Accuracy=98.16: 100%|██████████| 469/469 [00:12<00:00, 38.53it/s]\n",
            "100%|██████████| 40/40 [00:01<00:00, 25.24it/s]\n",
            "  0%|          | 0/469 [00:00<?, ?it/s]"
          ],
          "name": "stderr"
        },
        {
          "output_type": "stream",
          "text": [
            "\n",
            "Epoch:11--> Training Loss:0.061, Validation Loss:0.066\n",
            "\n",
            "Training Accuracy:98.163, Validation Accuracy:97.980\n",
            "\n"
          ],
          "name": "stdout"
        },
        {
          "output_type": "stream",
          "text": [
            "Loss=0.053 batch-index=468 Accuracy=98.41: 100%|██████████| 469/469 [00:12<00:00, 37.71it/s]\n",
            "100%|██████████| 40/40 [00:01<00:00, 24.29it/s]\n",
            "  0%|          | 0/469 [00:00<?, ?it/s]"
          ],
          "name": "stderr"
        },
        {
          "output_type": "stream",
          "text": [
            "\n",
            "Epoch:12--> Training Loss:0.054, Validation Loss:0.065\n",
            "\n",
            "Training Accuracy:98.413, Validation Accuracy:98.220\n",
            "\n"
          ],
          "name": "stdout"
        },
        {
          "output_type": "stream",
          "text": [
            "Loss=0.035 batch-index=468 Accuracy=98.45: 100%|██████████| 469/469 [00:12<00:00, 37.84it/s]\n",
            "100%|██████████| 40/40 [00:01<00:00, 25.07it/s]\n",
            "  0%|          | 0/469 [00:00<?, ?it/s]"
          ],
          "name": "stderr"
        },
        {
          "output_type": "stream",
          "text": [
            "\n",
            "Epoch:13--> Training Loss:0.052, Validation Loss:0.049\n",
            "\n",
            "Training Accuracy:98.455, Validation Accuracy:98.500\n",
            "\n"
          ],
          "name": "stdout"
        },
        {
          "output_type": "stream",
          "text": [
            "Loss=0.021 batch-index=468 Accuracy=98.47: 100%|██████████| 469/469 [00:12<00:00, 38.04it/s]\n",
            "100%|██████████| 40/40 [00:01<00:00, 25.37it/s]"
          ],
          "name": "stderr"
        },
        {
          "output_type": "stream",
          "text": [
            "\n",
            "Epoch:14--> Training Loss:0.050, Validation Loss:0.063\n",
            "\n",
            "Training Accuracy:98.472, Validation Accuracy:98.200\n",
            "\n"
          ],
          "name": "stdout"
        },
        {
          "output_type": "stream",
          "text": [
            "\n"
          ],
          "name": "stderr"
        }
      ]
    },
    {
      "cell_type": "code",
      "metadata": {
        "id": "ijMc3zIOBOV9",
        "colab_type": "code",
        "colab": {}
      },
      "source": [
        ""
      ],
      "execution_count": 0,
      "outputs": []
    }
  ]
}